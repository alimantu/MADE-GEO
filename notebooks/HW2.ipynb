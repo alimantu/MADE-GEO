{
 "cells": [
  {
   "cell_type": "markdown",
   "metadata": {},
   "source": [
    "# Анализ пространственных данных. Домашнее задание №2"
   ]
  },
  {
   "cell_type": "markdown",
   "metadata": {},
   "source": [
    "Мягкий дедлайн: __4 ноября 2020 г. 23:59__\n",
    "\n",
    "Жесткий дедлайн (со штрафом в _50%_ от количества набранных вами за ДЗ баллов): __5 ноября 2020 г. 08:59__"
   ]
  },
  {
   "cell_type": "markdown",
   "metadata": {},
   "source": [
    "Визуализация \"чего-либо\" __без__ выполненного основного задания оценивается в __0 баллов__"
   ]
  },
  {
   "cell_type": "markdown",
   "metadata": {},
   "source": [
    "ФИО: `Салынский Александр Викторович`"
   ]
  },
  {
   "cell_type": "markdown",
   "metadata": {},
   "source": [
    "Группа: `DS-12`"
   ]
  },
  {
   "cell_type": "markdown",
   "metadata": {},
   "source": [
    "## Задание №1. Горячая точка (алгоритм - 10 баллов, визуализация - 10 баллов)."
   ]
  },
  {
   "cell_type": "markdown",
   "metadata": {},
   "source": [
    "Генерируйте рандомные точки на планете Земля до тех пор, пока не попадете на территорию ``Афганистана``"
   ]
  },
  {
   "cell_type": "markdown",
   "metadata": {},
   "source": [
    "1. Вы можете использовать функции принадлжености точки полигону и расстояния от точки до полигона (в метрах)\n",
    "2. Предложите не наивный алгоритм поиска (генерировать __напрямую__ точку из полигона границ Афганистана __запрещено__)"
   ]
  },
  {
   "cell_type": "code",
   "execution_count": 287,
   "metadata": {},
   "outputs": [],
   "source": [
    "from collections import OrderedDict\n",
    "\n",
    "from OSMPythonTools.nominatim import Nominatim\n",
    "from OSMPythonTools.overpass import overpassQueryBuilder, Overpass\n",
    "from OSMPythonTools.data import Data, ALL\n",
    "from shapely.geometry import Point\n",
    "import osmapi as osm\n",
    "from random import uniform\n",
    "from geopy.distance import distance, lonlat\n",
    "import re\n",
    "import geopandas as gpd\n",
    "import folium\n",
    "import pandas as pd\n",
    "\n",
    "api = osm.OsmApi(username='geo-course', \n",
    "                 password='5b3ce3597851110001cf6248053f97de5fd74d829d736d9dfa6d8fe4')\n",
    "\n",
    "world = gpd.read_file(gpd.datasets.get_path('naturalearth_lowres'))\n",
    "polygon_afg = world.loc[world.iso_a3 == 'AFG'].geometry.values[0]"
   ]
  },
  {
   "cell_type": "code",
   "execution_count": 87,
   "metadata": {},
   "outputs": [],
   "source": [
    "def find_min_dist(poly, point) -> float:\n",
    "    min_dist = 45_000\n",
    "    for coord in poly.exterior.coords:\n",
    "        min_dist = min(min_dist, distance(coord, (point.x, point.y)))\n",
    "    return min_dist\n",
    "\n",
    "used_points = []\n",
    "\n",
    "points = [{}, {}] \n",
    "points[0]['point'] = Point(-90, -180)\n",
    "points[1]['point'] = Point(90, 180)\n",
    "\n",
    "found = False\n",
    "if polygon_afg.contains(points[0]['point']):\n",
    "    found = True\n",
    "    point = points[0]['point']\n",
    "if polygon_afg.contains(points[1]['point']):\n",
    "    found = True\n",
    "    point = points[1]['point']\n",
    "\n",
    "points[0]['dist'] = find_min_dist(polygon_afg, points[0]['point'])\n",
    "points[1]['dist'] = find_min_dist(polygon_afg, points[1]['point'])\n",
    "\n",
    "used_points.append(points[0]['point'])\n",
    "used_points.append(points[1]['point'])\n",
    "\n",
    "while not found:\n",
    "    p_upd = 0\n",
    "    if points[0]['dist'] < points[1]['dist']:\n",
    "        p_upd = 1\n",
    "        \n",
    "    point_lat = Point((points[0]['point'].x + points[1]['point'].x) / 2, points[p_upd]['point'].y)\n",
    "    point_lon = Point(points[p_upd]['point'].x, (points[0]['point'].y + points[1]['point'].y) / 2)\n",
    "    dist_lon = find_min_dist(polygon_afg, point_lon)\n",
    "    dist_lat = find_min_dist(polygon_afg, point_lat)\n",
    "    \n",
    "    points[p_upd]['point'] = point_lon\n",
    "    points[p_upd]['dist'] = dist_lon\n",
    "    if dist_lon > dist_lat:\n",
    "        points[p_upd]['point'] = point_lat\n",
    "        points[p_upd]['dist'] = dist_lat\n",
    "        \n",
    "    if polygon_afg.contains(points[p_upd]['point']):\n",
    "        found = True\n",
    "        point = points[p_upd]['point']\n",
    "        \n",
    "    used_points.append(points[p_upd]['point'])"
   ]
  },
  {
   "cell_type": "code",
   "execution_count": 88,
   "metadata": {},
   "outputs": [
    {
     "name": "stdout",
     "output_type": "stream",
     "text": [
      "Central coordinates for AFG: (66.2385139, 33.7680065)\n"
     ]
    }
   ],
   "source": [
    "nominatim = Nominatim()\n",
    "area_id_af = nominatim.query('Afganistan').areaId()\n",
    "\n",
    "overpass = Overpass()\n",
    "query = overpassQueryBuilder(area=area_id_af, elementType='node', selector='\"place\"=\"country\"', out='body')\n",
    "center_node = overpass.query(query).nodes()[0]\n",
    "\n",
    "print(f'Central coordinates for AFG: {center_node.lon(), center_node.lat()}')"
   ]
  },
  {
   "cell_type": "code",
   "execution_count": 93,
   "metadata": {},
   "outputs": [
    {
     "data": {
      "text/html": [
       "<div style=\"width:100%;\"><div style=\"position:relative;width:100%;height:0;padding-bottom:60%;\"><span style=\"color:#565656\">Make this Notebook Trusted to load map: File -> Trust Notebook</span><iframe src=\"about:blank\" style=\"position:absolute;width:100%;height:100%;left:0;top:0;border:none !important;\" data-html=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 onload=\"this.contentDocument.open();this.contentDocument.write(atob(this.getAttribute('data-html')));this.contentDocument.close();\" allowfullscreen webkitallowfullscreen mozallowfullscreen></iframe></div></div>"
      ],
      "text/plain": [
       "<folium.folium.Map at 0x1e0e5def198>"
      ]
     },
     "execution_count": 93,
     "metadata": {},
     "output_type": "execute_result"
    }
   ],
   "source": [
    "m = folium.Map((center_node.lat(), center_node.lon()), \n",
    "               zoom_start=1, \n",
    "               tiles='Stamen Toner')\n",
    "\n",
    "tooltip = 'Check step'\n",
    "\n",
    "for i, point in enumerate(used_points):\n",
    "    folium.Marker([point.y, point.x], \n",
    "                  popup=f'<i>Point received on step: {i}</i>', \n",
    "                  tooltip=tooltip,\n",
    "                  icon=folium.Icon(color='red', icon='info-sign')).add_to(m)\n",
    "m"
   ]
  },
  {
   "cell_type": "markdown",
   "metadata": {},
   "source": [
    "Визуализируйте пошагово предложенный алгоритм при помощи ``Folium``"
   ]
  },
  {
   "cell_type": "markdown",
   "metadata": {},
   "source": [
    "## Задание №2. Качество жизни (20 баллов)."
   ]
  },
  {
   "cell_type": "markdown",
   "metadata": {},
   "source": [
    "Для измерения показателя качества жизни в точке, найденной в предыдущем задании, вам необходимо рассчитать следующую сумму расстояний (в метрах):"
   ]
  },
  {
   "cell_type": "markdown",
   "metadata": {},
   "source": [
    "1. Расстояние от точки до 5 ближайших __*__ банкоматов, находящихся в стране с наибольшим количеством объектов жилой недвижимости\n",
    "2. Расстояние от точки до 5 ближайших школ, находящихся в стране с наибольшим количеством аптек в столице\n",
    "3. Расстояние от точки до 5 ближайших кинотеатров, наодящихся в стране с самым большим отношением числа железнодорожных станций к автобусным остановкам в южной части __**__"
   ]
  },
  {
   "cell_type": "markdown",
   "metadata": {},
   "source": [
    "__*__ При поиске _N_ ближайших объектов обязательно использовать ``R-tree``\n",
    "\n",
    "__**__ Южной частью страны является территория, находящаяся к югу от множества точек, равноудаленных от самой северной и самой южной точек страны"
   ]
  },
  {
   "cell_type": "code",
   "execution_count": 117,
   "metadata": {},
   "outputs": [],
   "source": [
    "result = overpass.query('relation[\"admin_level\"=\"2\"][boundary=administrative]; out;')\n",
    "\n",
    "pattern = re.compile(r' -|— ')\n",
    "countries = []\n",
    "\n",
    "for rel in result.relations():\n",
    "    if not pattern.findall(rel.tag('name:en')) and not rel.id() % 10:\n",
    "        countries.append(rel)"
   ]
  },
  {
   "cell_type": "code",
   "execution_count": 219,
   "metadata": {},
   "outputs": [],
   "source": [
    "def count_residental_buildings(country) -> int:\n",
    "    query = overpassQueryBuilder(area=country.id() + 3_600_000_000,\n",
    "                                 elementType=['relation', 'way'],\n",
    "                                 selector=[f'\"building\"=\"residential\"',\n",
    "                                           f'\"building\"=\"apartments\"',\n",
    "                                           f'\"building\"=\"house\"'],\n",
    "                                 out='count')\n",
    "    return overpass.query(query, timeout=60).countElements()\n",
    "\n",
    "dimensions = OrderedDict({\n",
    "    'country': OrderedDict({\n",
    "        country.tag('name:en'): country\n",
    "        for country in countries\n",
    "    })\n",
    "})\n",
    "\n",
    "data = Data(count_residental_buildings, dimensions)\n",
    "\n",
    "country_1 = data.getDataFrame().sort_values('value', ascending=False).iloc[0].name\n",
    "country_1"
   ]
  },
  {
   "cell_type": "code",
   "execution_count": 273,
   "metadata": {},
   "outputs": [
    {
     "name": "stderr",
     "output_type": "stream",
     "text": [
      "[nominatim] downloading data: search\n",
      "[overpass] downloading data: [timeout:60][out:json];area(7200065606)->.searchArea;(node[\"amenity\"=\"atm\"](area.searchArea);way[\"amenity\"=\"atm\"](area.searchArea);); out body;\n"
     ]
    }
   ],
   "source": [
    "# Here I just failed - I have tried to use banks, ATM's and so on with different areas, but no luck.\n",
    "\n",
    "country_1_id = nominatim.query(country_1).areaId()\n",
    "query = overpassQueryBuilder(area=country_1_id + 3_600_000_000,\n",
    "                             elementType=['node', 'way'],\n",
    "                             selector=[f'\"amenity\"=\"atm\"'],\n",
    "                             out='body')\n",
    "res = overpass.query(query, timeout=60)"
   ]
  },
  {
   "cell_type": "code",
   "execution_count": 292,
   "metadata": {},
   "outputs": [
    {
     "name": "stderr",
     "output_type": "stream",
     "text": [
      "[overpass] downloading data: [timeout:60][out:json];area(3634567423)->.searchArea;(relation[\"amenity\"=\"صيدلية\"][\"amenity\"=\"farmacia\"][\"amenity\"=\"farmàcia\"][\"amenity\"=\"lékárna\"][\"amenity\"=\"apotek\"][\"amenity\"=\"apotheek\"][\"amenity\"=\"pharmacy\"][\"amenity\"=\"apteekki\"][\"amenity\"=\"pharmacie\"][\"amenity\"=\"Apotheke\"][\"amenity\"=\"gyógyszertár\"][\"amenity\"=\"farmacia\"][\"amenity\"=\"薬局\"][\"amenity\"=\"apteka\"][\"amenity\"=\"farmácia\"][\"amenity\"=\"аптека\"][\"amenity\"=\"lekáreň\"][\"amenity\"=\"farmacia\"][\"amenity\"=\"apotek\"][\"amenity\"=\"eczane\"][\"amenity\"=\"аптека\"][\"amenity\"=\"tiệm\"](area.searchArea);way[\"amenity\"=\"صيدلية\"][\"amenity\"=\"farmacia\"][\"amenity\"=\"farmàcia\"][\"amenity\"=\"lékárna\"][\"amenity\"=\"apotek\"][\"amenity\"=\"apotheek\"][\"amenity\"=\"pharmacy\"][\"amenity\"=\"apteekki\"][\"amenity\"=\"pharmacie\"][\"amenity\"=\"Apotheke\"][\"amenity\"=\"gyógyszertár\"][\"amenity\"=\"farmacia\"][\"amenity\"=\"薬局\"][\"amenity\"=\"apteka\"][\"amenity\"=\"farmácia\"][\"amenity\"=\"аптека\"][\"amenity\"=\"lekáreň\"][\"amenity\"=\"farmacia\"][\"amenity\"=\"apotek\"][\"amenity\"=\"eczane\"][\"amenity\"=\"аптека\"][\"amenity\"=\"tiệm\"](area.searchArea);); out count;\n",
      "[overpass] downloading data: [timeout:60][out:json];area(3629787492)->.searchArea;(relation[\"amenity\"=\"صيدلية\"][\"amenity\"=\"farmacia\"][\"amenity\"=\"farmàcia\"][\"amenity\"=\"lékárna\"][\"amenity\"=\"apotek\"][\"amenity\"=\"apotheek\"][\"amenity\"=\"pharmacy\"][\"amenity\"=\"apteekki\"][\"amenity\"=\"pharmacie\"][\"amenity\"=\"Apotheke\"][\"amenity\"=\"gyógyszertár\"][\"amenity\"=\"farmacia\"][\"amenity\"=\"薬局\"][\"amenity\"=\"apteka\"][\"amenity\"=\"farmácia\"][\"amenity\"=\"аптека\"][\"amenity\"=\"lekáreň\"][\"amenity\"=\"farmacia\"][\"amenity\"=\"apotek\"][\"amenity\"=\"eczane\"][\"amenity\"=\"аптека\"][\"amenity\"=\"tiệm\"](area.searchArea);way[\"amenity\"=\"صيدلية\"][\"amenity\"=\"farmacia\"][\"amenity\"=\"farmàcia\"][\"amenity\"=\"lékárna\"][\"amenity\"=\"apotek\"][\"amenity\"=\"apotheek\"][\"amenity\"=\"pharmacy\"][\"amenity\"=\"apteekki\"][\"amenity\"=\"pharmacie\"][\"amenity\"=\"Apotheke\"][\"amenity\"=\"gyógyszertár\"][\"amenity\"=\"farmacia\"][\"amenity\"=\"薬局\"][\"amenity\"=\"apteka\"][\"amenity\"=\"farmácia\"][\"amenity\"=\"аптека\"][\"amenity\"=\"lekáreň\"][\"amenity\"=\"farmacia\"][\"amenity\"=\"apotek\"][\"amenity\"=\"eczane\"][\"amenity\"=\"аптека\"][\"amenity\"=\"tiệm\"](area.searchArea);); out count;\n",
      "[overpass] downloading data: [timeout:60][out:json];area(3621674637)->.searchArea;(relation[\"amenity\"=\"صيدلية\"][\"amenity\"=\"farmacia\"][\"amenity\"=\"farmàcia\"][\"amenity\"=\"lékárna\"][\"amenity\"=\"apotek\"][\"amenity\"=\"apotheek\"][\"amenity\"=\"pharmacy\"][\"amenity\"=\"apteekki\"][\"amenity\"=\"pharmacie\"][\"amenity\"=\"Apotheke\"][\"amenity\"=\"gyógyszertár\"][\"amenity\"=\"farmacia\"][\"amenity\"=\"薬局\"][\"amenity\"=\"apteka\"][\"amenity\"=\"farmácia\"][\"amenity\"=\"аптека\"][\"amenity\"=\"lekáreň\"][\"amenity\"=\"farmacia\"][\"amenity\"=\"apotek\"][\"amenity\"=\"eczane\"][\"amenity\"=\"аптека\"][\"amenity\"=\"tiệm\"](area.searchArea);way[\"amenity\"=\"صيدلية\"][\"amenity\"=\"farmacia\"][\"amenity\"=\"farmàcia\"][\"amenity\"=\"lékárna\"][\"amenity\"=\"apotek\"][\"amenity\"=\"apotheek\"][\"amenity\"=\"pharmacy\"][\"amenity\"=\"apteekki\"][\"amenity\"=\"pharmacie\"][\"amenity\"=\"Apotheke\"][\"amenity\"=\"gyógyszertár\"][\"amenity\"=\"farmacia\"][\"amenity\"=\"薬局\"][\"amenity\"=\"apteka\"][\"amenity\"=\"farmácia\"][\"amenity\"=\"аптека\"][\"amenity\"=\"lekáreň\"][\"amenity\"=\"farmacia\"][\"amenity\"=\"apotek\"][\"amenity\"=\"eczane\"][\"amenity\"=\"аптека\"][\"amenity\"=\"tiệm\"](area.searchArea);); out count;\n",
      "[overpass] downloading data: [timeout:60][out:json];area(3843837793)->.searchArea;(relation[\"amenity\"=\"صيدلية\"][\"amenity\"=\"farmacia\"][\"amenity\"=\"farmàcia\"][\"amenity\"=\"lékárna\"][\"amenity\"=\"apotek\"][\"amenity\"=\"apotheek\"][\"amenity\"=\"pharmacy\"][\"amenity\"=\"apteekki\"][\"amenity\"=\"pharmacie\"][\"amenity\"=\"Apotheke\"][\"amenity\"=\"gyógyszertár\"][\"amenity\"=\"farmacia\"][\"amenity\"=\"薬局\"][\"amenity\"=\"apteka\"][\"amenity\"=\"farmácia\"][\"amenity\"=\"аптека\"][\"amenity\"=\"lekáreň\"][\"amenity\"=\"farmacia\"][\"amenity\"=\"apotek\"][\"amenity\"=\"eczane\"][\"amenity\"=\"аптека\"][\"amenity\"=\"tiệm\"](area.searchArea);way[\"amenity\"=\"صيدلية\"][\"amenity\"=\"farmacia\"][\"amenity\"=\"farmàcia\"][\"amenity\"=\"lékárna\"][\"amenity\"=\"apotek\"][\"amenity\"=\"apotheek\"][\"amenity\"=\"pharmacy\"][\"amenity\"=\"apteekki\"][\"amenity\"=\"pharmacie\"][\"amenity\"=\"Apotheke\"][\"amenity\"=\"gyógyszertár\"][\"amenity\"=\"farmacia\"][\"amenity\"=\"薬局\"][\"amenity\"=\"apteka\"][\"amenity\"=\"farmácia\"][\"amenity\"=\"аптека\"][\"amenity\"=\"lekáreň\"][\"amenity\"=\"farmacia\"][\"amenity\"=\"apotek\"][\"amenity\"=\"eczane\"][\"amenity\"=\"аптека\"][\"amenity\"=\"tiệm\"](area.searchArea);); out count;\n",
      "[overpass] downloading data: [timeout:60][out:json];area(7042474911)->.searchArea;(relation[\"amenity\"=\"صيدلية\"][\"amenity\"=\"farmacia\"][\"amenity\"=\"farmàcia\"][\"amenity\"=\"lékárna\"][\"amenity\"=\"apotek\"][\"amenity\"=\"apotheek\"][\"amenity\"=\"pharmacy\"][\"amenity\"=\"apteekki\"][\"amenity\"=\"pharmacie\"][\"amenity\"=\"Apotheke\"][\"amenity\"=\"gyógyszertár\"][\"amenity\"=\"farmacia\"][\"amenity\"=\"薬局\"][\"amenity\"=\"apteka\"][\"amenity\"=\"farmácia\"][\"amenity\"=\"аптека\"][\"amenity\"=\"lekáreň\"][\"amenity\"=\"farmacia\"][\"amenity\"=\"apotek\"][\"amenity\"=\"eczane\"][\"amenity\"=\"аптека\"][\"amenity\"=\"tiệm\"](area.searchArea);way[\"amenity\"=\"صيدلية\"][\"amenity\"=\"farmacia\"][\"amenity\"=\"farmàcia\"][\"amenity\"=\"lékárna\"][\"amenity\"=\"apotek\"][\"amenity\"=\"apotheek\"][\"amenity\"=\"pharmacy\"][\"amenity\"=\"apteekki\"][\"amenity\"=\"pharmacie\"][\"amenity\"=\"Apotheke\"][\"amenity\"=\"gyógyszertár\"][\"amenity\"=\"farmacia\"][\"amenity\"=\"薬局\"][\"amenity\"=\"apteka\"][\"amenity\"=\"farmácia\"][\"amenity\"=\"аптека\"][\"amenity\"=\"lekáreň\"][\"amenity\"=\"farmacia\"][\"amenity\"=\"apotek\"][\"amenity\"=\"eczane\"][\"amenity\"=\"аптека\"][\"amenity\"=\"tiệm\"](area.searchArea);); out count;\n",
      "[overpass] downloading data: [timeout:60][out:json];area(4691272140)->.searchArea;(relation[\"amenity\"=\"صيدلية\"][\"amenity\"=\"farmacia\"][\"amenity\"=\"farmàcia\"][\"amenity\"=\"lékárna\"][\"amenity\"=\"apotek\"][\"amenity\"=\"apotheek\"][\"amenity\"=\"pharmacy\"][\"amenity\"=\"apteekki\"][\"amenity\"=\"pharmacie\"][\"amenity\"=\"Apotheke\"][\"amenity\"=\"gyógyszertár\"][\"amenity\"=\"farmacia\"][\"amenity\"=\"薬局\"][\"amenity\"=\"apteka\"][\"amenity\"=\"farmácia\"][\"amenity\"=\"аптека\"][\"amenity\"=\"lekáreň\"][\"amenity\"=\"farmacia\"][\"amenity\"=\"apotek\"][\"amenity\"=\"eczane\"][\"amenity\"=\"аптека\"][\"amenity\"=\"tiệm\"](area.searchArea);way[\"amenity\"=\"صيدلية\"][\"amenity\"=\"farmacia\"][\"amenity\"=\"farmàcia\"][\"amenity\"=\"lékárna\"][\"amenity\"=\"apotek\"][\"amenity\"=\"apotheek\"][\"amenity\"=\"pharmacy\"][\"amenity\"=\"apteekki\"][\"amenity\"=\"pharmacie\"][\"amenity\"=\"Apotheke\"][\"amenity\"=\"gyógyszertár\"][\"amenity\"=\"farmacia\"][\"amenity\"=\"薬局\"][\"amenity\"=\"apteka\"][\"amenity\"=\"farmácia\"][\"amenity\"=\"аптека\"][\"amenity\"=\"lekáreň\"][\"amenity\"=\"farmacia\"][\"amenity\"=\"apotek\"][\"amenity\"=\"eczane\"][\"amenity\"=\"аптека\"][\"amenity\"=\"tiệm\"](area.searchArea);); out count;\n",
      "[overpass] downloading data: [timeout:60][out:json];area(3627564980)->.searchArea;(relation[\"amenity\"=\"صيدلية\"][\"amenity\"=\"farmacia\"][\"amenity\"=\"farmàcia\"][\"amenity\"=\"lékárna\"][\"amenity\"=\"apotek\"][\"amenity\"=\"apotheek\"][\"amenity\"=\"pharmacy\"][\"amenity\"=\"apteekki\"][\"amenity\"=\"pharmacie\"][\"amenity\"=\"Apotheke\"][\"amenity\"=\"gyógyszertár\"][\"amenity\"=\"farmacia\"][\"amenity\"=\"薬局\"][\"amenity\"=\"apteka\"][\"amenity\"=\"farmácia\"][\"amenity\"=\"аптека\"][\"amenity\"=\"lekáreň\"][\"amenity\"=\"farmacia\"][\"amenity\"=\"apotek\"][\"amenity\"=\"eczane\"][\"amenity\"=\"аптека\"][\"amenity\"=\"tiệm\"](area.searchArea);way[\"amenity\"=\"صيدلية\"][\"amenity\"=\"farmacia\"][\"amenity\"=\"farmàcia\"][\"amenity\"=\"lékárna\"][\"amenity\"=\"apotek\"][\"amenity\"=\"apotheek\"][\"amenity\"=\"pharmacy\"][\"amenity\"=\"apteekki\"][\"amenity\"=\"pharmacie\"][\"amenity\"=\"Apotheke\"][\"amenity\"=\"gyógyszertár\"][\"amenity\"=\"farmacia\"][\"amenity\"=\"薬局\"][\"amenity\"=\"apteka\"][\"amenity\"=\"farmácia\"][\"amenity\"=\"аптека\"][\"amenity\"=\"lekáreň\"][\"amenity\"=\"farmacia\"][\"amenity\"=\"apotek\"][\"amenity\"=\"eczane\"][\"amenity\"=\"аптека\"][\"amenity\"=\"tiệm\"](area.searchArea);); out count;\n",
      "[overpass] downloading data: [timeout:60][out:json];area(3627564988)->.searchArea;(relation[\"amenity\"=\"صيدلية\"][\"amenity\"=\"farmacia\"][\"amenity\"=\"farmàcia\"][\"amenity\"=\"lékárna\"][\"amenity\"=\"apotek\"][\"amenity\"=\"apotheek\"][\"amenity\"=\"pharmacy\"][\"amenity\"=\"apteekki\"][\"amenity\"=\"pharmacie\"][\"amenity\"=\"Apotheke\"][\"amenity\"=\"gyógyszertár\"][\"amenity\"=\"farmacia\"][\"amenity\"=\"薬局\"][\"amenity\"=\"apteka\"][\"amenity\"=\"farmácia\"][\"amenity\"=\"аптека\"][\"amenity\"=\"lekáreň\"][\"amenity\"=\"farmacia\"][\"amenity\"=\"apotek\"][\"amenity\"=\"eczane\"][\"amenity\"=\"аптека\"][\"amenity\"=\"tiệm\"](area.searchArea);way[\"amenity\"=\"صيدلية\"][\"amenity\"=\"farmacia\"][\"amenity\"=\"farmàcia\"][\"amenity\"=\"lékárna\"][\"amenity\"=\"apotek\"][\"amenity\"=\"apotheek\"][\"amenity\"=\"pharmacy\"][\"amenity\"=\"apteekki\"][\"amenity\"=\"pharmacie\"][\"amenity\"=\"Apotheke\"][\"amenity\"=\"gyógyszertár\"][\"amenity\"=\"farmacia\"][\"amenity\"=\"薬局\"][\"amenity\"=\"apteka\"][\"amenity\"=\"farmácia\"][\"amenity\"=\"аптека\"][\"amenity\"=\"lekáreň\"][\"amenity\"=\"farmacia\"][\"amenity\"=\"apotek\"][\"amenity\"=\"eczane\"][\"amenity\"=\"аптека\"][\"amenity\"=\"tiệm\"](area.searchArea);); out count;\n"
     ]
    },
    {
     "name": "stderr",
     "output_type": "stream",
     "text": [
      "[overpass] downloading data: [timeout:60][out:json];area(3627565076)->.searchArea;(relation[\"amenity\"=\"صيدلية\"][\"amenity\"=\"farmacia\"][\"amenity\"=\"farmàcia\"][\"amenity\"=\"lékárna\"][\"amenity\"=\"apotek\"][\"amenity\"=\"apotheek\"][\"amenity\"=\"pharmacy\"][\"amenity\"=\"apteekki\"][\"amenity\"=\"pharmacie\"][\"amenity\"=\"Apotheke\"][\"amenity\"=\"gyógyszertár\"][\"amenity\"=\"farmacia\"][\"amenity\"=\"薬局\"][\"amenity\"=\"apteka\"][\"amenity\"=\"farmácia\"][\"amenity\"=\"аптека\"][\"amenity\"=\"lekáreň\"][\"amenity\"=\"farmacia\"][\"amenity\"=\"apotek\"][\"amenity\"=\"eczane\"][\"amenity\"=\"аптека\"][\"amenity\"=\"tiệm\"](area.searchArea);way[\"amenity\"=\"صيدلية\"][\"amenity\"=\"farmacia\"][\"amenity\"=\"farmàcia\"][\"amenity\"=\"lékárna\"][\"amenity\"=\"apotek\"][\"amenity\"=\"apotheek\"][\"amenity\"=\"pharmacy\"][\"amenity\"=\"apteekki\"][\"amenity\"=\"pharmacie\"][\"amenity\"=\"Apotheke\"][\"amenity\"=\"gyógyszertár\"][\"amenity\"=\"farmacia\"][\"amenity\"=\"薬局\"][\"amenity\"=\"apteka\"][\"amenity\"=\"farmácia\"][\"amenity\"=\"аптека\"][\"amenity\"=\"lekáreň\"][\"amenity\"=\"farmacia\"][\"amenity\"=\"apotek\"][\"amenity\"=\"eczane\"][\"amenity\"=\"аптека\"][\"amenity\"=\"tiệm\"](area.searchArea);); out count;\n",
      "[overpass] downloading data: [timeout:60][out:json];area(3931136682)->.searchArea;(relation[\"amenity\"=\"صيدلية\"][\"amenity\"=\"farmacia\"][\"amenity\"=\"farmàcia\"][\"amenity\"=\"lékárna\"][\"amenity\"=\"apotek\"][\"amenity\"=\"apotheek\"][\"amenity\"=\"pharmacy\"][\"amenity\"=\"apteekki\"][\"amenity\"=\"pharmacie\"][\"amenity\"=\"Apotheke\"][\"amenity\"=\"gyógyszertár\"][\"amenity\"=\"farmacia\"][\"amenity\"=\"薬局\"][\"amenity\"=\"apteka\"][\"amenity\"=\"farmácia\"][\"amenity\"=\"аптека\"][\"amenity\"=\"lekáreň\"][\"amenity\"=\"farmacia\"][\"amenity\"=\"apotek\"][\"amenity\"=\"eczane\"][\"amenity\"=\"аптека\"][\"amenity\"=\"tiệm\"](area.searchArea);way[\"amenity\"=\"صيدلية\"][\"amenity\"=\"farmacia\"][\"amenity\"=\"farmàcia\"][\"amenity\"=\"lékárna\"][\"amenity\"=\"apotek\"][\"amenity\"=\"apotheek\"][\"amenity\"=\"pharmacy\"][\"amenity\"=\"apteekki\"][\"amenity\"=\"pharmacie\"][\"amenity\"=\"Apotheke\"][\"amenity\"=\"gyógyszertár\"][\"amenity\"=\"farmacia\"][\"amenity\"=\"薬局\"][\"amenity\"=\"apteka\"][\"amenity\"=\"farmácia\"][\"amenity\"=\"аптека\"][\"amenity\"=\"lekáreň\"][\"amenity\"=\"farmacia\"][\"amenity\"=\"apotek\"][\"amenity\"=\"eczane\"][\"amenity\"=\"аптека\"][\"amenity\"=\"tiệm\"](area.searchArea);); out count;\n",
      "[overpass] downloading data: [timeout:60][out:json];area(3687841198)->.searchArea;(relation[\"amenity\"=\"صيدلية\"][\"amenity\"=\"farmacia\"][\"amenity\"=\"farmàcia\"][\"amenity\"=\"lékárna\"][\"amenity\"=\"apotek\"][\"amenity\"=\"apotheek\"][\"amenity\"=\"pharmacy\"][\"amenity\"=\"apteekki\"][\"amenity\"=\"pharmacie\"][\"amenity\"=\"Apotheke\"][\"amenity\"=\"gyógyszertár\"][\"amenity\"=\"farmacia\"][\"amenity\"=\"薬局\"][\"amenity\"=\"apteka\"][\"amenity\"=\"farmácia\"][\"amenity\"=\"аптека\"][\"amenity\"=\"lekáreň\"][\"amenity\"=\"farmacia\"][\"amenity\"=\"apotek\"][\"amenity\"=\"eczane\"][\"amenity\"=\"аптека\"][\"amenity\"=\"tiệm\"](area.searchArea);way[\"amenity\"=\"صيدلية\"][\"amenity\"=\"farmacia\"][\"amenity\"=\"farmàcia\"][\"amenity\"=\"lékárna\"][\"amenity\"=\"apotek\"][\"amenity\"=\"apotheek\"][\"amenity\"=\"pharmacy\"][\"amenity\"=\"apteekki\"][\"amenity\"=\"pharmacie\"][\"amenity\"=\"Apotheke\"][\"amenity\"=\"gyógyszertár\"][\"amenity\"=\"farmacia\"][\"amenity\"=\"薬局\"][\"amenity\"=\"apteka\"][\"amenity\"=\"farmácia\"][\"amenity\"=\"аптека\"][\"amenity\"=\"lekáreň\"][\"amenity\"=\"farmacia\"][\"amenity\"=\"apotek\"][\"amenity\"=\"eczane\"][\"amenity\"=\"аптека\"][\"amenity\"=\"tiệm\"](area.searchArea);); out count;\n",
      "[overpass] downloading data: [timeout:60][out:json];area(10365699485)->.searchArea;(relation[\"amenity\"=\"صيدلية\"][\"amenity\"=\"farmacia\"][\"amenity\"=\"farmàcia\"][\"amenity\"=\"lékárna\"][\"amenity\"=\"apotek\"][\"amenity\"=\"apotheek\"][\"amenity\"=\"pharmacy\"][\"amenity\"=\"apteekki\"][\"amenity\"=\"pharmacie\"][\"amenity\"=\"Apotheke\"][\"amenity\"=\"gyógyszertár\"][\"amenity\"=\"farmacia\"][\"amenity\"=\"薬局\"][\"amenity\"=\"apteka\"][\"amenity\"=\"farmácia\"][\"amenity\"=\"аптека\"][\"amenity\"=\"lekáreň\"][\"amenity\"=\"farmacia\"][\"amenity\"=\"apotek\"][\"amenity\"=\"eczane\"][\"amenity\"=\"аптека\"][\"amenity\"=\"tiệm\"](area.searchArea);way[\"amenity\"=\"صيدلية\"][\"amenity\"=\"farmacia\"][\"amenity\"=\"farmàcia\"][\"amenity\"=\"lékárna\"][\"amenity\"=\"apotek\"][\"amenity\"=\"apotheek\"][\"amenity\"=\"pharmacy\"][\"amenity\"=\"apteekki\"][\"amenity\"=\"pharmacie\"][\"amenity\"=\"Apotheke\"][\"amenity\"=\"gyógyszertár\"][\"amenity\"=\"farmacia\"][\"amenity\"=\"薬局\"][\"amenity\"=\"apteka\"][\"amenity\"=\"farmácia\"][\"amenity\"=\"аптека\"][\"amenity\"=\"lekáreň\"][\"amenity\"=\"farmacia\"][\"amenity\"=\"apotek\"][\"amenity\"=\"eczane\"][\"amenity\"=\"аптека\"][\"amenity\"=\"tiệm\"](area.searchArea);); out count;\n",
      "[overpass] downloading data: [timeout:60][out:json];area(3627524773)->.searchArea;(relation[\"amenity\"=\"صيدلية\"][\"amenity\"=\"farmacia\"][\"amenity\"=\"farmàcia\"][\"amenity\"=\"lékárna\"][\"amenity\"=\"apotek\"][\"amenity\"=\"apotheek\"][\"amenity\"=\"pharmacy\"][\"amenity\"=\"apteekki\"][\"amenity\"=\"pharmacie\"][\"amenity\"=\"Apotheke\"][\"amenity\"=\"gyógyszertár\"][\"amenity\"=\"farmacia\"][\"amenity\"=\"薬局\"][\"amenity\"=\"apteka\"][\"amenity\"=\"farmácia\"][\"amenity\"=\"аптека\"][\"amenity\"=\"lekáreň\"][\"amenity\"=\"farmacia\"][\"amenity\"=\"apotek\"][\"amenity\"=\"eczane\"][\"amenity\"=\"аптека\"][\"amenity\"=\"tiệm\"](area.searchArea);way[\"amenity\"=\"صيدلية\"][\"amenity\"=\"farmacia\"][\"amenity\"=\"farmàcia\"][\"amenity\"=\"lékárna\"][\"amenity\"=\"apotek\"][\"amenity\"=\"apotheek\"][\"amenity\"=\"pharmacy\"][\"amenity\"=\"apteekki\"][\"amenity\"=\"pharmacie\"][\"amenity\"=\"Apotheke\"][\"amenity\"=\"gyógyszertár\"][\"amenity\"=\"farmacia\"][\"amenity\"=\"薬局\"][\"amenity\"=\"apteka\"][\"amenity\"=\"farmácia\"][\"amenity\"=\"аптека\"][\"amenity\"=\"lekáreň\"][\"amenity\"=\"farmacia\"][\"amenity\"=\"apotek\"][\"amenity\"=\"eczane\"][\"amenity\"=\"аптека\"][\"amenity\"=\"tiệm\"](area.searchArea);); out count;\n",
      "[overpass] downloading data: [timeout:60][out:json];area(3905138115)->.searchArea;(relation[\"amenity\"=\"صيدلية\"][\"amenity\"=\"farmacia\"][\"amenity\"=\"farmàcia\"][\"amenity\"=\"lékárna\"][\"amenity\"=\"apotek\"][\"amenity\"=\"apotheek\"][\"amenity\"=\"pharmacy\"][\"amenity\"=\"apteekki\"][\"amenity\"=\"pharmacie\"][\"amenity\"=\"Apotheke\"][\"amenity\"=\"gyógyszertár\"][\"amenity\"=\"farmacia\"][\"amenity\"=\"薬局\"][\"amenity\"=\"apteka\"][\"amenity\"=\"farmácia\"][\"amenity\"=\"аптека\"][\"amenity\"=\"lekáreň\"][\"amenity\"=\"farmacia\"][\"amenity\"=\"apotek\"][\"amenity\"=\"eczane\"][\"amenity\"=\"аптека\"][\"amenity\"=\"tiệm\"](area.searchArea);way[\"amenity\"=\"صيدلية\"][\"amenity\"=\"farmacia\"][\"amenity\"=\"farmàcia\"][\"amenity\"=\"lékárna\"][\"amenity\"=\"apotek\"][\"amenity\"=\"apotheek\"][\"amenity\"=\"pharmacy\"][\"amenity\"=\"apteekki\"][\"amenity\"=\"pharmacie\"][\"amenity\"=\"Apotheke\"][\"amenity\"=\"gyógyszertár\"][\"amenity\"=\"farmacia\"][\"amenity\"=\"薬局\"][\"amenity\"=\"apteka\"][\"amenity\"=\"farmácia\"][\"amenity\"=\"аптека\"][\"amenity\"=\"lekáreň\"][\"amenity\"=\"farmacia\"][\"amenity\"=\"apotek\"][\"amenity\"=\"eczane\"][\"amenity\"=\"аптека\"][\"amenity\"=\"tiệm\"](area.searchArea);); out count;\n",
      "[overpass] downloading data: [timeout:60][out:json];area(3865958490)->.searchArea;(relation[\"amenity\"=\"صيدلية\"][\"amenity\"=\"farmacia\"][\"amenity\"=\"farmàcia\"][\"amenity\"=\"lékárna\"][\"amenity\"=\"apotek\"][\"amenity\"=\"apotheek\"][\"amenity\"=\"pharmacy\"][\"amenity\"=\"apteekki\"][\"amenity\"=\"pharmacie\"][\"amenity\"=\"Apotheke\"][\"amenity\"=\"gyógyszertár\"][\"amenity\"=\"farmacia\"][\"amenity\"=\"薬局\"][\"amenity\"=\"apteka\"][\"amenity\"=\"farmácia\"][\"amenity\"=\"аптека\"][\"amenity\"=\"lekáreň\"][\"amenity\"=\"farmacia\"][\"amenity\"=\"apotek\"][\"amenity\"=\"eczane\"][\"amenity\"=\"аптека\"][\"amenity\"=\"tiệm\"](area.searchArea);way[\"amenity\"=\"صيدلية\"][\"amenity\"=\"farmacia\"][\"amenity\"=\"farmàcia\"][\"amenity\"=\"lékárna\"][\"amenity\"=\"apotek\"][\"amenity\"=\"apotheek\"][\"amenity\"=\"pharmacy\"][\"amenity\"=\"apteekki\"][\"amenity\"=\"pharmacie\"][\"amenity\"=\"Apotheke\"][\"amenity\"=\"gyógyszertár\"][\"amenity\"=\"farmacia\"][\"amenity\"=\"薬局\"][\"amenity\"=\"apteka\"][\"amenity\"=\"farmácia\"][\"amenity\"=\"аптека\"][\"amenity\"=\"lekáreň\"][\"amenity\"=\"farmacia\"][\"amenity\"=\"apotek\"][\"amenity\"=\"eczane\"][\"amenity\"=\"аптека\"][\"amenity\"=\"tiệm\"](area.searchArea);); out count;\n",
      "[overpass] downloading data: [timeout:60][out:json];area(5717350415)->.searchArea;(relation[\"amenity\"=\"صيدلية\"][\"amenity\"=\"farmacia\"][\"amenity\"=\"farmàcia\"][\"amenity\"=\"lékárna\"][\"amenity\"=\"apotek\"][\"amenity\"=\"apotheek\"][\"amenity\"=\"pharmacy\"][\"amenity\"=\"apteekki\"][\"amenity\"=\"pharmacie\"][\"amenity\"=\"Apotheke\"][\"amenity\"=\"gyógyszertár\"][\"amenity\"=\"farmacia\"][\"amenity\"=\"薬局\"][\"amenity\"=\"apteka\"][\"amenity\"=\"farmácia\"][\"amenity\"=\"аптека\"][\"amenity\"=\"lekáreň\"][\"amenity\"=\"farmacia\"][\"amenity\"=\"apotek\"][\"amenity\"=\"eczane\"][\"amenity\"=\"аптека\"][\"amenity\"=\"tiệm\"](area.searchArea);way[\"amenity\"=\"صيدلية\"][\"amenity\"=\"farmacia\"][\"amenity\"=\"farmàcia\"][\"amenity\"=\"lékárna\"][\"amenity\"=\"apotek\"][\"amenity\"=\"apotheek\"][\"amenity\"=\"pharmacy\"][\"amenity\"=\"apteekki\"][\"amenity\"=\"pharmacie\"][\"amenity\"=\"Apotheke\"][\"amenity\"=\"gyógyszertár\"][\"amenity\"=\"farmacia\"][\"amenity\"=\"薬局\"][\"amenity\"=\"apteka\"][\"amenity\"=\"farmácia\"][\"amenity\"=\"аптека\"][\"amenity\"=\"lekáreň\"][\"amenity\"=\"farmacia\"][\"amenity\"=\"apotek\"][\"amenity\"=\"eczane\"][\"amenity\"=\"аптека\"][\"amenity\"=\"tiệm\"](area.searchArea);); out count;\n"
     ]
    },
    {
     "name": "stderr",
     "output_type": "stream",
     "text": [
      "[overpass] downloading data: [timeout:60][out:json];area(4747314253)->.searchArea;(relation[\"amenity\"=\"صيدلية\"][\"amenity\"=\"farmacia\"][\"amenity\"=\"farmàcia\"][\"amenity\"=\"lékárna\"][\"amenity\"=\"apotek\"][\"amenity\"=\"apotheek\"][\"amenity\"=\"pharmacy\"][\"amenity\"=\"apteekki\"][\"amenity\"=\"pharmacie\"][\"amenity\"=\"Apotheke\"][\"amenity\"=\"gyógyszertár\"][\"amenity\"=\"farmacia\"][\"amenity\"=\"薬局\"][\"amenity\"=\"apteka\"][\"amenity\"=\"farmácia\"][\"amenity\"=\"аптека\"][\"amenity\"=\"lekáreň\"][\"amenity\"=\"farmacia\"][\"amenity\"=\"apotek\"][\"amenity\"=\"eczane\"][\"amenity\"=\"аптека\"][\"amenity\"=\"tiệm\"](area.searchArea);way[\"amenity\"=\"صيدلية\"][\"amenity\"=\"farmacia\"][\"amenity\"=\"farmàcia\"][\"amenity\"=\"lékárna\"][\"amenity\"=\"apotek\"][\"amenity\"=\"apotheek\"][\"amenity\"=\"pharmacy\"][\"amenity\"=\"apteekki\"][\"amenity\"=\"pharmacie\"][\"amenity\"=\"Apotheke\"][\"amenity\"=\"gyógyszertár\"][\"amenity\"=\"farmacia\"][\"amenity\"=\"薬局\"][\"amenity\"=\"apteka\"][\"amenity\"=\"farmácia\"][\"amenity\"=\"аптека\"][\"amenity\"=\"lekáreň\"][\"amenity\"=\"farmacia\"][\"amenity\"=\"apotek\"][\"amenity\"=\"eczane\"][\"amenity\"=\"аптека\"][\"amenity\"=\"tiệm\"](area.searchArea);); out count;\n",
      "[overpass] downloading data: [timeout:60][out:json];area(3939324562)->.searchArea;(relation[\"amenity\"=\"صيدلية\"][\"amenity\"=\"farmacia\"][\"amenity\"=\"farmàcia\"][\"amenity\"=\"lékárna\"][\"amenity\"=\"apotek\"][\"amenity\"=\"apotheek\"][\"amenity\"=\"pharmacy\"][\"amenity\"=\"apteekki\"][\"amenity\"=\"pharmacie\"][\"amenity\"=\"Apotheke\"][\"amenity\"=\"gyógyszertár\"][\"amenity\"=\"farmacia\"][\"amenity\"=\"薬局\"][\"amenity\"=\"apteka\"][\"amenity\"=\"farmácia\"][\"amenity\"=\"аптека\"][\"amenity\"=\"lekáreň\"][\"amenity\"=\"farmacia\"][\"amenity\"=\"apotek\"][\"amenity\"=\"eczane\"][\"amenity\"=\"аптека\"][\"amenity\"=\"tiệm\"](area.searchArea);way[\"amenity\"=\"صيدلية\"][\"amenity\"=\"farmacia\"][\"amenity\"=\"farmàcia\"][\"amenity\"=\"lékárna\"][\"amenity\"=\"apotek\"][\"amenity\"=\"apotheek\"][\"amenity\"=\"pharmacy\"][\"amenity\"=\"apteekki\"][\"amenity\"=\"pharmacie\"][\"amenity\"=\"Apotheke\"][\"amenity\"=\"gyógyszertár\"][\"amenity\"=\"farmacia\"][\"amenity\"=\"薬局\"][\"amenity\"=\"apteka\"][\"amenity\"=\"farmácia\"][\"amenity\"=\"аптека\"][\"amenity\"=\"lekáreň\"][\"amenity\"=\"farmacia\"][\"amenity\"=\"apotek\"][\"amenity\"=\"eczane\"][\"amenity\"=\"аптека\"][\"amenity\"=\"tiệm\"](area.searchArea);); out count;\n",
      "[overpass] downloading data: [timeout:60][out:json];area(3895342933)->.searchArea;(relation[\"amenity\"=\"صيدلية\"][\"amenity\"=\"farmacia\"][\"amenity\"=\"farmàcia\"][\"amenity\"=\"lékárna\"][\"amenity\"=\"apotek\"][\"amenity\"=\"apotheek\"][\"amenity\"=\"pharmacy\"][\"amenity\"=\"apteekki\"][\"amenity\"=\"pharmacie\"][\"amenity\"=\"Apotheke\"][\"amenity\"=\"gyógyszertár\"][\"amenity\"=\"farmacia\"][\"amenity\"=\"薬局\"][\"amenity\"=\"apteka\"][\"amenity\"=\"farmácia\"][\"amenity\"=\"аптека\"][\"amenity\"=\"lekáreň\"][\"amenity\"=\"farmacia\"][\"amenity\"=\"apotek\"][\"amenity\"=\"eczane\"][\"amenity\"=\"аптека\"][\"amenity\"=\"tiệm\"](area.searchArea);way[\"amenity\"=\"صيدلية\"][\"amenity\"=\"farmacia\"][\"amenity\"=\"farmàcia\"][\"amenity\"=\"lékárna\"][\"amenity\"=\"apotek\"][\"amenity\"=\"apotheek\"][\"amenity\"=\"pharmacy\"][\"amenity\"=\"apteekki\"][\"amenity\"=\"pharmacie\"][\"amenity\"=\"Apotheke\"][\"amenity\"=\"gyógyszertár\"][\"amenity\"=\"farmacia\"][\"amenity\"=\"薬局\"][\"amenity\"=\"apteka\"][\"amenity\"=\"farmácia\"][\"amenity\"=\"аптека\"][\"amenity\"=\"lekáreň\"][\"amenity\"=\"farmacia\"][\"amenity\"=\"apotek\"][\"amenity\"=\"eczane\"][\"amenity\"=\"аптека\"][\"amenity\"=\"tiệm\"](area.searchArea);); out count;\n",
      "[overpass] downloading data: [timeout:60][out:json];area(3601769123)->.searchArea;(relation[\"amenity\"=\"صيدلية\"][\"amenity\"=\"farmacia\"][\"amenity\"=\"farmàcia\"][\"amenity\"=\"lékárna\"][\"amenity\"=\"apotek\"][\"amenity\"=\"apotheek\"][\"amenity\"=\"pharmacy\"][\"amenity\"=\"apteekki\"][\"amenity\"=\"pharmacie\"][\"amenity\"=\"Apotheke\"][\"amenity\"=\"gyógyszertár\"][\"amenity\"=\"farmacia\"][\"amenity\"=\"薬局\"][\"amenity\"=\"apteka\"][\"amenity\"=\"farmácia\"][\"amenity\"=\"аптека\"][\"amenity\"=\"lekáreň\"][\"amenity\"=\"farmacia\"][\"amenity\"=\"apotek\"][\"amenity\"=\"eczane\"][\"amenity\"=\"аптека\"][\"amenity\"=\"tiệm\"](area.searchArea);way[\"amenity\"=\"صيدلية\"][\"amenity\"=\"farmacia\"][\"amenity\"=\"farmàcia\"][\"amenity\"=\"lékárna\"][\"amenity\"=\"apotek\"][\"amenity\"=\"apotheek\"][\"amenity\"=\"pharmacy\"][\"amenity\"=\"apteekki\"][\"amenity\"=\"pharmacie\"][\"amenity\"=\"Apotheke\"][\"amenity\"=\"gyógyszertár\"][\"amenity\"=\"farmacia\"][\"amenity\"=\"薬局\"][\"amenity\"=\"apteka\"][\"amenity\"=\"farmácia\"][\"amenity\"=\"аптека\"][\"amenity\"=\"lekáreň\"][\"amenity\"=\"farmacia\"][\"amenity\"=\"apotek\"][\"amenity\"=\"eczane\"][\"amenity\"=\"аптека\"][\"amenity\"=\"tiệm\"](area.searchArea);); out count;\n",
      "[overpass] downloading data: [timeout:60][out:json];area(4025746989)->.searchArea;(relation[\"amenity\"=\"صيدلية\"][\"amenity\"=\"farmacia\"][\"amenity\"=\"farmàcia\"][\"amenity\"=\"lékárna\"][\"amenity\"=\"apotek\"][\"amenity\"=\"apotheek\"][\"amenity\"=\"pharmacy\"][\"amenity\"=\"apteekki\"][\"amenity\"=\"pharmacie\"][\"amenity\"=\"Apotheke\"][\"amenity\"=\"gyógyszertár\"][\"amenity\"=\"farmacia\"][\"amenity\"=\"薬局\"][\"amenity\"=\"apteka\"][\"amenity\"=\"farmácia\"][\"amenity\"=\"аптека\"][\"amenity\"=\"lekáreň\"][\"amenity\"=\"farmacia\"][\"amenity\"=\"apotek\"][\"amenity\"=\"eczane\"][\"amenity\"=\"аптека\"][\"amenity\"=\"tiệm\"](area.searchArea);way[\"amenity\"=\"صيدلية\"][\"amenity\"=\"farmacia\"][\"amenity\"=\"farmàcia\"][\"amenity\"=\"lékárna\"][\"amenity\"=\"apotek\"][\"amenity\"=\"apotheek\"][\"amenity\"=\"pharmacy\"][\"amenity\"=\"apteekki\"][\"amenity\"=\"pharmacie\"][\"amenity\"=\"Apotheke\"][\"amenity\"=\"gyógyszertár\"][\"amenity\"=\"farmacia\"][\"amenity\"=\"薬局\"][\"amenity\"=\"apteka\"][\"amenity\"=\"farmácia\"][\"amenity\"=\"аптека\"][\"amenity\"=\"lekáreň\"][\"amenity\"=\"farmacia\"][\"amenity\"=\"apotek\"][\"amenity\"=\"eczane\"][\"amenity\"=\"аптека\"][\"amenity\"=\"tiệm\"](area.searchArea);); out count;\n",
      "[overpass] downloading data: [timeout:60][out:json];area(6485136501)->.searchArea;(relation[\"amenity\"=\"صيدلية\"][\"amenity\"=\"farmacia\"][\"amenity\"=\"farmàcia\"][\"amenity\"=\"lékárna\"][\"amenity\"=\"apotek\"][\"amenity\"=\"apotheek\"][\"amenity\"=\"pharmacy\"][\"amenity\"=\"apteekki\"][\"amenity\"=\"pharmacie\"][\"amenity\"=\"Apotheke\"][\"amenity\"=\"gyógyszertár\"][\"amenity\"=\"farmacia\"][\"amenity\"=\"薬局\"][\"amenity\"=\"apteka\"][\"amenity\"=\"farmácia\"][\"amenity\"=\"аптека\"][\"amenity\"=\"lekáreň\"][\"amenity\"=\"farmacia\"][\"amenity\"=\"apotek\"][\"amenity\"=\"eczane\"][\"amenity\"=\"аптека\"][\"amenity\"=\"tiệm\"](area.searchArea);way[\"amenity\"=\"صيدلية\"][\"amenity\"=\"farmacia\"][\"amenity\"=\"farmàcia\"][\"amenity\"=\"lékárna\"][\"amenity\"=\"apotek\"][\"amenity\"=\"apotheek\"][\"amenity\"=\"pharmacy\"][\"amenity\"=\"apteekki\"][\"amenity\"=\"pharmacie\"][\"amenity\"=\"Apotheke\"][\"amenity\"=\"gyógyszertár\"][\"amenity\"=\"farmacia\"][\"amenity\"=\"薬局\"][\"amenity\"=\"apteka\"][\"amenity\"=\"farmácia\"][\"amenity\"=\"аптека\"][\"amenity\"=\"lekáreň\"][\"amenity\"=\"farmacia\"][\"amenity\"=\"apotek\"][\"amenity\"=\"eczane\"][\"amenity\"=\"аптека\"][\"amenity\"=\"tiệm\"](area.searchArea);); out count;\n",
      "[overpass] downloading data: [timeout:60][out:json];area(5299083598)->.searchArea;(relation[\"amenity\"=\"صيدلية\"][\"amenity\"=\"farmacia\"][\"amenity\"=\"farmàcia\"][\"amenity\"=\"lékárna\"][\"amenity\"=\"apotek\"][\"amenity\"=\"apotheek\"][\"amenity\"=\"pharmacy\"][\"amenity\"=\"apteekki\"][\"amenity\"=\"pharmacie\"][\"amenity\"=\"Apotheke\"][\"amenity\"=\"gyógyszertár\"][\"amenity\"=\"farmacia\"][\"amenity\"=\"薬局\"][\"amenity\"=\"apteka\"][\"amenity\"=\"farmácia\"][\"amenity\"=\"аптека\"][\"amenity\"=\"lekáreň\"][\"amenity\"=\"farmacia\"][\"amenity\"=\"apotek\"][\"amenity\"=\"eczane\"][\"amenity\"=\"аптека\"][\"amenity\"=\"tiệm\"](area.searchArea);way[\"amenity\"=\"صيدلية\"][\"amenity\"=\"farmacia\"][\"amenity\"=\"farmàcia\"][\"amenity\"=\"lékárna\"][\"amenity\"=\"apotek\"][\"amenity\"=\"apotheek\"][\"amenity\"=\"pharmacy\"][\"amenity\"=\"apteekki\"][\"amenity\"=\"pharmacie\"][\"amenity\"=\"Apotheke\"][\"amenity\"=\"gyógyszertár\"][\"amenity\"=\"farmacia\"][\"amenity\"=\"薬局\"][\"amenity\"=\"apteka\"][\"amenity\"=\"farmácia\"][\"amenity\"=\"аптека\"][\"amenity\"=\"lekáreň\"][\"amenity\"=\"farmacia\"][\"amenity\"=\"apotek\"][\"amenity\"=\"eczane\"][\"amenity\"=\"аптека\"][\"amenity\"=\"tiệm\"](area.searchArea);); out count;\n",
      "[overpass] downloading data: [timeout:60][out:json];area(6768342084)->.searchArea;(relation[\"amenity\"=\"صيدلية\"][\"amenity\"=\"farmacia\"][\"amenity\"=\"farmàcia\"][\"amenity\"=\"lékárna\"][\"amenity\"=\"apotek\"][\"amenity\"=\"apotheek\"][\"amenity\"=\"pharmacy\"][\"amenity\"=\"apteekki\"][\"amenity\"=\"pharmacie\"][\"amenity\"=\"Apotheke\"][\"amenity\"=\"gyógyszertár\"][\"amenity\"=\"farmacia\"][\"amenity\"=\"薬局\"][\"amenity\"=\"apteka\"][\"amenity\"=\"farmácia\"][\"amenity\"=\"аптека\"][\"amenity\"=\"lekáreň\"][\"amenity\"=\"farmacia\"][\"amenity\"=\"apotek\"][\"amenity\"=\"eczane\"][\"amenity\"=\"аптека\"][\"amenity\"=\"tiệm\"](area.searchArea);way[\"amenity\"=\"صيدلية\"][\"amenity\"=\"farmacia\"][\"amenity\"=\"farmàcia\"][\"amenity\"=\"lékárna\"][\"amenity\"=\"apotek\"][\"amenity\"=\"apotheek\"][\"amenity\"=\"pharmacy\"][\"amenity\"=\"apteekki\"][\"amenity\"=\"pharmacie\"][\"amenity\"=\"Apotheke\"][\"amenity\"=\"gyógyszertár\"][\"amenity\"=\"farmacia\"][\"amenity\"=\"薬局\"][\"amenity\"=\"apteka\"][\"amenity\"=\"farmácia\"][\"amenity\"=\"аптека\"][\"amenity\"=\"lekáreň\"][\"amenity\"=\"farmacia\"][\"amenity\"=\"apotek\"][\"amenity\"=\"eczane\"][\"amenity\"=\"аптека\"][\"amenity\"=\"tiệm\"](area.searchArea);); out count;\n"
     ]
    },
    {
     "name": "stderr",
     "output_type": "stream",
     "text": [
      "[overpass] downloading data: [timeout:60][out:json];area(3620981158)->.searchArea;(relation[\"amenity\"=\"صيدلية\"][\"amenity\"=\"farmacia\"][\"amenity\"=\"farmàcia\"][\"amenity\"=\"lékárna\"][\"amenity\"=\"apotek\"][\"amenity\"=\"apotheek\"][\"amenity\"=\"pharmacy\"][\"amenity\"=\"apteekki\"][\"amenity\"=\"pharmacie\"][\"amenity\"=\"Apotheke\"][\"amenity\"=\"gyógyszertár\"][\"amenity\"=\"farmacia\"][\"amenity\"=\"薬局\"][\"amenity\"=\"apteka\"][\"amenity\"=\"farmácia\"][\"amenity\"=\"аптека\"][\"amenity\"=\"lekáreň\"][\"amenity\"=\"farmacia\"][\"amenity\"=\"apotek\"][\"amenity\"=\"eczane\"][\"amenity\"=\"аптека\"][\"amenity\"=\"tiệm\"](area.searchArea);way[\"amenity\"=\"صيدلية\"][\"amenity\"=\"farmacia\"][\"amenity\"=\"farmàcia\"][\"amenity\"=\"lékárna\"][\"amenity\"=\"apotek\"][\"amenity\"=\"apotheek\"][\"amenity\"=\"pharmacy\"][\"amenity\"=\"apteekki\"][\"amenity\"=\"pharmacie\"][\"amenity\"=\"Apotheke\"][\"amenity\"=\"gyógyszertár\"][\"amenity\"=\"farmacia\"][\"amenity\"=\"薬局\"][\"amenity\"=\"apteka\"][\"amenity\"=\"farmácia\"][\"amenity\"=\"аптека\"][\"amenity\"=\"lekáreň\"][\"amenity\"=\"farmacia\"][\"amenity\"=\"apotek\"][\"amenity\"=\"eczane\"][\"amenity\"=\"аптека\"][\"amenity\"=\"tiệm\"](area.searchArea);); out count;\n"
     ]
    }
   ],
   "source": [
    "nominatim = Nominatim()\n",
    "\n",
    "def get_capital_id(country) -> int:\n",
    "    area_id = nominatim.query(country.tag('name:en')).areaId()\n",
    "    relation = api.RelationGet(f'{area_id - 3_600_000_000}')\n",
    "    \n",
    "    # Taiwan is out of admin_center via API, however, via OSM site they have it :thinking:\n",
    "    node_id = {\n",
    "        'Taiwan': 1147314253,\n",
    "        'Singapore': area_id - 3_600_000_000\n",
    "    }.get(country.tag('name:en'), -1)\n",
    "    if node_id == -1:\n",
    "        node_id = list(filter(lambda member: member['role'] == 'admin_centre', relation['member']))[0]['ref']\n",
    "    return node_id\n",
    "\n",
    "pharmacy_names = pd.read_csv('../data/pharmacy.csv').Translation\n",
    "def count_pharmacy(capital_id) -> int:\n",
    "    query = overpassQueryBuilder(area=capital_id + 3_600_000_000,\n",
    "                                 elementType=['relation', 'way'],\n",
    "                                 selector=[f'\"amenity\"=\"{name}\"' for name in pharmacy_names],\n",
    "                                 out='count')\n",
    "    return overpass.query(query, timeout=60).countElements()\n",
    "\n",
    "dimensions_pharmacy = OrderedDict({\n",
    "    'country': OrderedDict({\n",
    "        country.tag('name:en'): get_capital_id(country)\n",
    "        for country in countries\n",
    "    })\n",
    "})\n",
    "\n",
    "data_pharmacy = Data(count_pharmacy, dimensions_pharmacy)"
   ]
  },
  {
   "cell_type": "code",
   "execution_count": 293,
   "metadata": {},
   "outputs": [
    {
     "data": {
      "text/plain": [
       "\n",
       "                          value\n",
       "country                        \n",
       "Brazil                        0\n",
       "Estonia                       0\n",
       "Australia                     0\n",
       "Eswatini                      0\n",
       "Bangladesh                    0\n",
       "Syria                         0\n",
       "Liberia                       0\n",
       "Central African Republic      0\n",
       "Ethiopia                      0\n",
       "Cameroon                      0\n",
       "Tanzania                      0\n",
       "Malawi                        0\n",
       "Uzbekistan                    0\n",
       "Honduras                      0\n",
       "Portugal                      0\n",
       "Azerbaijan                    0\n",
       "Taiwan                        0\n",
       "Comoros                       0\n",
       "São Tomé and Príncipe         0\n",
       "Singapore                     0\n",
       "Antigua and Barbuda           0\n",
       "Kosovo                        0\n",
       "Brunei                        0\n",
       "Tokelau                       0\n",
       "Norway                        0"
      ]
     },
     "execution_count": 293,
     "metadata": {},
     "output_type": "execute_result"
    }
   ],
   "source": [
    "data_pharmacy"
   ]
  },
  {
   "cell_type": "markdown",
   "metadata": {},
   "source": [
    "## Задание №3. Поездка по Нью-Йорку (маршрут - 20 баллов, визуализация - 10 баллов)."
   ]
  },
  {
   "cell_type": "markdown",
   "metadata": {},
   "source": [
    "Добраться __на автомобиле__ от входа в ``Central Park`` __Нью-Йорка__ (со стороны ``5th Avenue``) до пересечения ``Water Street`` и ``Washington Street`` в Бруклине (откуда получаются лучшие фото Манхэттенского моста) довольно непросто - разумеется, из-за вечных пробок. Однако еще сложнее это сделать, проезжая мимо школ, где дети то и дело переходят дорогу в неположенном месте."
   ]
  },
  {
   "cell_type": "markdown",
   "metadata": {},
   "source": [
    "Вам необходимо построить описанный выше маршрут, избегая на своем пути школы. Визуализируйте данный маршрут (также добавив школы и недоступные для проезда участки дорог) при помощи ``Folium``"
   ]
  },
  {
   "cell_type": "markdown",
   "metadata": {},
   "source": [
    "Данные о расположении школ Нью-Йорка можно найти [здесь](https://catalog.data.gov/dataset/2019-2020-school-point-locations)"
   ]
  },
  {
   "cell_type": "code",
   "execution_count": null,
   "metadata": {},
   "outputs": [],
   "source": [
    "# put your code here"
   ]
  }
 ],
 "metadata": {
  "kernelspec": {
   "display_name": "Python 3",
   "language": "python",
   "name": "python3"
  },
  "language_info": {
   "codemirror_mode": {
    "name": "ipython",
    "version": 3
   },
   "file_extension": ".py",
   "mimetype": "text/x-python",
   "name": "python",
   "nbconvert_exporter": "python",
   "pygments_lexer": "ipython3",
   "version": "3.7.3"
  }
 },
 "nbformat": 4,
 "nbformat_minor": 4
}
