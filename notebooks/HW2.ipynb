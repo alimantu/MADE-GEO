{
 "cells": [
  {
   "cell_type": "markdown",
   "metadata": {},
   "source": [
    "# Анализ пространственных данных. Домашнее задание №2"
   ]
  },
  {
   "cell_type": "markdown",
   "metadata": {},
   "source": [
    "Мягкий дедлайн: __4 ноября 2020 г. 23:59__\n",
    "\n",
    "Жесткий дедлайн (со штрафом в _50%_ от количества набранных вами за ДЗ баллов): __5 ноября 2020 г. 08:59__"
   ]
  },
  {
   "cell_type": "markdown",
   "metadata": {},
   "source": [
    "Визуализация \"чего-либо\" __без__ выполненного основного задания оценивается в __0 баллов__"
   ]
  },
  {
   "cell_type": "markdown",
   "metadata": {},
   "source": [
    "ФИО: `Салынский Александр Викторович`"
   ]
  },
  {
   "cell_type": "markdown",
   "metadata": {},
   "source": [
    "Группа: `DS-12`"
   ]
  },
  {
   "cell_type": "markdown",
   "metadata": {},
   "source": [
    "## Задание №1. Горячая точка (алгоритм - 10 баллов, визуализация - 10 баллов)."
   ]
  },
  {
   "cell_type": "markdown",
   "metadata": {},
   "source": [
    "Генерируйте рандомные точки на планете Земля до тех пор, пока не попадете на территорию ``Афганистана``"
   ]
  },
  {
   "cell_type": "markdown",
   "metadata": {},
   "source": [
    "1. Вы можете использовать функции принадлжености точки полигону и расстояния от точки до полигона (в метрах)\n",
    "2. Предложите не наивный алгоритм поиска (генерировать __напрямую__ точку из полигона границ Афганистана __запрещено__)"
   ]
  },
  {
   "cell_type": "code",
   "execution_count": 4,
   "metadata": {},
   "outputs": [],
   "source": [
    "from collections import OrderedDict\n",
    "\n",
    "from OSMPythonTools.nominatim import Nominatim\n",
    "from OSMPythonTools.overpass import overpassQueryBuilder, Overpass\n",
    "from OSMPythonTools.data import Data, ALL\n",
    "from shapely.geometry import Point\n",
    "import osmapi as osm\n",
    "from random import uniform\n",
    "from geopy.distance import distance, lonlat\n",
    "import re\n",
    "import geopandas as gpd\n",
    "import folium\n",
    "import pandas as pd\n",
    "from countryinfo import CountryInfo\n",
    "\n",
    "\n",
    "api = osm.OsmApi(username='geo-course', \n",
    "                 passwordfile='../config/api_key.txt')\n",
    "nominatim = Nominatim()\n",
    "overpass = Overpass()"
   ]
  },
  {
   "cell_type": "code",
   "execution_count": 5,
   "metadata": {},
   "outputs": [],
   "source": [
    "world = gpd.read_file(gpd.datasets.get_path('naturalearth_lowres'))\n",
    "polygon_afg = world.loc[world.iso_a3 == 'AFG'].geometry.values[0]\n",
    "\n",
    "def find_min_dist(poly, point) -> float:\n",
    "    min_dist = 45_000\n",
    "    for coord in poly.exterior.coords:\n",
    "        min_dist = min(min_dist, distance(coord, (point.x, point.y)))\n",
    "    return min_dist\n",
    "\n",
    "used_points = []\n",
    "\n",
    "points = [{}, {}] \n",
    "points[0]['point'] = Point(-90, -180)\n",
    "points[1]['point'] = Point(90, 180)\n",
    "\n",
    "found = False\n",
    "if polygon_afg.contains(points[0]['point']):\n",
    "    found = True\n",
    "    point = points[0]['point']\n",
    "if polygon_afg.contains(points[1]['point']):\n",
    "    found = True\n",
    "    point = points[1]['point']\n",
    "\n",
    "points[0]['dist'] = find_min_dist(polygon_afg, points[0]['point'])\n",
    "points[1]['dist'] = find_min_dist(polygon_afg, points[1]['point'])\n",
    "\n",
    "used_points.append(points[0]['point'])\n",
    "used_points.append(points[1]['point'])\n",
    "\n",
    "while not found:\n",
    "    p_upd = 0\n",
    "    if points[0]['dist'] < points[1]['dist']:\n",
    "        p_upd = 1\n",
    "        \n",
    "    point_lat = Point((points[0]['point'].x + points[1]['point'].x) / 2, points[p_upd]['point'].y)\n",
    "    point_lon = Point(points[p_upd]['point'].x, (points[0]['point'].y + points[1]['point'].y) / 2)\n",
    "    dist_lon = find_min_dist(polygon_afg, point_lon)\n",
    "    dist_lat = find_min_dist(polygon_afg, point_lat)\n",
    "    \n",
    "    points[p_upd]['point'] = point_lon\n",
    "    points[p_upd]['dist'] = dist_lon\n",
    "    if dist_lon > dist_lat:\n",
    "        points[p_upd]['point'] = point_lat\n",
    "        points[p_upd]['dist'] = dist_lat\n",
    "        \n",
    "    if polygon_afg.contains(points[p_upd]['point']):\n",
    "        found = True\n",
    "        point = points[p_upd]['point']\n",
    "        \n",
    "    used_points.append(points[p_upd]['point'])"
   ]
  },
  {
   "cell_type": "code",
   "execution_count": 6,
   "metadata": {},
   "outputs": [
    {
     "name": "stdout",
     "output_type": "stream",
     "text": [
      "Central coordinates for AFG: (66.2385139, 33.7680065)\n"
     ]
    }
   ],
   "source": [
    "area_id_af = nominatim.query('Afganistan').areaId()\n",
    "\n",
    "query = overpassQueryBuilder(area=area_id_af, elementType='node', selector='\"place\"=\"country\"', out='body')\n",
    "center_node = overpass.query(query).nodes()[0]\n",
    "\n",
    "print(f'Central coordinates for AFG: {center_node.lon(), center_node.lat()}')"
   ]
  },
  {
   "cell_type": "code",
   "execution_count": 7,
   "metadata": {},
   "outputs": [
    {
     "data": {
      "text/html": [
       "<div style=\"width:100%;\"><div style=\"position:relative;width:100%;height:0;padding-bottom:60%;\"><span style=\"color:#565656\">Make this Notebook Trusted to load map: File -> Trust Notebook</span><iframe src=\"about:blank\" style=\"position:absolute;width:100%;height:100%;left:0;top:0;border:none !important;\" data-html=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 onload=\"this.contentDocument.open();this.contentDocument.write(atob(this.getAttribute('data-html')));this.contentDocument.close();\" allowfullscreen webkitallowfullscreen mozallowfullscreen></iframe></div></div>"
      ],
      "text/plain": [
       "<folium.folium.Map at 0x13e271763c8>"
      ]
     },
     "execution_count": 7,
     "metadata": {},
     "output_type": "execute_result"
    }
   ],
   "source": [
    "m = folium.Map((center_node.lat(), center_node.lon()), \n",
    "               zoom_start=1, \n",
    "               tiles='Stamen Toner')\n",
    "\n",
    "tooltip = 'Check step'\n",
    "\n",
    "for i, point in enumerate(used_points):\n",
    "    folium.Marker([point.y, point.x], \n",
    "                  popup=f'<i>Point received on step: {i}</i>', \n",
    "                  tooltip=tooltip,\n",
    "                  icon=folium.Icon(color='red', icon='info-sign')).add_to(m)\n",
    "m"
   ]
  },
  {
   "cell_type": "markdown",
   "metadata": {},
   "source": [
    "Визуализируйте пошагово предложенный алгоритм при помощи ``Folium``"
   ]
  },
  {
   "cell_type": "markdown",
   "metadata": {},
   "source": [
    "## Задание №2. Качество жизни (20 баллов)."
   ]
  },
  {
   "cell_type": "markdown",
   "metadata": {},
   "source": [
    "Для измерения показателя качества жизни в точке, найденной в предыдущем задании, вам необходимо рассчитать следующую сумму расстояний (в метрах):"
   ]
  },
  {
   "cell_type": "markdown",
   "metadata": {},
   "source": [
    "1. Расстояние от точки до 5 ближайших __*__ банкоматов, находящихся в стране с наибольшим количеством объектов жилой недвижимости\n",
    "2. Расстояние от точки до 5 ближайших школ, находящихся в стране с наибольшим количеством аптек в столице\n",
    "3. Расстояние от точки до 5 ближайших кинотеатров, наодящихся в стране с самым большим отношением числа железнодорожных станций к автобусным остановкам в южной части __**__"
   ]
  },
  {
   "cell_type": "markdown",
   "metadata": {},
   "source": [
    "__*__ При поиске _N_ ближайших объектов обязательно использовать ``R-tree``\n",
    "\n",
    "__**__ Южной частью страны является территория, находящаяся к югу от множества точек, равноудаленных от самой северной и самой южной точек страны"
   ]
  },
  {
   "cell_type": "markdown",
   "metadata": {},
   "source": [
    "### 1. Расстояние от точки до 5 ближайших __*__ банкоматов, находящихся в стране с наибольшим количеством объектов жилой недвижимости"
   ]
  },
  {
   "cell_type": "code",
   "execution_count": 8,
   "metadata": {},
   "outputs": [],
   "source": [
    "result = overpass.query('relation[\"admin_level\"=\"2\"][boundary=administrative]; out;')\n",
    "\n",
    "pattern = re.compile(r' -|— ')\n",
    "countries = []\n",
    "\n",
    "for rel in result.relations():\n",
    "    if not pattern.findall(rel.tag('name:en')) and not rel.id() % 10:\n",
    "        countries.append(rel)"
   ]
  },
  {
   "cell_type": "code",
   "execution_count": 105,
   "metadata": {},
   "outputs": [
    {
     "data": {
      "text/html": [
       "<div>\n",
       "<style scoped>\n",
       "    .dataframe tbody tr th:only-of-type {\n",
       "        vertical-align: middle;\n",
       "    }\n",
       "\n",
       "    .dataframe tbody tr th {\n",
       "        vertical-align: top;\n",
       "    }\n",
       "\n",
       "    .dataframe thead th {\n",
       "        text-align: right;\n",
       "    }\n",
       "</style>\n",
       "<table border=\"1\" class=\"dataframe\">\n",
       "  <thead>\n",
       "    <tr style=\"text-align: right;\">\n",
       "      <th></th>\n",
       "      <th>value</th>\n",
       "    </tr>\n",
       "    <tr>\n",
       "      <th>country</th>\n",
       "      <th></th>\n",
       "    </tr>\n",
       "  </thead>\n",
       "  <tbody>\n",
       "    <tr>\n",
       "      <th>Brazil</th>\n",
       "      <td>593024</td>\n",
       "    </tr>\n",
       "    <tr>\n",
       "      <th>Australia</th>\n",
       "      <td>492702</td>\n",
       "    </tr>\n",
       "    <tr>\n",
       "      <th>Portugal</th>\n",
       "      <td>194773</td>\n",
       "    </tr>\n",
       "    <tr>\n",
       "      <th>Norway</th>\n",
       "      <td>168952</td>\n",
       "    </tr>\n",
       "    <tr>\n",
       "      <th>Tanzania</th>\n",
       "      <td>59808</td>\n",
       "    </tr>\n",
       "  </tbody>\n",
       "</table>\n",
       "</div>"
      ],
      "text/plain": [
       "            value\n",
       "country          \n",
       "Brazil     593024\n",
       "Australia  492702\n",
       "Portugal   194773\n",
       "Norway     168952\n",
       "Tanzania    59808"
      ]
     },
     "execution_count": 105,
     "metadata": {},
     "output_type": "execute_result"
    }
   ],
   "source": [
    "def count_residental_buildings(country) -> int:\n",
    "    query = overpassQueryBuilder(area=country.id() + 3_600_000_000,\n",
    "                                 elementType=['relation', 'way'],\n",
    "                                 selector=[f'\"building\"=\"residential\"',\n",
    "                                           f'\"building\"=\"apartments\"',\n",
    "                                           f'\"building\"=\"house\"'],\n",
    "                                 out='count')\n",
    "    return overpass.query(query, timeout=60).countElements()\n",
    "\n",
    "dimensions = OrderedDict({\n",
    "    'country': OrderedDict({\n",
    "        country.tag('name:en'): country\n",
    "        for country in countries\n",
    "    })\n",
    "})\n",
    "\n",
    "data = Data(count_residental_buildings, dimensions)\n",
    "\n",
    "df_res_buildings = data.getDataFrame().sort_values('value', ascending=False)\n",
    "df_res_buildings.head()"
   ]
  },
  {
   "cell_type": "code",
   "execution_count": 106,
   "metadata": {},
   "outputs": [
    {
     "data": {
      "text/plain": [
       "'Brazil'"
      ]
     },
     "execution_count": 106,
     "metadata": {},
     "output_type": "execute_result"
    }
   ],
   "source": [
    "country_1 = df_res_buildings.iloc[0].name\n",
    "country_1"
   ]
  },
  {
   "cell_type": "code",
   "execution_count": 10,
   "metadata": {},
   "outputs": [],
   "source": [
    "country_1_id = nominatim.query(country_1).areaId()\n",
    "query = overpassQueryBuilder(area=country_1_id,\n",
    "                             elementType='node',\n",
    "                             selector=[f'\"amenity\"=\"atm\"'],\n",
    "                             out='body')\n",
    "res = overpass.query(query, timeout=60)"
   ]
  },
  {
   "cell_type": "code",
   "execution_count": 11,
   "metadata": {},
   "outputs": [
    {
     "name": "stdout",
     "output_type": "stream",
     "text": [
      "Total number of ATM's in Brazil: 1332\n"
     ]
    }
   ],
   "source": [
    "print(f\"Total number of ATM's in {country_1}: {res.countElements()}\")"
   ]
  },
  {
   "cell_type": "markdown",
   "metadata": {},
   "source": [
    "### 2. Расстояние от точки до 5 ближайших школ, находящихся в стране с наибольшим количеством аптек в столице"
   ]
  },
  {
   "cell_type": "code",
   "execution_count": 97,
   "metadata": {
    "scrolled": true
   },
   "outputs": [
    {
     "name": "stderr",
     "output_type": "stream",
     "text": [
      "[overpass] downloading data: [timeout:60][out:json];area(3600421151)->.searchArea;(node[\"amenity\"=\"pharmacy\"][\"amenity\"=\"farmácia\"](area.searchArea);way[\"amenity\"=\"pharmacy\"][\"amenity\"=\"farmácia\"](area.searchArea);); out count;\n",
      "[nominatim] downloading data: search\n",
      "[overpass] downloading data: [timeout:60][out:json];area(3604773565)->.searchArea;(node[\"amenity\"=\"pharmacy\"](area.searchArea);way[\"amenity\"=\"pharmacy\"](area.searchArea);); out count;\n",
      "[nominatim] downloading data: search\n",
      "[overpass] downloading data: [timeout:60][out:json];area(3604001311)->.searchArea;(node[\"amenity\"=\"pharmacy\"](area.searchArea);way[\"amenity\"=\"pharmacy\"](area.searchArea);); out count;\n",
      "[overpass] downloading data: [timeout:60][out:json];area(3607322726)->.searchArea;(node[\"amenity\"=\"pharmacy\"](area.searchArea);way[\"amenity\"=\"pharmacy\"](area.searchArea);); out count;\n",
      "[overpass] downloading data: [timeout:60][out:json];area(3601707699)->.searchArea;(node[\"amenity\"=\"pharmacy\"](area.searchArea);way[\"amenity\"=\"pharmacy\"](area.searchArea);); out count;\n",
      "[overpass] downloading data: [timeout:60][out:json];area(3602746230)->.searchArea;(node[\"amenity\"=\"pharmacy\"](area.searchArea);way[\"amenity\"=\"pharmacy\"](area.searchArea);); out count;\n",
      "[overpass] downloading data: [timeout:60][out:json];area(3601600774)->.searchArea;(node[\"amenity\"=\"pharmacy\"](area.searchArea);way[\"amenity\"=\"pharmacy\"](area.searchArea);); out count;\n",
      "[overpass] downloading data: [timeout:60][out:json];area(3607345524)->.searchArea;(node[\"amenity\"=\"pharmacy\"](area.searchArea);way[\"amenity\"=\"pharmacy\"](area.searchArea);); out count;\n",
      "[overpass] downloading data: [timeout:60][out:json];area(3602216724)->.searchArea;(node[\"amenity\"=\"pharmacy\"](area.searchArea);way[\"amenity\"=\"pharmacy\"](area.searchArea);); out count;\n",
      "[overpass] downloading data: [timeout:60][out:json];area(3603850824)->.searchArea;(node[\"amenity\"=\"pharmacy\"][\"amenity\"=\"farmacia\"](area.searchArea);way[\"amenity\"=\"pharmacy\"][\"amenity\"=\"farmacia\"](area.searchArea);); out count;\n",
      "[overpass] downloading data: [timeout:60][out:json];area(3605400890)->.searchArea;(node[\"amenity\"=\"pharmacy\"][\"amenity\"=\"farmácia\"](area.searchArea);way[\"amenity\"=\"pharmacy\"][\"amenity\"=\"farmácia\"](area.searchArea);); out count;\n",
      "[overpass] downloading data: [timeout:60][out:json];area(3602415335)->.searchArea;(node[\"amenity\"=\"pharmacy\"](area.searchArea);way[\"amenity\"=\"pharmacy\"](area.searchArea);); out count;\n",
      "[overpass] downloading data: [timeout:60][out:json];area(3601293250)->.searchArea;(node[\"amenity\"=\"pharmacy\"](area.searchArea);way[\"amenity\"=\"pharmacy\"](area.searchArea);); out count;\n",
      "[overpass] downloading data: [timeout:60][out:json];area(3607174451)->.searchArea;(node[\"amenity\"=\"pharmacy\"](area.searchArea);way[\"amenity\"=\"pharmacy\"](area.searchArea);); out count;\n",
      "[overpass] downloading data: [timeout:60][out:json];area(3604680163)->.searchArea;(node[\"amenity\"=\"pharmacy\"][\"amenity\"=\"farmácia\"](area.searchArea);way[\"amenity\"=\"pharmacy\"][\"amenity\"=\"farmácia\"](area.searchArea);); out count;\n",
      "[overpass] downloading data: [timeout:60][out:json];area(3609604932)->.searchArea;(node[\"amenity\"=\"pharmacy\"](area.searchArea);way[\"amenity\"=\"pharmacy\"](area.searchArea);); out count;\n",
      "[overpass] downloading data: [timeout:60][out:json];area(3607118787)->.searchArea;(node[\"amenity\"=\"pharmacy\"](area.searchArea);way[\"amenity\"=\"pharmacy\"](area.searchArea);); out count;\n",
      "[overpass] downloading data: [timeout:60][out:json];area(3608748136)->.searchArea;(node[\"amenity\"=\"pharmacy\"](area.searchArea);way[\"amenity\"=\"pharmacy\"](area.searchArea);); out count;\n",
      "[overpass] downloading data: [timeout:60][out:json];area(3602186600)->.searchArea;(node[\"amenity\"=\"pharmacy\"](area.searchArea);way[\"amenity\"=\"pharmacy\"](area.searchArea);); out count;\n",
      "[overpass] downloading data: [timeout:60][out:json];area(3600406091)->.searchArea;(node[\"amenity\"=\"pharmacy\"](area.searchArea);way[\"amenity\"=\"pharmacy\"](area.searchArea);); out count;\n"
     ]
    }
   ],
   "source": [
    "nominatim = Nominatim()\n",
    "\n",
    "capital_regions = pd.read_csv('../data/capital_regions.csv')\\\n",
    "                    .set_index('Country')\\\n",
    "                    .CapitalRegion\\\n",
    "                    .to_dict()\n",
    "def get_capital_id(country) -> int:\n",
    "    country_name = country.tag('name:en')\n",
    "    area_id = nominatim.query(f\"{capital_regions[country_name]}, {country_name}\").areaId()\n",
    "    return area_id\n",
    "\n",
    "pharmacy_mapping = pd.read_csv('../data/pharmacy.csv')\\\n",
    "                     .set_index('ISO2')\\\n",
    "                     .Translation\\\n",
    "                     .to_dict()\n",
    "pharmacy_mapping['en'] = None\n",
    "def count_pharmacy(country) -> int:\n",
    "    selector = ['\"amenity\"=\"pharmacy\"']\n",
    "    local_name = pharmacy_mapping.get(country.tag('default_language'), None)\n",
    "\n",
    "    if local_name:\n",
    "        selector += [f'\"amenity\"=\"{local_name}\"']\n",
    "        \n",
    "    query = overpassQueryBuilder(area=get_capital_id(country),\n",
    "                                 elementType=['node', 'way'],\n",
    "                                 selector=selector,\n",
    "                                 out='count')\n",
    "    return overpass.query(query, timeout=60).countElements()\n",
    "\n",
    "dimensions_pharmacy = OrderedDict({\n",
    "    'country': OrderedDict({\n",
    "        country.tag('name:en'): country\n",
    "        for country in countries\n",
    "    })\n",
    "})\n",
    "\n",
    "data_pharmacy = Data(count_pharmacy, dimensions_pharmacy)"
   ]
  },
  {
   "cell_type": "code",
   "execution_count": 101,
   "metadata": {},
   "outputs": [
    {
     "data": {
      "text/html": [
       "<div>\n",
       "<style scoped>\n",
       "    .dataframe tbody tr th:only-of-type {\n",
       "        vertical-align: middle;\n",
       "    }\n",
       "\n",
       "    .dataframe tbody tr th {\n",
       "        vertical-align: top;\n",
       "    }\n",
       "\n",
       "    .dataframe thead th {\n",
       "        text-align: right;\n",
       "    }\n",
       "</style>\n",
       "<table border=\"1\" class=\"dataframe\">\n",
       "  <thead>\n",
       "    <tr style=\"text-align: right;\">\n",
       "      <th></th>\n",
       "      <th>value</th>\n",
       "    </tr>\n",
       "    <tr>\n",
       "      <th>country</th>\n",
       "      <th></th>\n",
       "    </tr>\n",
       "  </thead>\n",
       "  <tbody>\n",
       "    <tr>\n",
       "      <th>Bangladesh</th>\n",
       "      <td>1187</td>\n",
       "    </tr>\n",
       "    <tr>\n",
       "      <th>Uzbekistan</th>\n",
       "      <td>865</td>\n",
       "    </tr>\n",
       "    <tr>\n",
       "      <th>Taiwan</th>\n",
       "      <td>285</td>\n",
       "    </tr>\n",
       "    <tr>\n",
       "      <th>Azerbaijan</th>\n",
       "      <td>185</td>\n",
       "    </tr>\n",
       "    <tr>\n",
       "      <th>Ethiopia</th>\n",
       "      <td>164</td>\n",
       "    </tr>\n",
       "  </tbody>\n",
       "</table>\n",
       "</div>"
      ],
      "text/plain": [
       "            value\n",
       "country          \n",
       "Bangladesh   1187\n",
       "Uzbekistan    865\n",
       "Taiwan        285\n",
       "Azerbaijan    185\n",
       "Ethiopia      164"
      ]
     },
     "execution_count": 101,
     "metadata": {},
     "output_type": "execute_result"
    }
   ],
   "source": [
    "df_pharmacy = data_pharmacy.getDataFrame().sort_values('value', ascending=False)\n",
    "df_pharmacy.head()"
   ]
  },
  {
   "cell_type": "markdown",
   "metadata": {},
   "source": [
    "It's really strange, but country with most number of pharmacies in capital region is Bangladesh. "
   ]
  },
  {
   "cell_type": "code",
   "execution_count": 103,
   "metadata": {},
   "outputs": [
    {
     "data": {
      "text/plain": [
       "'Bangladesh'"
      ]
     },
     "execution_count": 103,
     "metadata": {},
     "output_type": "execute_result"
    }
   ],
   "source": [
    "country_2 = df_pharmacy.iloc[0].name\n",
    "country_2"
   ]
  },
  {
   "cell_type": "markdown",
   "metadata": {},
   "source": [
    "## Задание №3. Поездка по Нью-Йорку (маршрут - 20 баллов, визуализация - 10 баллов)."
   ]
  },
  {
   "cell_type": "markdown",
   "metadata": {},
   "source": [
    "Добраться __на автомобиле__ от входа в ``Central Park`` __Нью-Йорка__ (со стороны ``5th Avenue``) до пересечения ``Water Street`` и ``Washington Street`` в Бруклине (откуда получаются лучшие фото Манхэттенского моста) довольно непросто - разумеется, из-за вечных пробок. Однако еще сложнее это сделать, проезжая мимо школ, где дети то и дело переходят дорогу в неположенном месте."
   ]
  },
  {
   "cell_type": "markdown",
   "metadata": {},
   "source": [
    "Вам необходимо построить описанный выше маршрут, избегая на своем пути школы. Визуализируйте данный маршрут (также добавив школы и недоступные для проезда участки дорог) при помощи ``Folium``"
   ]
  },
  {
   "cell_type": "markdown",
   "metadata": {},
   "source": [
    "Данные о расположении школ Нью-Йорка можно найти [здесь](https://catalog.data.gov/dataset/2019-2020-school-point-locations)"
   ]
  },
  {
   "cell_type": "code",
   "execution_count": null,
   "metadata": {},
   "outputs": [],
   "source": [
    "# put your code here"
   ]
  }
 ],
 "metadata": {
  "kernelspec": {
   "display_name": "Python 3",
   "language": "python",
   "name": "python3"
  },
  "language_info": {
   "codemirror_mode": {
    "name": "ipython",
    "version": 3
   },
   "file_extension": ".py",
   "mimetype": "text/x-python",
   "name": "python",
   "nbconvert_exporter": "python",
   "pygments_lexer": "ipython3",
   "version": "3.7.3"
  }
 },
 "nbformat": 4,
 "nbformat_minor": 4
}
