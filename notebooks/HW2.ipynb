{
 "cells": [
  {
   "cell_type": "markdown",
   "metadata": {},
   "source": [
    "# Анализ пространственных данных. Домашнее задание №2"
   ]
  },
  {
   "cell_type": "markdown",
   "metadata": {},
   "source": [
    "Мягкий дедлайн: __4 ноября 2020 г. 23:59__\n",
    "\n",
    "Жесткий дедлайн (со штрафом в _50%_ от количества набранных вами за ДЗ баллов): __5 ноября 2020 г. 08:59__"
   ]
  },
  {
   "cell_type": "markdown",
   "metadata": {},
   "source": [
    "Визуализация \"чего-либо\" __без__ выполненного основного задания оценивается в __0 баллов__"
   ]
  },
  {
   "cell_type": "markdown",
   "metadata": {},
   "source": [
    "ФИО: `Салынский Александр Викторович`"
   ]
  },
  {
   "cell_type": "markdown",
   "metadata": {},
   "source": [
    "Группа: `DS-12`"
   ]
  },
  {
   "cell_type": "markdown",
   "metadata": {},
   "source": [
    "## Задание №1. Горячая точка (алгоритм - 10 баллов, визуализация - 10 баллов)."
   ]
  },
  {
   "cell_type": "markdown",
   "metadata": {},
   "source": [
    "Генерируйте рандомные точки на планете Земля до тех пор, пока не попадете на территорию ``Афганистана``"
   ]
  },
  {
   "cell_type": "markdown",
   "metadata": {},
   "source": [
    "1. Вы можете использовать функции принадлжености точки полигону и расстояния от точки до полигона (в метрах)\n",
    "2. Предложите не наивный алгоритм поиска (генерировать __напрямую__ точку из полигона границ Афганистана __запрещено__)"
   ]
  },
  {
   "cell_type": "code",
   "execution_count": 27,
   "metadata": {},
   "outputs": [],
   "source": [
    "from collections import OrderedDict\n",
    "\n",
    "from OSMPythonTools.nominatim import Nominatim\n",
    "from OSMPythonTools.overpass import overpassQueryBuilder, Overpass\n",
    "from OSMPythonTools.data import Data, ALL\n",
    "from shapely.geometry import Point\n",
    "import osmapi as osm\n",
    "from random import uniform\n",
    "from geopy.distance import distance, lonlat\n",
    "import re\n",
    "import geopandas as gpd\n",
    "import folium\n",
    "import pandas as pd\n",
    "\n",
    "api = osm.OsmApi(username='geo-course', \n",
    "                 passwordfile='../config/api_key.txt')\n",
    "\n",
    "world = gpd.read_file(gpd.datasets.get_path('naturalearth_lowres'))\n",
    "polygon_afg = world.loc[world.iso_a3 == 'AFG'].geometry.values[0]"
   ]
  },
  {
   "cell_type": "code",
   "execution_count": 28,
   "metadata": {},
   "outputs": [],
   "source": [
    "def find_min_dist(poly, point) -> float:\n",
    "    min_dist = 45_000\n",
    "    for coord in poly.exterior.coords:\n",
    "        min_dist = min(min_dist, distance(coord, (point.x, point.y)))\n",
    "    return min_dist\n",
    "\n",
    "used_points = []\n",
    "\n",
    "points = [{}, {}] \n",
    "points[0]['point'] = Point(-90, -180)\n",
    "points[1]['point'] = Point(90, 180)\n",
    "\n",
    "found = False\n",
    "if polygon_afg.contains(points[0]['point']):\n",
    "    found = True\n",
    "    point = points[0]['point']\n",
    "if polygon_afg.contains(points[1]['point']):\n",
    "    found = True\n",
    "    point = points[1]['point']\n",
    "\n",
    "points[0]['dist'] = find_min_dist(polygon_afg, points[0]['point'])\n",
    "points[1]['dist'] = find_min_dist(polygon_afg, points[1]['point'])\n",
    "\n",
    "used_points.append(points[0]['point'])\n",
    "used_points.append(points[1]['point'])\n",
    "\n",
    "while not found:\n",
    "    p_upd = 0\n",
    "    if points[0]['dist'] < points[1]['dist']:\n",
    "        p_upd = 1\n",
    "        \n",
    "    point_lat = Point((points[0]['point'].x + points[1]['point'].x) / 2, points[p_upd]['point'].y)\n",
    "    point_lon = Point(points[p_upd]['point'].x, (points[0]['point'].y + points[1]['point'].y) / 2)\n",
    "    dist_lon = find_min_dist(polygon_afg, point_lon)\n",
    "    dist_lat = find_min_dist(polygon_afg, point_lat)\n",
    "    \n",
    "    points[p_upd]['point'] = point_lon\n",
    "    points[p_upd]['dist'] = dist_lon\n",
    "    if dist_lon > dist_lat:\n",
    "        points[p_upd]['point'] = point_lat\n",
    "        points[p_upd]['dist'] = dist_lat\n",
    "        \n",
    "    if polygon_afg.contains(points[p_upd]['point']):\n",
    "        found = True\n",
    "        point = points[p_upd]['point']\n",
    "        \n",
    "    used_points.append(points[p_upd]['point'])"
   ]
  },
  {
   "cell_type": "code",
   "execution_count": 29,
   "metadata": {},
   "outputs": [
    {
     "name": "stdout",
     "output_type": "stream",
     "text": [
      "Central coordinates for AFG: (66.2385139, 33.7680065)\n"
     ]
    }
   ],
   "source": [
    "nominatim = Nominatim()\n",
    "area_id_af = nominatim.query('Afganistan').areaId()\n",
    "\n",
    "overpass = Overpass()\n",
    "query = overpassQueryBuilder(area=area_id_af, elementType='node', selector='\"place\"=\"country\"', out='body')\n",
    "center_node = overpass.query(query).nodes()[0]\n",
    "\n",
    "print(f'Central coordinates for AFG: {center_node.lon(), center_node.lat()}')"
   ]
  },
  {
   "cell_type": "code",
   "execution_count": 30,
   "metadata": {},
   "outputs": [
    {
     "data": {
      "text/html": [
       "<div style=\"width:100%;\"><div style=\"position:relative;width:100%;height:0;padding-bottom:60%;\"><span style=\"color:#565656\">Make this Notebook Trusted to load map: File -> Trust Notebook</span><iframe src=\"about:blank\" style=\"position:absolute;width:100%;height:100%;left:0;top:0;border:none !important;\" data-html=PCFET0NUWVBFIGh0bWw+CjxoZWFkPiAgICAKICAgIDxtZXRhIGh0dHAtZXF1aXY9ImNvbnRlbnQtdHlwZSIgY29udGVudD0idGV4dC9odG1sOyBjaGFyc2V0PVVURi04IiAvPgogICAgCiAgICAgICAgPHNjcmlwdD4KICAgICAgICAgICAgTF9OT19UT1VDSCA9IGZhbHNlOwogICAgICAgICAgICBMX0RJU0FCTEVfM0QgPSBmYWxzZTsKICAgICAgICA8L3NjcmlwdD4KICAgIAogICAgPHNjcmlwdCBzcmM9Imh0dHBzOi8vY2RuLmpzZGVsaXZyLm5ldC9ucG0vbGVhZmxldEAxLjYuMC9kaXN0L2xlYWZsZXQuanMiPjwvc2NyaXB0PgogICAgPHNjcmlwdCBzcmM9Imh0dHBzOi8vY29kZS5qcXVlcnkuY29tL2pxdWVyeS0xLjEyLjQubWluLmpzIj48L3NjcmlwdD4KICAgIDxzY3JpcHQgc3JjPSJodHRwczovL21heGNkbi5ib290c3RyYXBjZG4uY29tL2Jvb3RzdHJhcC8zLjIuMC9qcy9ib290c3RyYXAubWluLmpzIj48L3NjcmlwdD4KICAgIDxzY3JpcHQgc3JjPSJodHRwczovL2NkbmpzLmNsb3VkZmxhcmUuY29tL2FqYXgvbGlicy9MZWFmbGV0LmF3ZXNvbWUtbWFya2Vycy8yLjAuMi9sZWFmbGV0LmF3ZXNvbWUtbWFya2Vycy5qcyI+PC9zY3JpcHQ+CiAgICA8bGluayByZWw9InN0eWxlc2hlZXQiIGhyZWY9Imh0dHBzOi8vY2RuLmpzZGVsaXZyLm5ldC9ucG0vbGVhZmxldEAxLjYuMC9kaXN0L2xlYWZsZXQuY3NzIi8+CiAgICA8bGluayByZWw9InN0eWxlc2hlZXQiIGhyZWY9Imh0dHBzOi8vbWF4Y2RuLmJvb3RzdHJhcGNkbi5jb20vYm9vdHN0cmFwLzMuMi4wL2Nzcy9ib290c3RyYXAubWluLmNzcyIvPgogICAgPGxpbmsgcmVsPSJzdHlsZXNoZWV0IiBocmVmPSJodHRwczovL21heGNkbi5ib290c3RyYXBjZG4uY29tL2Jvb3RzdHJhcC8zLjIuMC9jc3MvYm9vdHN0cmFwLXRoZW1lLm1pbi5jc3MiLz4KICAgIDxsaW5rIHJlbD0ic3R5bGVzaGVldCIgaHJlZj0iaHR0cHM6Ly9tYXhjZG4uYm9vdHN0cmFwY2RuLmNvbS9mb250LWF3ZXNvbWUvNC42LjMvY3NzL2ZvbnQtYXdlc29tZS5taW4uY3NzIi8+CiAgICA8bGluayByZWw9InN0eWxlc2hlZXQiIGhyZWY9Imh0dHBzOi8vY2RuanMuY2xvdWRmbGFyZS5jb20vYWpheC9saWJzL0xlYWZsZXQuYXdlc29tZS1tYXJrZXJzLzIuMC4yL2xlYWZsZXQuYXdlc29tZS1tYXJrZXJzLmNzcyIvPgogICAgPGxpbmsgcmVsPSJzdHlsZXNoZWV0IiBocmVmPSJodHRwczovL3Jhd2Nkbi5naXRoYWNrLmNvbS9weXRob24tdmlzdWFsaXphdGlvbi9mb2xpdW0vbWFzdGVyL2ZvbGl1bS90ZW1wbGF0ZXMvbGVhZmxldC5hd2Vzb21lLnJvdGF0ZS5jc3MiLz4KICAgIDxzdHlsZT5odG1sLCBib2R5IHt3aWR0aDogMTAwJTtoZWlnaHQ6IDEwMCU7bWFyZ2luOiAwO3BhZGRpbmc6IDA7fTwvc3R5bGU+CiAgICA8c3R5bGU+I21hcCB7cG9zaXRpb246YWJzb2x1dGU7dG9wOjA7Ym90dG9tOjA7cmlnaHQ6MDtsZWZ0OjA7fTwvc3R5bGU+CiAgICAKICAgICAgICAgICAgPG1ldGEgbmFtZT0idmlld3BvcnQiIGNvbnRlbnQ9IndpZHRoPWRldmljZS13aWR0aCwKICAgICAgICAgICAgICAgIGluaXRpYWwtc2NhbGU9MS4wLCBtYXhpbXVtLXNjYWxlPTEuMCwgdXNlci1zY2FsYWJsZT1ubyIgLz4KICAgICAgICAgICAgPHN0eWxlPgogICAgICAgICAgICAgICAgI21hcF9mOGZlYzM5Njk4YTc0MjcwYTliZWExNDlhMTgyNGIwOCB7CiAgICAgICAgICAgICAgICAgICAgcG9zaXRpb246IHJlbGF0aXZlOwogICAgICAgICAgICAgICAgICAgIHdpZHRoOiAxMDAuMCU7CiAgICAgICAgICAgICAgICAgICAgaGVpZ2h0OiAxMDAuMCU7CiAgICAgICAgICAgICAgICAgICAgbGVmdDogMC4wJTsKICAgICAgICAgICAgICAgICAgICB0b3A6IDAuMCU7CiAgICAgICAgICAgICAgICB9CiAgICAgICAgICAgIDwvc3R5bGU+CiAgICAgICAgCjwvaGVhZD4KPGJvZHk+ICAgIAogICAgCiAgICAgICAgICAgIDxkaXYgY2xhc3M9ImZvbGl1bS1tYXAiIGlkPSJtYXBfZjhmZWMzOTY5OGE3NDI3MGE5YmVhMTQ5YTE4MjRiMDgiID48L2Rpdj4KICAgICAgICAKPC9ib2R5Pgo8c2NyaXB0PiAgICAKICAgIAogICAgICAgICAgICB2YXIgbWFwX2Y4ZmVjMzk2OThhNzQyNzBhOWJlYTE0OWExODI0YjA4ID0gTC5tYXAoCiAgICAgICAgICAgICAgICAibWFwX2Y4ZmVjMzk2OThhNzQyNzBhOWJlYTE0OWExODI0YjA4IiwKICAgICAgICAgICAgICAgIHsKICAgICAgICAgICAgICAgICAgICBjZW50ZXI6IFszMy43NjgwMDY1LCA2Ni4yMzg1MTM5XSwKICAgICAgICAgICAgICAgICAgICBjcnM6IEwuQ1JTLkVQU0czODU3LAogICAgICAgICAgICAgICAgICAgIHpvb206IDEsCiAgICAgICAgICAgICAgICAgICAgem9vbUNvbnRyb2w6IHRydWUsCiAgICAgICAgICAgICAgICAgICAgcHJlZmVyQ2FudmFzOiBmYWxzZSwKICAgICAgICAgICAgICAgIH0KICAgICAgICAgICAgKTsKCiAgICAgICAgICAgIAoKICAgICAgICAKICAgIAogICAgICAgICAgICB2YXIgdGlsZV9sYXllcl8xODk0OWYwZDA5YzE0YTFiYWY1OWFmMGE5Zjc1NGE2NCA9IEwudGlsZUxheWVyKAogICAgICAgICAgICAgICAgImh0dHBzOi8vc3RhbWVuLXRpbGVzLXtzfS5hLnNzbC5mYXN0bHkubmV0L3RvbmVyL3t6fS97eH0ve3l9LnBuZyIsCiAgICAgICAgICAgICAgICB7ImF0dHJpYnV0aW9uIjogIk1hcCB0aWxlcyBieSBcdTAwM2NhIGhyZWY9XCJodHRwOi8vc3RhbWVuLmNvbVwiXHUwMDNlU3RhbWVuIERlc2lnblx1MDAzYy9hXHUwMDNlLCB1bmRlciBcdTAwM2NhIGhyZWY9XCJodHRwOi8vY3JlYXRpdmVjb21tb25zLm9yZy9saWNlbnNlcy9ieS8zLjBcIlx1MDAzZUNDIEJZIDMuMFx1MDAzYy9hXHUwMDNlLiBEYXRhIGJ5IFx1MDAyNmNvcHk7IFx1MDAzY2EgaHJlZj1cImh0dHA6Ly9vcGVuc3RyZWV0bWFwLm9yZ1wiXHUwMDNlT3BlblN0cmVldE1hcFx1MDAzYy9hXHUwMDNlLCB1bmRlciBcdTAwM2NhIGhyZWY9XCJodHRwOi8vd3d3Lm9wZW5zdHJlZXRtYXAub3JnL2NvcHlyaWdodFwiXHUwMDNlT0RiTFx1MDAzYy9hXHUwMDNlLiIsICJkZXRlY3RSZXRpbmEiOiBmYWxzZSwgIm1heE5hdGl2ZVpvb20iOiAxOCwgIm1heFpvb20iOiAxOCwgIm1pblpvb20iOiAwLCAibm9XcmFwIjogZmFsc2UsICJvcGFjaXR5IjogMSwgInN1YmRvbWFpbnMiOiAiYWJjIiwgInRtcyI6IGZhbHNlfQogICAgICAgICAgICApLmFkZFRvKG1hcF9mOGZlYzM5Njk4YTc0MjcwYTliZWExNDlhMTgyNGIwOCk7CiAgICAgICAgCiAgICAKICAgICAgICAgICAgdmFyIG1hcmtlcl9kZDQwM2YxOWYxNjE0YTJlYTVhOTc5NWU0NjExMmEwNCA9IEwubWFya2VyKAogICAgICAgICAgICAgICAgWy0xODAuMCwgLTkwLjBdLAogICAgICAgICAgICAgICAge30KICAgICAgICAgICAgKS5hZGRUbyhtYXBfZjhmZWMzOTY5OGE3NDI3MGE5YmVhMTQ5YTE4MjRiMDgpOwogICAgICAgIAogICAgCiAgICAgICAgICAgIHZhciBpY29uX2M5MzUxZGM4MDk1NDRlNDQ4YWY2NmU0Y2I5NDhkNGMzID0gTC5Bd2Vzb21lTWFya2Vycy5pY29uKAogICAgICAgICAgICAgICAgeyJleHRyYUNsYXNzZXMiOiAiZmEtcm90YXRlLTAiLCAiaWNvbiI6ICJpbmZvLXNpZ24iLCAiaWNvbkNvbG9yIjogIndoaXRlIiwgIm1hcmtlckNvbG9yIjogInJlZCIsICJwcmVmaXgiOiAiZ2x5cGhpY29uIn0KICAgICAgICAgICAgKTsKICAgICAgICAgICAgbWFya2VyX2RkNDAzZjE5ZjE2MTRhMmVhNWE5Nzk1ZTQ2MTEyYTA0LnNldEljb24oaWNvbl9jOTM1MWRjODA5NTQ0ZTQ0OGFmNjZlNGNiOTQ4ZDRjMyk7CiAgICAgICAgCiAgICAKICAgICAgICB2YXIgcG9wdXBfMzBkNWY0Y2RkYzFjNDcxMGIwMzE1OGQ5NmU3ZTQ2MDIgPSBMLnBvcHVwKHsibWF4V2lkdGgiOiAiMTAwJSJ9KTsKCiAgICAgICAgCiAgICAgICAgICAgIHZhciBodG1sX2RjZDc3ODExMThkZjRhNjA5OTQ0ZWY2NzBhYmRiZmE1ID0gJChgPGRpdiBpZD0iaHRtbF9kY2Q3NzgxMTE4ZGY0YTYwOTk0NGVmNjcwYWJkYmZhNSIgc3R5bGU9IndpZHRoOiAxMDAuMCU7IGhlaWdodDogMTAwLjAlOyI+PGk+UG9pbnQgcmVjZWl2ZWQgb24gc3RlcDogMDwvaT48L2Rpdj5gKVswXTsKICAgICAgICAgICAgcG9wdXBfMzBkNWY0Y2RkYzFjNDcxMGIwMzE1OGQ5NmU3ZTQ2MDIuc2V0Q29udGVudChodG1sX2RjZDc3ODExMThkZjRhNjA5OTQ0ZWY2NzBhYmRiZmE1KTsKICAgICAgICAKCiAgICAgICAgbWFya2VyX2RkNDAzZjE5ZjE2MTRhMmVhNWE5Nzk1ZTQ2MTEyYTA0LmJpbmRQb3B1cChwb3B1cF8zMGQ1ZjRjZGRjMWM0NzEwYjAzMTU4ZDk2ZTdlNDYwMikKICAgICAgICA7CgogICAgICAgIAogICAgCiAgICAKICAgICAgICAgICAgbWFya2VyX2RkNDAzZjE5ZjE2MTRhMmVhNWE5Nzk1ZTQ2MTEyYTA0LmJpbmRUb29sdGlwKAogICAgICAgICAgICAgICAgYDxkaXY+CiAgICAgICAgICAgICAgICAgICAgIENoZWNrIHN0ZXAKICAgICAgICAgICAgICAgICA8L2Rpdj5gLAogICAgICAgICAgICAgICAgeyJzdGlja3kiOiB0cnVlfQogICAgICAgICAgICApOwogICAgICAgIAogICAgCiAgICAgICAgICAgIHZhciBtYXJrZXJfN2EzZjM5NGQxMDc4NDQ3NmI3OGJmYTQwYmMwYzg4MzYgPSBMLm1hcmtlcigKICAgICAgICAgICAgICAgIFsxODAuMCwgOTAuMF0sCiAgICAgICAgICAgICAgICB7fQogICAgICAgICAgICApLmFkZFRvKG1hcF9mOGZlYzM5Njk4YTc0MjcwYTliZWExNDlhMTgyNGIwOCk7CiAgICAgICAgCiAgICAKICAgICAgICAgICAgdmFyIGljb25fZWY3NWU1MzQxNGQ4NDMzMjhkMmQyMzEwNDRiZDA5NmYgPSBMLkF3ZXNvbWVNYXJrZXJzLmljb24oCiAgICAgICAgICAgICAgICB7ImV4dHJhQ2xhc3NlcyI6ICJmYS1yb3RhdGUtMCIsICJpY29uIjogImluZm8tc2lnbiIsICJpY29uQ29sb3IiOiAid2hpdGUiLCAibWFya2VyQ29sb3IiOiAicmVkIiwgInByZWZpeCI6ICJnbHlwaGljb24ifQogICAgICAgICAgICApOwogICAgICAgICAgICBtYXJrZXJfN2EzZjM5NGQxMDc4NDQ3NmI3OGJmYTQwYmMwYzg4MzYuc2V0SWNvbihpY29uX2VmNzVlNTM0MTRkODQzMzI4ZDJkMjMxMDQ0YmQwOTZmKTsKICAgICAgICAKICAgIAogICAgICAgIHZhciBwb3B1cF8xYjk0NmVjMGE5ZmY0ZDRkYTc0MmZiYTllN2MzYWYxYyA9IEwucG9wdXAoeyJtYXhXaWR0aCI6ICIxMDAlIn0pOwoKICAgICAgICAKICAgICAgICAgICAgdmFyIGh0bWxfOGZiNWQ4N2Q5NjQ1NDViNGFmZDMxNzgxNWYwNjA3ZDMgPSAkKGA8ZGl2IGlkPSJodG1sXzhmYjVkODdkOTY0NTQ1YjRhZmQzMTc4MTVmMDYwN2QzIiBzdHlsZT0id2lkdGg6IDEwMC4wJTsgaGVpZ2h0OiAxMDAuMCU7Ij48aT5Qb2ludCByZWNlaXZlZCBvbiBzdGVwOiAxPC9pPjwvZGl2PmApWzBdOwogICAgICAgICAgICBwb3B1cF8xYjk0NmVjMGE5ZmY0ZDRkYTc0MmZiYTllN2MzYWYxYy5zZXRDb250ZW50KGh0bWxfOGZiNWQ4N2Q5NjQ1NDViNGFmZDMxNzgxNWYwNjA3ZDMpOwogICAgICAgIAoKICAgICAgICBtYXJrZXJfN2EzZjM5NGQxMDc4NDQ3NmI3OGJmYTQwYmMwYzg4MzYuYmluZFBvcHVwKHBvcHVwXzFiOTQ2ZWMwYTlmZjRkNGRhNzQyZmJhOWU3YzNhZjFjKQogICAgICAgIDsKCiAgICAgICAgCiAgICAKICAgIAogICAgICAgICAgICBtYXJrZXJfN2EzZjM5NGQxMDc4NDQ3NmI3OGJmYTQwYmMwYzg4MzYuYmluZFRvb2x0aXAoCiAgICAgICAgICAgICAgICBgPGRpdj4KICAgICAgICAgICAgICAgICAgICAgQ2hlY2sgc3RlcAogICAgICAgICAgICAgICAgIDwvZGl2PmAsCiAgICAgICAgICAgICAgICB7InN0aWNreSI6IHRydWV9CiAgICAgICAgICAgICk7CiAgICAgICAgCiAgICAKICAgICAgICAgICAgdmFyIG1hcmtlcl82N2ExY2NkYWQwOWU0ZWYwYjIxZTU5YzAxMzAwYzA0MiA9IEwubWFya2VyKAogICAgICAgICAgICAgICAgWy0xODAuMCwgMC4wXSwKICAgICAgICAgICAgICAgIHt9CiAgICAgICAgICAgICkuYWRkVG8obWFwX2Y4ZmVjMzk2OThhNzQyNzBhOWJlYTE0OWExODI0YjA4KTsKICAgICAgICAKICAgIAogICAgICAgICAgICB2YXIgaWNvbl9iM2E0NjhkYTZkZDk0ZTcxYjdiYWQ5NmViZGIwMjhiZiA9IEwuQXdlc29tZU1hcmtlcnMuaWNvbigKICAgICAgICAgICAgICAgIHsiZXh0cmFDbGFzc2VzIjogImZhLXJvdGF0ZS0wIiwgImljb24iOiAiaW5mby1zaWduIiwgImljb25Db2xvciI6ICJ3aGl0ZSIsICJtYXJrZXJDb2xvciI6ICJyZWQiLCAicHJlZml4IjogImdseXBoaWNvbiJ9CiAgICAgICAgICAgICk7CiAgICAgICAgICAgIG1hcmtlcl82N2ExY2NkYWQwOWU0ZWYwYjIxZTU5YzAxMzAwYzA0Mi5zZXRJY29uKGljb25fYjNhNDY4ZGE2ZGQ5NGU3MWI3YmFkOTZlYmRiMDI4YmYpOwogICAgICAgIAogICAgCiAgICAgICAgdmFyIHBvcHVwX2YyNTNhZjNiMzhjZTQwMjdiODI4Nzc2YjhmNTI2ODMxID0gTC5wb3B1cCh7Im1heFdpZHRoIjogIjEwMCUifSk7CgogICAgICAgIAogICAgICAgICAgICB2YXIgaHRtbF8wMmJhN2M5MGI5NTM0OTQxOTNiYWU4ZmNlZDBhNDJmMiA9ICQoYDxkaXYgaWQ9Imh0bWxfMDJiYTdjOTBiOTUzNDk0MTkzYmFlOGZjZWQwYTQyZjIiIHN0eWxlPSJ3aWR0aDogMTAwLjAlOyBoZWlnaHQ6IDEwMC4wJTsiPjxpPlBvaW50IHJlY2VpdmVkIG9uIHN0ZXA6IDI8L2k+PC9kaXY+YClbMF07CiAgICAgICAgICAgIHBvcHVwX2YyNTNhZjNiMzhjZTQwMjdiODI4Nzc2YjhmNTI2ODMxLnNldENvbnRlbnQoaHRtbF8wMmJhN2M5MGI5NTM0OTQxOTNiYWU4ZmNlZDBhNDJmMik7CiAgICAgICAgCgogICAgICAgIG1hcmtlcl82N2ExY2NkYWQwOWU0ZWYwYjIxZTU5YzAxMzAwYzA0Mi5iaW5kUG9wdXAocG9wdXBfZjI1M2FmM2IzOGNlNDAyN2I4Mjg3NzZiOGY1MjY4MzEpCiAgICAgICAgOwoKICAgICAgICAKICAgIAogICAgCiAgICAgICAgICAgIG1hcmtlcl82N2ExY2NkYWQwOWU0ZWYwYjIxZTU5YzAxMzAwYzA0Mi5iaW5kVG9vbHRpcCgKICAgICAgICAgICAgICAgIGA8ZGl2PgogICAgICAgICAgICAgICAgICAgICBDaGVjayBzdGVwCiAgICAgICAgICAgICAgICAgPC9kaXY+YCwKICAgICAgICAgICAgICAgIHsic3RpY2t5IjogdHJ1ZX0KICAgICAgICAgICAgKTsKICAgICAgICAKICAgIAogICAgICAgICAgICB2YXIgbWFya2VyX2E5OGIwNWFiNzQ4OTQzMTdhMzEzNTZlMWJhNjkxMGUzID0gTC5tYXJrZXIoCiAgICAgICAgICAgICAgICBbLTE4MC4wLCA0NS4wXSwKICAgICAgICAgICAgICAgIHt9CiAgICAgICAgICAgICkuYWRkVG8obWFwX2Y4ZmVjMzk2OThhNzQyNzBhOWJlYTE0OWExODI0YjA4KTsKICAgICAgICAKICAgIAogICAgICAgICAgICB2YXIgaWNvbl8yZjRlODI5ZjhiZTM0ZGNlODgzNGQxNWI1NjZhNDNmYiA9IEwuQXdlc29tZU1hcmtlcnMuaWNvbigKICAgICAgICAgICAgICAgIHsiZXh0cmFDbGFzc2VzIjogImZhLXJvdGF0ZS0wIiwgImljb24iOiAiaW5mby1zaWduIiwgImljb25Db2xvciI6ICJ3aGl0ZSIsICJtYXJrZXJDb2xvciI6ICJyZWQiLCAicHJlZml4IjogImdseXBoaWNvbiJ9CiAgICAgICAgICAgICk7CiAgICAgICAgICAgIG1hcmtlcl9hOThiMDVhYjc0ODk0MzE3YTMxMzU2ZTFiYTY5MTBlMy5zZXRJY29uKGljb25fMmY0ZTgyOWY4YmUzNGRjZTg4MzRkMTViNTY2YTQzZmIpOwogICAgICAgIAogICAgCiAgICAgICAgdmFyIHBvcHVwX2RkMjY2YzI1YjJlYzQwYjc5OTg5NTc3NjU2MDQzYzYzID0gTC5wb3B1cCh7Im1heFdpZHRoIjogIjEwMCUifSk7CgogICAgICAgIAogICAgICAgICAgICB2YXIgaHRtbF83YTAwZjMxNTkyNjg0OTEzOGYyZTA3NWIyNWQ0ZmU2YiA9ICQoYDxkaXYgaWQ9Imh0bWxfN2EwMGYzMTU5MjY4NDkxMzhmMmUwNzViMjVkNGZlNmIiIHN0eWxlPSJ3aWR0aDogMTAwLjAlOyBoZWlnaHQ6IDEwMC4wJTsiPjxpPlBvaW50IHJlY2VpdmVkIG9uIHN0ZXA6IDM8L2k+PC9kaXY+YClbMF07CiAgICAgICAgICAgIHBvcHVwX2RkMjY2YzI1YjJlYzQwYjc5OTg5NTc3NjU2MDQzYzYzLnNldENvbnRlbnQoaHRtbF83YTAwZjMxNTkyNjg0OTEzOGYyZTA3NWIyNWQ0ZmU2Yik7CiAgICAgICAgCgogICAgICAgIG1hcmtlcl9hOThiMDVhYjc0ODk0MzE3YTMxMzU2ZTFiYTY5MTBlMy5iaW5kUG9wdXAocG9wdXBfZGQyNjZjMjViMmVjNDBiNzk5ODk1Nzc2NTYwNDNjNjMpCiAgICAgICAgOwoKICAgICAgICAKICAgIAogICAgCiAgICAgICAgICAgIG1hcmtlcl9hOThiMDVhYjc0ODk0MzE3YTMxMzU2ZTFiYTY5MTBlMy5iaW5kVG9vbHRpcCgKICAgICAgICAgICAgICAgIGA8ZGl2PgogICAgICAgICAgICAgICAgICAgICBDaGVjayBzdGVwCiAgICAgICAgICAgICAgICAgPC9kaXY+YCwKICAgICAgICAgICAgICAgIHsic3RpY2t5IjogdHJ1ZX0KICAgICAgICAgICAgKTsKICAgICAgICAKICAgIAogICAgICAgICAgICB2YXIgbWFya2VyX2Q5NjdmZWVkN2I2ZjRlM2NhYTEyYzk3MjkwY2VkOGIxID0gTC5tYXJrZXIoCiAgICAgICAgICAgICAgICBbMC4wLCA0NS4wXSwKICAgICAgICAgICAgICAgIHt9CiAgICAgICAgICAgICkuYWRkVG8obWFwX2Y4ZmVjMzk2OThhNzQyNzBhOWJlYTE0OWExODI0YjA4KTsKICAgICAgICAKICAgIAogICAgICAgICAgICB2YXIgaWNvbl8xNDMwMTY2MjcyMjM0NTA5YjA0OGI3NGJkNzIxOWY0ZiA9IEwuQXdlc29tZU1hcmtlcnMuaWNvbigKICAgICAgICAgICAgICAgIHsiZXh0cmFDbGFzc2VzIjogImZhLXJvdGF0ZS0wIiwgImljb24iOiAiaW5mby1zaWduIiwgImljb25Db2xvciI6ICJ3aGl0ZSIsICJtYXJrZXJDb2xvciI6ICJyZWQiLCAicHJlZml4IjogImdseXBoaWNvbiJ9CiAgICAgICAgICAgICk7CiAgICAgICAgICAgIG1hcmtlcl9kOTY3ZmVlZDdiNmY0ZTNjYWExMmM5NzI5MGNlZDhiMS5zZXRJY29uKGljb25fMTQzMDE2NjI3MjIzNDUwOWIwNDhiNzRiZDcyMTlmNGYpOwogICAgICAgIAogICAgCiAgICAgICAgdmFyIHBvcHVwX2Y0ODkyNDJhNGY3MDQ3NmE4MWQ3NmFkOGUyMmYyYzQzID0gTC5wb3B1cCh7Im1heFdpZHRoIjogIjEwMCUifSk7CgogICAgICAgIAogICAgICAgICAgICB2YXIgaHRtbF85ZGJlODYxM2FiODc0M2RjYWY0MTllMjg1NWEwNzJlNiA9ICQoYDxkaXYgaWQ9Imh0bWxfOWRiZTg2MTNhYjg3NDNkY2FmNDE5ZTI4NTVhMDcyZTYiIHN0eWxlPSJ3aWR0aDogMTAwLjAlOyBoZWlnaHQ6IDEwMC4wJTsiPjxpPlBvaW50IHJlY2VpdmVkIG9uIHN0ZXA6IDQ8L2k+PC9kaXY+YClbMF07CiAgICAgICAgICAgIHBvcHVwX2Y0ODkyNDJhNGY3MDQ3NmE4MWQ3NmFkOGUyMmYyYzQzLnNldENvbnRlbnQoaHRtbF85ZGJlODYxM2FiODc0M2RjYWY0MTllMjg1NWEwNzJlNik7CiAgICAgICAgCgogICAgICAgIG1hcmtlcl9kOTY3ZmVlZDdiNmY0ZTNjYWExMmM5NzI5MGNlZDhiMS5iaW5kUG9wdXAocG9wdXBfZjQ4OTI0MmE0ZjcwNDc2YTgxZDc2YWQ4ZTIyZjJjNDMpCiAgICAgICAgOwoKICAgICAgICAKICAgIAogICAgCiAgICAgICAgICAgIG1hcmtlcl9kOTY3ZmVlZDdiNmY0ZTNjYWExMmM5NzI5MGNlZDhiMS5iaW5kVG9vbHRpcCgKICAgICAgICAgICAgICAgIGA8ZGl2PgogICAgICAgICAgICAgICAgICAgICBDaGVjayBzdGVwCiAgICAgICAgICAgICAgICAgPC9kaXY+YCwKICAgICAgICAgICAgICAgIHsic3RpY2t5IjogdHJ1ZX0KICAgICAgICAgICAgKTsKICAgICAgICAKICAgIAogICAgICAgICAgICB2YXIgbWFya2VyXzU3ZGYwMTVlNmZjMzRmZTBiMjU4NjNhYjg3ZGU1MWQ4ID0gTC5tYXJrZXIoCiAgICAgICAgICAgICAgICBbMC4wLCA2Ny41XSwKICAgICAgICAgICAgICAgIHt9CiAgICAgICAgICAgICkuYWRkVG8obWFwX2Y4ZmVjMzk2OThhNzQyNzBhOWJlYTE0OWExODI0YjA4KTsKICAgICAgICAKICAgIAogICAgICAgICAgICB2YXIgaWNvbl82NTQ4OGE3ODQxY2U0NTQzODAwNDFkZGY0Y2Q2ODgxOSA9IEwuQXdlc29tZU1hcmtlcnMuaWNvbigKICAgICAgICAgICAgICAgIHsiZXh0cmFDbGFzc2VzIjogImZhLXJvdGF0ZS0wIiwgImljb24iOiAiaW5mby1zaWduIiwgImljb25Db2xvciI6ICJ3aGl0ZSIsICJtYXJrZXJDb2xvciI6ICJyZWQiLCAicHJlZml4IjogImdseXBoaWNvbiJ9CiAgICAgICAgICAgICk7CiAgICAgICAgICAgIG1hcmtlcl81N2RmMDE1ZTZmYzM0ZmUwYjI1ODYzYWI4N2RlNTFkOC5zZXRJY29uKGljb25fNjU0ODhhNzg0MWNlNDU0MzgwMDQxZGRmNGNkNjg4MTkpOwogICAgICAgIAogICAgCiAgICAgICAgdmFyIHBvcHVwXzE2MjY4ZTBjMGQ3ODQyMGY4OGJmMmQ1ZGJjY2I2MzQyID0gTC5wb3B1cCh7Im1heFdpZHRoIjogIjEwMCUifSk7CgogICAgICAgIAogICAgICAgICAgICB2YXIgaHRtbF85MGJkNGNjY2Q1YWU0OTJlOGZhMjUxZmQwZWU4ZDJmOSA9ICQoYDxkaXYgaWQ9Imh0bWxfOTBiZDRjY2NkNWFlNDkyZThmYTI1MWZkMGVlOGQyZjkiIHN0eWxlPSJ3aWR0aDogMTAwLjAlOyBoZWlnaHQ6IDEwMC4wJTsiPjxpPlBvaW50IHJlY2VpdmVkIG9uIHN0ZXA6IDU8L2k+PC9kaXY+YClbMF07CiAgICAgICAgICAgIHBvcHVwXzE2MjY4ZTBjMGQ3ODQyMGY4OGJmMmQ1ZGJjY2I2MzQyLnNldENvbnRlbnQoaHRtbF85MGJkNGNjY2Q1YWU0OTJlOGZhMjUxZmQwZWU4ZDJmOSk7CiAgICAgICAgCgogICAgICAgIG1hcmtlcl81N2RmMDE1ZTZmYzM0ZmUwYjI1ODYzYWI4N2RlNTFkOC5iaW5kUG9wdXAocG9wdXBfMTYyNjhlMGMwZDc4NDIwZjg4YmYyZDVkYmNjYjYzNDIpCiAgICAgICAgOwoKICAgICAgICAKICAgIAogICAgCiAgICAgICAgICAgIG1hcmtlcl81N2RmMDE1ZTZmYzM0ZmUwYjI1ODYzYWI4N2RlNTFkOC5iaW5kVG9vbHRpcCgKICAgICAgICAgICAgICAgIGA8ZGl2PgogICAgICAgICAgICAgICAgICAgICBDaGVjayBzdGVwCiAgICAgICAgICAgICAgICAgPC9kaXY+YCwKICAgICAgICAgICAgICAgIHsic3RpY2t5IjogdHJ1ZX0KICAgICAgICAgICAgKTsKICAgICAgICAKICAgIAogICAgICAgICAgICB2YXIgbWFya2VyXzQ0YWQ3NDk5OTk3MTQ1YmM4NTQ2NmVlMjVmNGIwNjRhID0gTC5tYXJrZXIoCiAgICAgICAgICAgICAgICBbOTAuMCwgOTAuMF0sCiAgICAgICAgICAgICAgICB7fQogICAgICAgICAgICApLmFkZFRvKG1hcF9mOGZlYzM5Njk4YTc0MjcwYTliZWExNDlhMTgyNGIwOCk7CiAgICAgICAgCiAgICAKICAgICAgICAgICAgdmFyIGljb25fYzhlMDdmNWQ4NDdkNDg1ZDk1MTc0OGVkMzBkMmZlMDggPSBMLkF3ZXNvbWVNYXJrZXJzLmljb24oCiAgICAgICAgICAgICAgICB7ImV4dHJhQ2xhc3NlcyI6ICJmYS1yb3RhdGUtMCIsICJpY29uIjogImluZm8tc2lnbiIsICJpY29uQ29sb3IiOiAid2hpdGUiLCAibWFya2VyQ29sb3IiOiAicmVkIiwgInByZWZpeCI6ICJnbHlwaGljb24ifQogICAgICAgICAgICApOwogICAgICAgICAgICBtYXJrZXJfNDRhZDc0OTk5OTcxNDViYzg1NDY2ZWUyNWY0YjA2NGEuc2V0SWNvbihpY29uX2M4ZTA3ZjVkODQ3ZDQ4NWQ5NTE3NDhlZDMwZDJmZTA4KTsKICAgICAgICAKICAgIAogICAgICAgIHZhciBwb3B1cF9jM2Q3YjBkYjM1Zjc0NDExODI4YzA5ZmRjOTc5NjlmYyA9IEwucG9wdXAoeyJtYXhXaWR0aCI6ICIxMDAlIn0pOwoKICAgICAgICAKICAgICAgICAgICAgdmFyIGh0bWxfNjEzNzUzMDNkYTIyNDJiMTg1YjMwM2RiZTBmYzU3YjIgPSAkKGA8ZGl2IGlkPSJodG1sXzYxMzc1MzAzZGEyMjQyYjE4NWIzMDNkYmUwZmM1N2IyIiBzdHlsZT0id2lkdGg6IDEwMC4wJTsgaGVpZ2h0OiAxMDAuMCU7Ij48aT5Qb2ludCByZWNlaXZlZCBvbiBzdGVwOiA2PC9pPjwvZGl2PmApWzBdOwogICAgICAgICAgICBwb3B1cF9jM2Q3YjBkYjM1Zjc0NDExODI4YzA5ZmRjOTc5NjlmYy5zZXRDb250ZW50KGh0bWxfNjEzNzUzMDNkYTIyNDJiMTg1YjMwM2RiZTBmYzU3YjIpOwogICAgICAgIAoKICAgICAgICBtYXJrZXJfNDRhZDc0OTk5OTcxNDViYzg1NDY2ZWUyNWY0YjA2NGEuYmluZFBvcHVwKHBvcHVwX2MzZDdiMGRiMzVmNzQ0MTE4MjhjMDlmZGM5Nzk2OWZjKQogICAgICAgIDsKCiAgICAgICAgCiAgICAKICAgIAogICAgICAgICAgICBtYXJrZXJfNDRhZDc0OTk5OTcxNDViYzg1NDY2ZWUyNWY0YjA2NGEuYmluZFRvb2x0aXAoCiAgICAgICAgICAgICAgICBgPGRpdj4KICAgICAgICAgICAgICAgICAgICAgQ2hlY2sgc3RlcAogICAgICAgICAgICAgICAgIDwvZGl2PmAsCiAgICAgICAgICAgICAgICB7InN0aWNreSI6IHRydWV9CiAgICAgICAgICAgICk7CiAgICAgICAgCiAgICAKICAgICAgICAgICAgdmFyIG1hcmtlcl8yZDQzM2ExN2YwZDk0YTVlOGQ4MjZiMGYyYjBkNWViOSA9IEwubWFya2VyKAogICAgICAgICAgICAgICAgWzkwLjAsIDc4Ljc1XSwKICAgICAgICAgICAgICAgIHt9CiAgICAgICAgICAgICkuYWRkVG8obWFwX2Y4ZmVjMzk2OThhNzQyNzBhOWJlYTE0OWExODI0YjA4KTsKICAgICAgICAKICAgIAogICAgICAgICAgICB2YXIgaWNvbl8zZWQzNDQwZmM0MzE0OTUzOWE5OTc5ZDgxOGE2NDBiZCA9IEwuQXdlc29tZU1hcmtlcnMuaWNvbigKICAgICAgICAgICAgICAgIHsiZXh0cmFDbGFzc2VzIjogImZhLXJvdGF0ZS0wIiwgImljb24iOiAiaW5mby1zaWduIiwgImljb25Db2xvciI6ICJ3aGl0ZSIsICJtYXJrZXJDb2xvciI6ICJyZWQiLCAicHJlZml4IjogImdseXBoaWNvbiJ9CiAgICAgICAgICAgICk7CiAgICAgICAgICAgIG1hcmtlcl8yZDQzM2ExN2YwZDk0YTVlOGQ4MjZiMGYyYjBkNWViOS5zZXRJY29uKGljb25fM2VkMzQ0MGZjNDMxNDk1MzlhOTk3OWQ4MThhNjQwYmQpOwogICAgICAgIAogICAgCiAgICAgICAgdmFyIHBvcHVwX2FhNDUwOWM4NWI5ZTQ3YjU4ZWY3NjdlMDg3Y2ZmNGQzID0gTC5wb3B1cCh7Im1heFdpZHRoIjogIjEwMCUifSk7CgogICAgICAgIAogICAgICAgICAgICB2YXIgaHRtbF85YTVlNjhkNWI1OWU0NjZmOGFmYWM5YTNjNDYwZjg3NSA9ICQoYDxkaXYgaWQ9Imh0bWxfOWE1ZTY4ZDViNTllNDY2ZjhhZmFjOWEzYzQ2MGY4NzUiIHN0eWxlPSJ3aWR0aDogMTAwLjAlOyBoZWlnaHQ6IDEwMC4wJTsiPjxpPlBvaW50IHJlY2VpdmVkIG9uIHN0ZXA6IDc8L2k+PC9kaXY+YClbMF07CiAgICAgICAgICAgIHBvcHVwX2FhNDUwOWM4NWI5ZTQ3YjU4ZWY3NjdlMDg3Y2ZmNGQzLnNldENvbnRlbnQoaHRtbF85YTVlNjhkNWI1OWU0NjZmOGFmYWM5YTNjNDYwZjg3NSk7CiAgICAgICAgCgogICAgICAgIG1hcmtlcl8yZDQzM2ExN2YwZDk0YTVlOGQ4MjZiMGYyYjBkNWViOS5iaW5kUG9wdXAocG9wdXBfYWE0NTA5Yzg1YjllNDdiNThlZjc2N2UwODdjZmY0ZDMpCiAgICAgICAgOwoKICAgICAgICAKICAgIAogICAgCiAgICAgICAgICAgIG1hcmtlcl8yZDQzM2ExN2YwZDk0YTVlOGQ4MjZiMGYyYjBkNWViOS5iaW5kVG9vbHRpcCgKICAgICAgICAgICAgICAgIGA8ZGl2PgogICAgICAgICAgICAgICAgICAgICBDaGVjayBzdGVwCiAgICAgICAgICAgICAgICAgPC9kaXY+YCwKICAgICAgICAgICAgICAgIHsic3RpY2t5IjogdHJ1ZX0KICAgICAgICAgICAgKTsKICAgICAgICAKICAgIAogICAgICAgICAgICB2YXIgbWFya2VyX2U5YWFhNmMyNDA1NTRhOWFiNjAzYzM3M2ZmNDU1Yjc1ID0gTC5tYXJrZXIoCiAgICAgICAgICAgICAgICBbNDUuMCwgNzguNzVdLAogICAgICAgICAgICAgICAge30KICAgICAgICAgICAgKS5hZGRUbyhtYXBfZjhmZWMzOTY5OGE3NDI3MGE5YmVhMTQ5YTE4MjRiMDgpOwogICAgICAgIAogICAgCiAgICAgICAgICAgIHZhciBpY29uXzdkZjRiNzA1ZGJmMjQyMDI5NDEzYjJmNDg0ODM5MTMyID0gTC5Bd2Vzb21lTWFya2Vycy5pY29uKAogICAgICAgICAgICAgICAgeyJleHRyYUNsYXNzZXMiOiAiZmEtcm90YXRlLTAiLCAiaWNvbiI6ICJpbmZvLXNpZ24iLCAiaWNvbkNvbG9yIjogIndoaXRlIiwgIm1hcmtlckNvbG9yIjogInJlZCIsICJwcmVmaXgiOiAiZ2x5cGhpY29uIn0KICAgICAgICAgICAgKTsKICAgICAgICAgICAgbWFya2VyX2U5YWFhNmMyNDA1NTRhOWFiNjAzYzM3M2ZmNDU1Yjc1LnNldEljb24oaWNvbl83ZGY0YjcwNWRiZjI0MjAyOTQxM2IyZjQ4NDgzOTEzMik7CiAgICAgICAgCiAgICAKICAgICAgICB2YXIgcG9wdXBfZDg1Yjg1ZGYzYjFmNGNkODhkN2Q4MWI3MDRkZGM2MjUgPSBMLnBvcHVwKHsibWF4V2lkdGgiOiAiMTAwJSJ9KTsKCiAgICAgICAgCiAgICAgICAgICAgIHZhciBodG1sXzZjNjNlNDE4YWMzNjRiMjhhNTAxNDliNGUzNjlkNTRmID0gJChgPGRpdiBpZD0iaHRtbF82YzYzZTQxOGFjMzY0YjI4YTUwMTQ5YjRlMzY5ZDU0ZiIgc3R5bGU9IndpZHRoOiAxMDAuMCU7IGhlaWdodDogMTAwLjAlOyI+PGk+UG9pbnQgcmVjZWl2ZWQgb24gc3RlcDogODwvaT48L2Rpdj5gKVswXTsKICAgICAgICAgICAgcG9wdXBfZDg1Yjg1ZGYzYjFmNGNkODhkN2Q4MWI3MDRkZGM2MjUuc2V0Q29udGVudChodG1sXzZjNjNlNDE4YWMzNjRiMjhhNTAxNDliNGUzNjlkNTRmKTsKICAgICAgICAKCiAgICAgICAgbWFya2VyX2U5YWFhNmMyNDA1NTRhOWFiNjAzYzM3M2ZmNDU1Yjc1LmJpbmRQb3B1cChwb3B1cF9kODViODVkZjNiMWY0Y2Q4OGQ3ZDgxYjcwNGRkYzYyNSkKICAgICAgICA7CgogICAgICAgIAogICAgCiAgICAKICAgICAgICAgICAgbWFya2VyX2U5YWFhNmMyNDA1NTRhOWFiNjAzYzM3M2ZmNDU1Yjc1LmJpbmRUb29sdGlwKAogICAgICAgICAgICAgICAgYDxkaXY+CiAgICAgICAgICAgICAgICAgICAgIENoZWNrIHN0ZXAKICAgICAgICAgICAgICAgICA8L2Rpdj5gLAogICAgICAgICAgICAgICAgeyJzdGlja3kiOiB0cnVlfQogICAgICAgICAgICApOwogICAgICAgIAogICAgCiAgICAgICAgICAgIHZhciBtYXJrZXJfMjBjOGY5MjE1YzU0NGZhNThhNmQ0NTVmNmE2MjY2ODIgPSBMLm1hcmtlcigKICAgICAgICAgICAgICAgIFsyMi41LCA2Ny41XSwKICAgICAgICAgICAgICAgIHt9CiAgICAgICAgICAgICkuYWRkVG8obWFwX2Y4ZmVjMzk2OThhNzQyNzBhOWJlYTE0OWExODI0YjA4KTsKICAgICAgICAKICAgIAogICAgICAgICAgICB2YXIgaWNvbl84OGFiYmFiMTA5Mjg0NDI4ODlhYmE0Y2Q3OGIxMzFjOSA9IEwuQXdlc29tZU1hcmtlcnMuaWNvbigKICAgICAgICAgICAgICAgIHsiZXh0cmFDbGFzc2VzIjogImZhLXJvdGF0ZS0wIiwgImljb24iOiAiaW5mby1zaWduIiwgImljb25Db2xvciI6ICJ3aGl0ZSIsICJtYXJrZXJDb2xvciI6ICJyZWQiLCAicHJlZml4IjogImdseXBoaWNvbiJ9CiAgICAgICAgICAgICk7CiAgICAgICAgICAgIG1hcmtlcl8yMGM4ZjkyMTVjNTQ0ZmE1OGE2ZDQ1NWY2YTYyNjY4Mi5zZXRJY29uKGljb25fODhhYmJhYjEwOTI4NDQyODg5YWJhNGNkNzhiMTMxYzkpOwogICAgICAgIAogICAgCiAgICAgICAgdmFyIHBvcHVwXzBhNjQzM2I0YWU3YTQ4YmM5NjRjODM3OTdhNzJlYzM5ID0gTC5wb3B1cCh7Im1heFdpZHRoIjogIjEwMCUifSk7CgogICAgICAgIAogICAgICAgICAgICB2YXIgaHRtbF9lNWZkZWViMWRjNWE0OWJmODc2ZjY2Yjk5MjEzYjk0YiA9ICQoYDxkaXYgaWQ9Imh0bWxfZTVmZGVlYjFkYzVhNDliZjg3NmY2NmI5OTIxM2I5NGIiIHN0eWxlPSJ3aWR0aDogMTAwLjAlOyBoZWlnaHQ6IDEwMC4wJTsiPjxpPlBvaW50IHJlY2VpdmVkIG9uIHN0ZXA6IDk8L2k+PC9kaXY+YClbMF07CiAgICAgICAgICAgIHBvcHVwXzBhNjQzM2I0YWU3YTQ4YmM5NjRjODM3OTdhNzJlYzM5LnNldENvbnRlbnQoaHRtbF9lNWZkZWViMWRjNWE0OWJmODc2ZjY2Yjk5MjEzYjk0Yik7CiAgICAgICAgCgogICAgICAgIG1hcmtlcl8yMGM4ZjkyMTVjNTQ0ZmE1OGE2ZDQ1NWY2YTYyNjY4Mi5iaW5kUG9wdXAocG9wdXBfMGE2NDMzYjRhZTdhNDhiYzk2NGM4Mzc5N2E3MmVjMzkpCiAgICAgICAgOwoKICAgICAgICAKICAgIAogICAgCiAgICAgICAgICAgIG1hcmtlcl8yMGM4ZjkyMTVjNTQ0ZmE1OGE2ZDQ1NWY2YTYyNjY4Mi5iaW5kVG9vbHRpcCgKICAgICAgICAgICAgICAgIGA8ZGl2PgogICAgICAgICAgICAgICAgICAgICBDaGVjayBzdGVwCiAgICAgICAgICAgICAgICAgPC9kaXY+YCwKICAgICAgICAgICAgICAgIHsic3RpY2t5IjogdHJ1ZX0KICAgICAgICAgICAgKTsKICAgICAgICAKICAgIAogICAgICAgICAgICB2YXIgbWFya2VyXzM5YWY0NzFiMDI4MDQ5ZTM5YWM1MjdmYjk5NGY0OTNkID0gTC5tYXJrZXIoCiAgICAgICAgICAgICAgICBbNDUuMCwgNzMuMTI1XSwKICAgICAgICAgICAgICAgIHt9CiAgICAgICAgICAgICkuYWRkVG8obWFwX2Y4ZmVjMzk2OThhNzQyNzBhOWJlYTE0OWExODI0YjA4KTsKICAgICAgICAKICAgIAogICAgICAgICAgICB2YXIgaWNvbl84NWJlMDMyYzg3M2E0ZmM5YmRkOTZhYTcyNTQ4ZDc4MyA9IEwuQXdlc29tZU1hcmtlcnMuaWNvbigKICAgICAgICAgICAgICAgIHsiZXh0cmFDbGFzc2VzIjogImZhLXJvdGF0ZS0wIiwgImljb24iOiAiaW5mby1zaWduIiwgImljb25Db2xvciI6ICJ3aGl0ZSIsICJtYXJrZXJDb2xvciI6ICJyZWQiLCAicHJlZml4IjogImdseXBoaWNvbiJ9CiAgICAgICAgICAgICk7CiAgICAgICAgICAgIG1hcmtlcl8zOWFmNDcxYjAyODA0OWUzOWFjNTI3ZmI5OTRmNDkzZC5zZXRJY29uKGljb25fODViZTAzMmM4NzNhNGZjOWJkZDk2YWE3MjU0OGQ3ODMpOwogICAgICAgIAogICAgCiAgICAgICAgdmFyIHBvcHVwX2U3YmZjMjJiZWNlNjQ1NzU4NzA4ZDkwNmMzZTY0MGZmID0gTC5wb3B1cCh7Im1heFdpZHRoIjogIjEwMCUifSk7CgogICAgICAgIAogICAgICAgICAgICB2YXIgaHRtbF83YzVkYzM4N2ZlMWI0YzVhYTgzNjZjZTFmNmZiOTE0YyA9ICQoYDxkaXYgaWQ9Imh0bWxfN2M1ZGMzODdmZTFiNGM1YWE4MzY2Y2UxZjZmYjkxNGMiIHN0eWxlPSJ3aWR0aDogMTAwLjAlOyBoZWlnaHQ6IDEwMC4wJTsiPjxpPlBvaW50IHJlY2VpdmVkIG9uIHN0ZXA6IDEwPC9pPjwvZGl2PmApWzBdOwogICAgICAgICAgICBwb3B1cF9lN2JmYzIyYmVjZTY0NTc1ODcwOGQ5MDZjM2U2NDBmZi5zZXRDb250ZW50KGh0bWxfN2M1ZGMzODdmZTFiNGM1YWE4MzY2Y2UxZjZmYjkxNGMpOwogICAgICAgIAoKICAgICAgICBtYXJrZXJfMzlhZjQ3MWIwMjgwNDllMzlhYzUyN2ZiOTk0ZjQ5M2QuYmluZFBvcHVwKHBvcHVwX2U3YmZjMjJiZWNlNjQ1NzU4NzA4ZDkwNmMzZTY0MGZmKQogICAgICAgIDsKCiAgICAgICAgCiAgICAKICAgIAogICAgICAgICAgICBtYXJrZXJfMzlhZjQ3MWIwMjgwNDllMzlhYzUyN2ZiOTk0ZjQ5M2QuYmluZFRvb2x0aXAoCiAgICAgICAgICAgICAgICBgPGRpdj4KICAgICAgICAgICAgICAgICAgICAgQ2hlY2sgc3RlcAogICAgICAgICAgICAgICAgIDwvZGl2PmAsCiAgICAgICAgICAgICAgICB7InN0aWNreSI6IHRydWV9CiAgICAgICAgICAgICk7CiAgICAgICAgCiAgICAKICAgICAgICAgICAgdmFyIG1hcmtlcl9lYjFiOTRmOGVhZGU0NDliODExZmE1NjUxYmUxM2RjNSA9IEwubWFya2VyKAogICAgICAgICAgICAgICAgWzMzLjc1LCA2Ny41XSwKICAgICAgICAgICAgICAgIHt9CiAgICAgICAgICAgICkuYWRkVG8obWFwX2Y4ZmVjMzk2OThhNzQyNzBhOWJlYTE0OWExODI0YjA4KTsKICAgICAgICAKICAgIAogICAgICAgICAgICB2YXIgaWNvbl8wMjBjODI1MzhiY2I0MjBiYjY3ZTg4NTM3ZTc4MDdlMyA9IEwuQXdlc29tZU1hcmtlcnMuaWNvbigKICAgICAgICAgICAgICAgIHsiZXh0cmFDbGFzc2VzIjogImZhLXJvdGF0ZS0wIiwgImljb24iOiAiaW5mby1zaWduIiwgImljb25Db2xvciI6ICJ3aGl0ZSIsICJtYXJrZXJDb2xvciI6ICJyZWQiLCAicHJlZml4IjogImdseXBoaWNvbiJ9CiAgICAgICAgICAgICk7CiAgICAgICAgICAgIG1hcmtlcl9lYjFiOTRmOGVhZGU0NDliODExZmE1NjUxYmUxM2RjNS5zZXRJY29uKGljb25fMDIwYzgyNTM4YmNiNDIwYmI2N2U4ODUzN2U3ODA3ZTMpOwogICAgICAgIAogICAgCiAgICAgICAgdmFyIHBvcHVwX2U1ZDllMjUwMDczZDQ5Mjk5MzU5OWNmNWVjZTRlMTIxID0gTC5wb3B1cCh7Im1heFdpZHRoIjogIjEwMCUifSk7CgogICAgICAgIAogICAgICAgICAgICB2YXIgaHRtbF85Y2ZmYTgyMjE3NzU0MWQwYjg3MThiZTA4YTQ0ZWI2ZSA9ICQoYDxkaXYgaWQ9Imh0bWxfOWNmZmE4MjIxNzc1NDFkMGI4NzE4YmUwOGE0NGViNmUiIHN0eWxlPSJ3aWR0aDogMTAwLjAlOyBoZWlnaHQ6IDEwMC4wJTsiPjxpPlBvaW50IHJlY2VpdmVkIG9uIHN0ZXA6IDExPC9pPjwvZGl2PmApWzBdOwogICAgICAgICAgICBwb3B1cF9lNWQ5ZTI1MDA3M2Q0OTI5OTM1OTljZjVlY2U0ZTEyMS5zZXRDb250ZW50KGh0bWxfOWNmZmE4MjIxNzc1NDFkMGI4NzE4YmUwOGE0NGViNmUpOwogICAgICAgIAoKICAgICAgICBtYXJrZXJfZWIxYjk0ZjhlYWRlNDQ5YjgxMWZhNTY1MWJlMTNkYzUuYmluZFBvcHVwKHBvcHVwX2U1ZDllMjUwMDczZDQ5Mjk5MzU5OWNmNWVjZTRlMTIxKQogICAgICAgIDsKCiAgICAgICAgCiAgICAKICAgIAogICAgICAgICAgICBtYXJrZXJfZWIxYjk0ZjhlYWRlNDQ5YjgxMWZhNTY1MWJlMTNkYzUuYmluZFRvb2x0aXAoCiAgICAgICAgICAgICAgICBgPGRpdj4KICAgICAgICAgICAgICAgICAgICAgQ2hlY2sgc3RlcAogICAgICAgICAgICAgICAgIDwvZGl2PmAsCiAgICAgICAgICAgICAgICB7InN0aWNreSI6IHRydWV9CiAgICAgICAgICAgICk7CiAgICAgICAgCjwvc2NyaXB0Pg== onload=\"this.contentDocument.open();this.contentDocument.write(atob(this.getAttribute('data-html')));this.contentDocument.close();\" allowfullscreen webkitallowfullscreen mozallowfullscreen></iframe></div></div>"
      ],
      "text/plain": [
       "<folium.folium.Map at 0x244e2713630>"
      ]
     },
     "execution_count": 30,
     "metadata": {},
     "output_type": "execute_result"
    }
   ],
   "source": [
    "m = folium.Map((center_node.lat(), center_node.lon()), \n",
    "               zoom_start=1, \n",
    "               tiles='Stamen Toner')\n",
    "\n",
    "tooltip = 'Check step'\n",
    "\n",
    "for i, point in enumerate(used_points):\n",
    "    folium.Marker([point.y, point.x], \n",
    "                  popup=f'<i>Point received on step: {i}</i>', \n",
    "                  tooltip=tooltip,\n",
    "                  icon=folium.Icon(color='red', icon='info-sign')).add_to(m)\n",
    "m"
   ]
  },
  {
   "cell_type": "markdown",
   "metadata": {},
   "source": [
    "Визуализируйте пошагово предложенный алгоритм при помощи ``Folium``"
   ]
  },
  {
   "cell_type": "markdown",
   "metadata": {},
   "source": [
    "## Задание №2. Качество жизни (20 баллов)."
   ]
  },
  {
   "cell_type": "markdown",
   "metadata": {},
   "source": [
    "Для измерения показателя качества жизни в точке, найденной в предыдущем задании, вам необходимо рассчитать следующую сумму расстояний (в метрах):"
   ]
  },
  {
   "cell_type": "markdown",
   "metadata": {},
   "source": [
    "1. Расстояние от точки до 5 ближайших __*__ банкоматов, находящихся в стране с наибольшим количеством объектов жилой недвижимости\n",
    "2. Расстояние от точки до 5 ближайших школ, находящихся в стране с наибольшим количеством аптек в столице\n",
    "3. Расстояние от точки до 5 ближайших кинотеатров, наодящихся в стране с самым большим отношением числа железнодорожных станций к автобусным остановкам в южной части __**__"
   ]
  },
  {
   "cell_type": "markdown",
   "metadata": {},
   "source": [
    "__*__ При поиске _N_ ближайших объектов обязательно использовать ``R-tree``\n",
    "\n",
    "__**__ Южной частью страны является территория, находящаяся к югу от множества точек, равноудаленных от самой северной и самой южной точек страны"
   ]
  },
  {
   "cell_type": "code",
   "execution_count": 31,
   "metadata": {},
   "outputs": [],
   "source": [
    "result = overpass.query('relation[\"admin_level\"=\"2\"][boundary=administrative]; out;')\n",
    "\n",
    "pattern = re.compile(r' -|— ')\n",
    "countries = []\n",
    "\n",
    "for rel in result.relations():\n",
    "    if not pattern.findall(rel.tag('name:en')) and not rel.id() % 10:\n",
    "        countries.append(rel)"
   ]
  },
  {
   "cell_type": "code",
   "execution_count": 32,
   "metadata": {},
   "outputs": [
    {
     "data": {
      "text/plain": [
       "'Brazil'"
      ]
     },
     "execution_count": 32,
     "metadata": {},
     "output_type": "execute_result"
    }
   ],
   "source": [
    "def count_residental_buildings(country) -> int:\n",
    "    query = overpassQueryBuilder(area=country.id() + 3_600_000_000,\n",
    "                                 elementType=['relation', 'way'],\n",
    "                                 selector=[f'\"building\"=\"residential\"',\n",
    "                                           f'\"building\"=\"apartments\"',\n",
    "                                           f'\"building\"=\"house\"'],\n",
    "                                 out='count')\n",
    "    return overpass.query(query, timeout=60).countElements()\n",
    "\n",
    "dimensions = OrderedDict({\n",
    "    'country': OrderedDict({\n",
    "        country.tag('name:en'): country\n",
    "        for country in countries\n",
    "    })\n",
    "})\n",
    "\n",
    "data = Data(count_residental_buildings, dimensions)\n",
    "\n",
    "country_1 = data.getDataFrame().sort_values('value', ascending=False).iloc[0].name\n",
    "country_1"
   ]
  },
  {
   "cell_type": "code",
   "execution_count": 33,
   "metadata": {},
   "outputs": [],
   "source": [
    "# Here I just failed - I have tried to use banks, ATM's and so on with different areas, but no luck.\n",
    "\n",
    "country_1_id = nominatim.query(country_1).areaId()\n",
    "query = overpassQueryBuilder(area=country_1_id,\n",
    "                             elementType='node',\n",
    "                             selector=[f'\"amenity\"=\"atm\"'],\n",
    "                             out='body')\n",
    "res = overpass.query(query, timeout=60)"
   ]
  },
  {
   "cell_type": "code",
   "execution_count": 35,
   "metadata": {},
   "outputs": [
    {
     "data": {
      "text/plain": [
       "1332"
      ]
     },
     "execution_count": 35,
     "metadata": {},
     "output_type": "execute_result"
    }
   ],
   "source": [
    "res.countElements()"
   ]
  },
  {
   "cell_type": "code",
   "execution_count": 292,
   "metadata": {},
   "outputs": [
    {
     "name": "stderr",
     "output_type": "stream",
     "text": [
      "[overpass] downloading data: [timeout:60][out:json];area(3634567423)->.searchArea;(relation[\"amenity\"=\"صيدلية\"][\"amenity\"=\"farmacia\"][\"amenity\"=\"farmàcia\"][\"amenity\"=\"lékárna\"][\"amenity\"=\"apotek\"][\"amenity\"=\"apotheek\"][\"amenity\"=\"pharmacy\"][\"amenity\"=\"apteekki\"][\"amenity\"=\"pharmacie\"][\"amenity\"=\"Apotheke\"][\"amenity\"=\"gyógyszertár\"][\"amenity\"=\"farmacia\"][\"amenity\"=\"薬局\"][\"amenity\"=\"apteka\"][\"amenity\"=\"farmácia\"][\"amenity\"=\"аптека\"][\"amenity\"=\"lekáreň\"][\"amenity\"=\"farmacia\"][\"amenity\"=\"apotek\"][\"amenity\"=\"eczane\"][\"amenity\"=\"аптека\"][\"amenity\"=\"tiệm\"](area.searchArea);way[\"amenity\"=\"صيدلية\"][\"amenity\"=\"farmacia\"][\"amenity\"=\"farmàcia\"][\"amenity\"=\"lékárna\"][\"amenity\"=\"apotek\"][\"amenity\"=\"apotheek\"][\"amenity\"=\"pharmacy\"][\"amenity\"=\"apteekki\"][\"amenity\"=\"pharmacie\"][\"amenity\"=\"Apotheke\"][\"amenity\"=\"gyógyszertár\"][\"amenity\"=\"farmacia\"][\"amenity\"=\"薬局\"][\"amenity\"=\"apteka\"][\"amenity\"=\"farmácia\"][\"amenity\"=\"аптека\"][\"amenity\"=\"lekáreň\"][\"amenity\"=\"farmacia\"][\"amenity\"=\"apotek\"][\"amenity\"=\"eczane\"][\"amenity\"=\"аптека\"][\"amenity\"=\"tiệm\"](area.searchArea);); out count;\n",
      "[overpass] downloading data: [timeout:60][out:json];area(3629787492)->.searchArea;(relation[\"amenity\"=\"صيدلية\"][\"amenity\"=\"farmacia\"][\"amenity\"=\"farmàcia\"][\"amenity\"=\"lékárna\"][\"amenity\"=\"apotek\"][\"amenity\"=\"apotheek\"][\"amenity\"=\"pharmacy\"][\"amenity\"=\"apteekki\"][\"amenity\"=\"pharmacie\"][\"amenity\"=\"Apotheke\"][\"amenity\"=\"gyógyszertár\"][\"amenity\"=\"farmacia\"][\"amenity\"=\"薬局\"][\"amenity\"=\"apteka\"][\"amenity\"=\"farmácia\"][\"amenity\"=\"аптека\"][\"amenity\"=\"lekáreň\"][\"amenity\"=\"farmacia\"][\"amenity\"=\"apotek\"][\"amenity\"=\"eczane\"][\"amenity\"=\"аптека\"][\"amenity\"=\"tiệm\"](area.searchArea);way[\"amenity\"=\"صيدلية\"][\"amenity\"=\"farmacia\"][\"amenity\"=\"farmàcia\"][\"amenity\"=\"lékárna\"][\"amenity\"=\"apotek\"][\"amenity\"=\"apotheek\"][\"amenity\"=\"pharmacy\"][\"amenity\"=\"apteekki\"][\"amenity\"=\"pharmacie\"][\"amenity\"=\"Apotheke\"][\"amenity\"=\"gyógyszertár\"][\"amenity\"=\"farmacia\"][\"amenity\"=\"薬局\"][\"amenity\"=\"apteka\"][\"amenity\"=\"farmácia\"][\"amenity\"=\"аптека\"][\"amenity\"=\"lekáreň\"][\"amenity\"=\"farmacia\"][\"amenity\"=\"apotek\"][\"amenity\"=\"eczane\"][\"amenity\"=\"аптека\"][\"amenity\"=\"tiệm\"](area.searchArea);); out count;\n",
      "[overpass] downloading data: [timeout:60][out:json];area(3621674637)->.searchArea;(relation[\"amenity\"=\"صيدلية\"][\"amenity\"=\"farmacia\"][\"amenity\"=\"farmàcia\"][\"amenity\"=\"lékárna\"][\"amenity\"=\"apotek\"][\"amenity\"=\"apotheek\"][\"amenity\"=\"pharmacy\"][\"amenity\"=\"apteekki\"][\"amenity\"=\"pharmacie\"][\"amenity\"=\"Apotheke\"][\"amenity\"=\"gyógyszertár\"][\"amenity\"=\"farmacia\"][\"amenity\"=\"薬局\"][\"amenity\"=\"apteka\"][\"amenity\"=\"farmácia\"][\"amenity\"=\"аптека\"][\"amenity\"=\"lekáreň\"][\"amenity\"=\"farmacia\"][\"amenity\"=\"apotek\"][\"amenity\"=\"eczane\"][\"amenity\"=\"аптека\"][\"amenity\"=\"tiệm\"](area.searchArea);way[\"amenity\"=\"صيدلية\"][\"amenity\"=\"farmacia\"][\"amenity\"=\"farmàcia\"][\"amenity\"=\"lékárna\"][\"amenity\"=\"apotek\"][\"amenity\"=\"apotheek\"][\"amenity\"=\"pharmacy\"][\"amenity\"=\"apteekki\"][\"amenity\"=\"pharmacie\"][\"amenity\"=\"Apotheke\"][\"amenity\"=\"gyógyszertár\"][\"amenity\"=\"farmacia\"][\"amenity\"=\"薬局\"][\"amenity\"=\"apteka\"][\"amenity\"=\"farmácia\"][\"amenity\"=\"аптека\"][\"amenity\"=\"lekáreň\"][\"amenity\"=\"farmacia\"][\"amenity\"=\"apotek\"][\"amenity\"=\"eczane\"][\"amenity\"=\"аптека\"][\"amenity\"=\"tiệm\"](area.searchArea);); out count;\n",
      "[overpass] downloading data: [timeout:60][out:json];area(3843837793)->.searchArea;(relation[\"amenity\"=\"صيدلية\"][\"amenity\"=\"farmacia\"][\"amenity\"=\"farmàcia\"][\"amenity\"=\"lékárna\"][\"amenity\"=\"apotek\"][\"amenity\"=\"apotheek\"][\"amenity\"=\"pharmacy\"][\"amenity\"=\"apteekki\"][\"amenity\"=\"pharmacie\"][\"amenity\"=\"Apotheke\"][\"amenity\"=\"gyógyszertár\"][\"amenity\"=\"farmacia\"][\"amenity\"=\"薬局\"][\"amenity\"=\"apteka\"][\"amenity\"=\"farmácia\"][\"amenity\"=\"аптека\"][\"amenity\"=\"lekáreň\"][\"amenity\"=\"farmacia\"][\"amenity\"=\"apotek\"][\"amenity\"=\"eczane\"][\"amenity\"=\"аптека\"][\"amenity\"=\"tiệm\"](area.searchArea);way[\"amenity\"=\"صيدلية\"][\"amenity\"=\"farmacia\"][\"amenity\"=\"farmàcia\"][\"amenity\"=\"lékárna\"][\"amenity\"=\"apotek\"][\"amenity\"=\"apotheek\"][\"amenity\"=\"pharmacy\"][\"amenity\"=\"apteekki\"][\"amenity\"=\"pharmacie\"][\"amenity\"=\"Apotheke\"][\"amenity\"=\"gyógyszertár\"][\"amenity\"=\"farmacia\"][\"amenity\"=\"薬局\"][\"amenity\"=\"apteka\"][\"amenity\"=\"farmácia\"][\"amenity\"=\"аптека\"][\"amenity\"=\"lekáreň\"][\"amenity\"=\"farmacia\"][\"amenity\"=\"apotek\"][\"amenity\"=\"eczane\"][\"amenity\"=\"аптека\"][\"amenity\"=\"tiệm\"](area.searchArea);); out count;\n",
      "[overpass] downloading data: [timeout:60][out:json];area(7042474911)->.searchArea;(relation[\"amenity\"=\"صيدلية\"][\"amenity\"=\"farmacia\"][\"amenity\"=\"farmàcia\"][\"amenity\"=\"lékárna\"][\"amenity\"=\"apotek\"][\"amenity\"=\"apotheek\"][\"amenity\"=\"pharmacy\"][\"amenity\"=\"apteekki\"][\"amenity\"=\"pharmacie\"][\"amenity\"=\"Apotheke\"][\"amenity\"=\"gyógyszertár\"][\"amenity\"=\"farmacia\"][\"amenity\"=\"薬局\"][\"amenity\"=\"apteka\"][\"amenity\"=\"farmácia\"][\"amenity\"=\"аптека\"][\"amenity\"=\"lekáreň\"][\"amenity\"=\"farmacia\"][\"amenity\"=\"apotek\"][\"amenity\"=\"eczane\"][\"amenity\"=\"аптека\"][\"amenity\"=\"tiệm\"](area.searchArea);way[\"amenity\"=\"صيدلية\"][\"amenity\"=\"farmacia\"][\"amenity\"=\"farmàcia\"][\"amenity\"=\"lékárna\"][\"amenity\"=\"apotek\"][\"amenity\"=\"apotheek\"][\"amenity\"=\"pharmacy\"][\"amenity\"=\"apteekki\"][\"amenity\"=\"pharmacie\"][\"amenity\"=\"Apotheke\"][\"amenity\"=\"gyógyszertár\"][\"amenity\"=\"farmacia\"][\"amenity\"=\"薬局\"][\"amenity\"=\"apteka\"][\"amenity\"=\"farmácia\"][\"amenity\"=\"аптека\"][\"amenity\"=\"lekáreň\"][\"amenity\"=\"farmacia\"][\"amenity\"=\"apotek\"][\"amenity\"=\"eczane\"][\"amenity\"=\"аптека\"][\"amenity\"=\"tiệm\"](area.searchArea);); out count;\n",
      "[overpass] downloading data: [timeout:60][out:json];area(4691272140)->.searchArea;(relation[\"amenity\"=\"صيدلية\"][\"amenity\"=\"farmacia\"][\"amenity\"=\"farmàcia\"][\"amenity\"=\"lékárna\"][\"amenity\"=\"apotek\"][\"amenity\"=\"apotheek\"][\"amenity\"=\"pharmacy\"][\"amenity\"=\"apteekki\"][\"amenity\"=\"pharmacie\"][\"amenity\"=\"Apotheke\"][\"amenity\"=\"gyógyszertár\"][\"amenity\"=\"farmacia\"][\"amenity\"=\"薬局\"][\"amenity\"=\"apteka\"][\"amenity\"=\"farmácia\"][\"amenity\"=\"аптека\"][\"amenity\"=\"lekáreň\"][\"amenity\"=\"farmacia\"][\"amenity\"=\"apotek\"][\"amenity\"=\"eczane\"][\"amenity\"=\"аптека\"][\"amenity\"=\"tiệm\"](area.searchArea);way[\"amenity\"=\"صيدلية\"][\"amenity\"=\"farmacia\"][\"amenity\"=\"farmàcia\"][\"amenity\"=\"lékárna\"][\"amenity\"=\"apotek\"][\"amenity\"=\"apotheek\"][\"amenity\"=\"pharmacy\"][\"amenity\"=\"apteekki\"][\"amenity\"=\"pharmacie\"][\"amenity\"=\"Apotheke\"][\"amenity\"=\"gyógyszertár\"][\"amenity\"=\"farmacia\"][\"amenity\"=\"薬局\"][\"amenity\"=\"apteka\"][\"amenity\"=\"farmácia\"][\"amenity\"=\"аптека\"][\"amenity\"=\"lekáreň\"][\"amenity\"=\"farmacia\"][\"amenity\"=\"apotek\"][\"amenity\"=\"eczane\"][\"amenity\"=\"аптека\"][\"amenity\"=\"tiệm\"](area.searchArea);); out count;\n",
      "[overpass] downloading data: [timeout:60][out:json];area(3627564980)->.searchArea;(relation[\"amenity\"=\"صيدلية\"][\"amenity\"=\"farmacia\"][\"amenity\"=\"farmàcia\"][\"amenity\"=\"lékárna\"][\"amenity\"=\"apotek\"][\"amenity\"=\"apotheek\"][\"amenity\"=\"pharmacy\"][\"amenity\"=\"apteekki\"][\"amenity\"=\"pharmacie\"][\"amenity\"=\"Apotheke\"][\"amenity\"=\"gyógyszertár\"][\"amenity\"=\"farmacia\"][\"amenity\"=\"薬局\"][\"amenity\"=\"apteka\"][\"amenity\"=\"farmácia\"][\"amenity\"=\"аптека\"][\"amenity\"=\"lekáreň\"][\"amenity\"=\"farmacia\"][\"amenity\"=\"apotek\"][\"amenity\"=\"eczane\"][\"amenity\"=\"аптека\"][\"amenity\"=\"tiệm\"](area.searchArea);way[\"amenity\"=\"صيدلية\"][\"amenity\"=\"farmacia\"][\"amenity\"=\"farmàcia\"][\"amenity\"=\"lékárna\"][\"amenity\"=\"apotek\"][\"amenity\"=\"apotheek\"][\"amenity\"=\"pharmacy\"][\"amenity\"=\"apteekki\"][\"amenity\"=\"pharmacie\"][\"amenity\"=\"Apotheke\"][\"amenity\"=\"gyógyszertár\"][\"amenity\"=\"farmacia\"][\"amenity\"=\"薬局\"][\"amenity\"=\"apteka\"][\"amenity\"=\"farmácia\"][\"amenity\"=\"аптека\"][\"amenity\"=\"lekáreň\"][\"amenity\"=\"farmacia\"][\"amenity\"=\"apotek\"][\"amenity\"=\"eczane\"][\"amenity\"=\"аптека\"][\"amenity\"=\"tiệm\"](area.searchArea);); out count;\n",
      "[overpass] downloading data: [timeout:60][out:json];area(3627564988)->.searchArea;(relation[\"amenity\"=\"صيدلية\"][\"amenity\"=\"farmacia\"][\"amenity\"=\"farmàcia\"][\"amenity\"=\"lékárna\"][\"amenity\"=\"apotek\"][\"amenity\"=\"apotheek\"][\"amenity\"=\"pharmacy\"][\"amenity\"=\"apteekki\"][\"amenity\"=\"pharmacie\"][\"amenity\"=\"Apotheke\"][\"amenity\"=\"gyógyszertár\"][\"amenity\"=\"farmacia\"][\"amenity\"=\"薬局\"][\"amenity\"=\"apteka\"][\"amenity\"=\"farmácia\"][\"amenity\"=\"аптека\"][\"amenity\"=\"lekáreň\"][\"amenity\"=\"farmacia\"][\"amenity\"=\"apotek\"][\"amenity\"=\"eczane\"][\"amenity\"=\"аптека\"][\"amenity\"=\"tiệm\"](area.searchArea);way[\"amenity\"=\"صيدلية\"][\"amenity\"=\"farmacia\"][\"amenity\"=\"farmàcia\"][\"amenity\"=\"lékárna\"][\"amenity\"=\"apotek\"][\"amenity\"=\"apotheek\"][\"amenity\"=\"pharmacy\"][\"amenity\"=\"apteekki\"][\"amenity\"=\"pharmacie\"][\"amenity\"=\"Apotheke\"][\"amenity\"=\"gyógyszertár\"][\"amenity\"=\"farmacia\"][\"amenity\"=\"薬局\"][\"amenity\"=\"apteka\"][\"amenity\"=\"farmácia\"][\"amenity\"=\"аптека\"][\"amenity\"=\"lekáreň\"][\"amenity\"=\"farmacia\"][\"amenity\"=\"apotek\"][\"amenity\"=\"eczane\"][\"amenity\"=\"аптека\"][\"amenity\"=\"tiệm\"](area.searchArea);); out count;\n"
     ]
    },
    {
     "name": "stderr",
     "output_type": "stream",
     "text": [
      "[overpass] downloading data: [timeout:60][out:json];area(3627565076)->.searchArea;(relation[\"amenity\"=\"صيدلية\"][\"amenity\"=\"farmacia\"][\"amenity\"=\"farmàcia\"][\"amenity\"=\"lékárna\"][\"amenity\"=\"apotek\"][\"amenity\"=\"apotheek\"][\"amenity\"=\"pharmacy\"][\"amenity\"=\"apteekki\"][\"amenity\"=\"pharmacie\"][\"amenity\"=\"Apotheke\"][\"amenity\"=\"gyógyszertár\"][\"amenity\"=\"farmacia\"][\"amenity\"=\"薬局\"][\"amenity\"=\"apteka\"][\"amenity\"=\"farmácia\"][\"amenity\"=\"аптека\"][\"amenity\"=\"lekáreň\"][\"amenity\"=\"farmacia\"][\"amenity\"=\"apotek\"][\"amenity\"=\"eczane\"][\"amenity\"=\"аптека\"][\"amenity\"=\"tiệm\"](area.searchArea);way[\"amenity\"=\"صيدلية\"][\"amenity\"=\"farmacia\"][\"amenity\"=\"farmàcia\"][\"amenity\"=\"lékárna\"][\"amenity\"=\"apotek\"][\"amenity\"=\"apotheek\"][\"amenity\"=\"pharmacy\"][\"amenity\"=\"apteekki\"][\"amenity\"=\"pharmacie\"][\"amenity\"=\"Apotheke\"][\"amenity\"=\"gyógyszertár\"][\"amenity\"=\"farmacia\"][\"amenity\"=\"薬局\"][\"amenity\"=\"apteka\"][\"amenity\"=\"farmácia\"][\"amenity\"=\"аптека\"][\"amenity\"=\"lekáreň\"][\"amenity\"=\"farmacia\"][\"amenity\"=\"apotek\"][\"amenity\"=\"eczane\"][\"amenity\"=\"аптека\"][\"amenity\"=\"tiệm\"](area.searchArea);); out count;\n",
      "[overpass] downloading data: [timeout:60][out:json];area(3931136682)->.searchArea;(relation[\"amenity\"=\"صيدلية\"][\"amenity\"=\"farmacia\"][\"amenity\"=\"farmàcia\"][\"amenity\"=\"lékárna\"][\"amenity\"=\"apotek\"][\"amenity\"=\"apotheek\"][\"amenity\"=\"pharmacy\"][\"amenity\"=\"apteekki\"][\"amenity\"=\"pharmacie\"][\"amenity\"=\"Apotheke\"][\"amenity\"=\"gyógyszertár\"][\"amenity\"=\"farmacia\"][\"amenity\"=\"薬局\"][\"amenity\"=\"apteka\"][\"amenity\"=\"farmácia\"][\"amenity\"=\"аптека\"][\"amenity\"=\"lekáreň\"][\"amenity\"=\"farmacia\"][\"amenity\"=\"apotek\"][\"amenity\"=\"eczane\"][\"amenity\"=\"аптека\"][\"amenity\"=\"tiệm\"](area.searchArea);way[\"amenity\"=\"صيدلية\"][\"amenity\"=\"farmacia\"][\"amenity\"=\"farmàcia\"][\"amenity\"=\"lékárna\"][\"amenity\"=\"apotek\"][\"amenity\"=\"apotheek\"][\"amenity\"=\"pharmacy\"][\"amenity\"=\"apteekki\"][\"amenity\"=\"pharmacie\"][\"amenity\"=\"Apotheke\"][\"amenity\"=\"gyógyszertár\"][\"amenity\"=\"farmacia\"][\"amenity\"=\"薬局\"][\"amenity\"=\"apteka\"][\"amenity\"=\"farmácia\"][\"amenity\"=\"аптека\"][\"amenity\"=\"lekáreň\"][\"amenity\"=\"farmacia\"][\"amenity\"=\"apotek\"][\"amenity\"=\"eczane\"][\"amenity\"=\"аптека\"][\"amenity\"=\"tiệm\"](area.searchArea);); out count;\n",
      "[overpass] downloading data: [timeout:60][out:json];area(3687841198)->.searchArea;(relation[\"amenity\"=\"صيدلية\"][\"amenity\"=\"farmacia\"][\"amenity\"=\"farmàcia\"][\"amenity\"=\"lékárna\"][\"amenity\"=\"apotek\"][\"amenity\"=\"apotheek\"][\"amenity\"=\"pharmacy\"][\"amenity\"=\"apteekki\"][\"amenity\"=\"pharmacie\"][\"amenity\"=\"Apotheke\"][\"amenity\"=\"gyógyszertár\"][\"amenity\"=\"farmacia\"][\"amenity\"=\"薬局\"][\"amenity\"=\"apteka\"][\"amenity\"=\"farmácia\"][\"amenity\"=\"аптека\"][\"amenity\"=\"lekáreň\"][\"amenity\"=\"farmacia\"][\"amenity\"=\"apotek\"][\"amenity\"=\"eczane\"][\"amenity\"=\"аптека\"][\"amenity\"=\"tiệm\"](area.searchArea);way[\"amenity\"=\"صيدلية\"][\"amenity\"=\"farmacia\"][\"amenity\"=\"farmàcia\"][\"amenity\"=\"lékárna\"][\"amenity\"=\"apotek\"][\"amenity\"=\"apotheek\"][\"amenity\"=\"pharmacy\"][\"amenity\"=\"apteekki\"][\"amenity\"=\"pharmacie\"][\"amenity\"=\"Apotheke\"][\"amenity\"=\"gyógyszertár\"][\"amenity\"=\"farmacia\"][\"amenity\"=\"薬局\"][\"amenity\"=\"apteka\"][\"amenity\"=\"farmácia\"][\"amenity\"=\"аптека\"][\"amenity\"=\"lekáreň\"][\"amenity\"=\"farmacia\"][\"amenity\"=\"apotek\"][\"amenity\"=\"eczane\"][\"amenity\"=\"аптека\"][\"amenity\"=\"tiệm\"](area.searchArea);); out count;\n",
      "[overpass] downloading data: [timeout:60][out:json];area(10365699485)->.searchArea;(relation[\"amenity\"=\"صيدلية\"][\"amenity\"=\"farmacia\"][\"amenity\"=\"farmàcia\"][\"amenity\"=\"lékárna\"][\"amenity\"=\"apotek\"][\"amenity\"=\"apotheek\"][\"amenity\"=\"pharmacy\"][\"amenity\"=\"apteekki\"][\"amenity\"=\"pharmacie\"][\"amenity\"=\"Apotheke\"][\"amenity\"=\"gyógyszertár\"][\"amenity\"=\"farmacia\"][\"amenity\"=\"薬局\"][\"amenity\"=\"apteka\"][\"amenity\"=\"farmácia\"][\"amenity\"=\"аптека\"][\"amenity\"=\"lekáreň\"][\"amenity\"=\"farmacia\"][\"amenity\"=\"apotek\"][\"amenity\"=\"eczane\"][\"amenity\"=\"аптека\"][\"amenity\"=\"tiệm\"](area.searchArea);way[\"amenity\"=\"صيدلية\"][\"amenity\"=\"farmacia\"][\"amenity\"=\"farmàcia\"][\"amenity\"=\"lékárna\"][\"amenity\"=\"apotek\"][\"amenity\"=\"apotheek\"][\"amenity\"=\"pharmacy\"][\"amenity\"=\"apteekki\"][\"amenity\"=\"pharmacie\"][\"amenity\"=\"Apotheke\"][\"amenity\"=\"gyógyszertár\"][\"amenity\"=\"farmacia\"][\"amenity\"=\"薬局\"][\"amenity\"=\"apteka\"][\"amenity\"=\"farmácia\"][\"amenity\"=\"аптека\"][\"amenity\"=\"lekáreň\"][\"amenity\"=\"farmacia\"][\"amenity\"=\"apotek\"][\"amenity\"=\"eczane\"][\"amenity\"=\"аптека\"][\"amenity\"=\"tiệm\"](area.searchArea);); out count;\n",
      "[overpass] downloading data: [timeout:60][out:json];area(3627524773)->.searchArea;(relation[\"amenity\"=\"صيدلية\"][\"amenity\"=\"farmacia\"][\"amenity\"=\"farmàcia\"][\"amenity\"=\"lékárna\"][\"amenity\"=\"apotek\"][\"amenity\"=\"apotheek\"][\"amenity\"=\"pharmacy\"][\"amenity\"=\"apteekki\"][\"amenity\"=\"pharmacie\"][\"amenity\"=\"Apotheke\"][\"amenity\"=\"gyógyszertár\"][\"amenity\"=\"farmacia\"][\"amenity\"=\"薬局\"][\"amenity\"=\"apteka\"][\"amenity\"=\"farmácia\"][\"amenity\"=\"аптека\"][\"amenity\"=\"lekáreň\"][\"amenity\"=\"farmacia\"][\"amenity\"=\"apotek\"][\"amenity\"=\"eczane\"][\"amenity\"=\"аптека\"][\"amenity\"=\"tiệm\"](area.searchArea);way[\"amenity\"=\"صيدلية\"][\"amenity\"=\"farmacia\"][\"amenity\"=\"farmàcia\"][\"amenity\"=\"lékárna\"][\"amenity\"=\"apotek\"][\"amenity\"=\"apotheek\"][\"amenity\"=\"pharmacy\"][\"amenity\"=\"apteekki\"][\"amenity\"=\"pharmacie\"][\"amenity\"=\"Apotheke\"][\"amenity\"=\"gyógyszertár\"][\"amenity\"=\"farmacia\"][\"amenity\"=\"薬局\"][\"amenity\"=\"apteka\"][\"amenity\"=\"farmácia\"][\"amenity\"=\"аптека\"][\"amenity\"=\"lekáreň\"][\"amenity\"=\"farmacia\"][\"amenity\"=\"apotek\"][\"amenity\"=\"eczane\"][\"amenity\"=\"аптека\"][\"amenity\"=\"tiệm\"](area.searchArea);); out count;\n",
      "[overpass] downloading data: [timeout:60][out:json];area(3905138115)->.searchArea;(relation[\"amenity\"=\"صيدلية\"][\"amenity\"=\"farmacia\"][\"amenity\"=\"farmàcia\"][\"amenity\"=\"lékárna\"][\"amenity\"=\"apotek\"][\"amenity\"=\"apotheek\"][\"amenity\"=\"pharmacy\"][\"amenity\"=\"apteekki\"][\"amenity\"=\"pharmacie\"][\"amenity\"=\"Apotheke\"][\"amenity\"=\"gyógyszertár\"][\"amenity\"=\"farmacia\"][\"amenity\"=\"薬局\"][\"amenity\"=\"apteka\"][\"amenity\"=\"farmácia\"][\"amenity\"=\"аптека\"][\"amenity\"=\"lekáreň\"][\"amenity\"=\"farmacia\"][\"amenity\"=\"apotek\"][\"amenity\"=\"eczane\"][\"amenity\"=\"аптека\"][\"amenity\"=\"tiệm\"](area.searchArea);way[\"amenity\"=\"صيدلية\"][\"amenity\"=\"farmacia\"][\"amenity\"=\"farmàcia\"][\"amenity\"=\"lékárna\"][\"amenity\"=\"apotek\"][\"amenity\"=\"apotheek\"][\"amenity\"=\"pharmacy\"][\"amenity\"=\"apteekki\"][\"amenity\"=\"pharmacie\"][\"amenity\"=\"Apotheke\"][\"amenity\"=\"gyógyszertár\"][\"amenity\"=\"farmacia\"][\"amenity\"=\"薬局\"][\"amenity\"=\"apteka\"][\"amenity\"=\"farmácia\"][\"amenity\"=\"аптека\"][\"amenity\"=\"lekáreň\"][\"amenity\"=\"farmacia\"][\"amenity\"=\"apotek\"][\"amenity\"=\"eczane\"][\"amenity\"=\"аптека\"][\"amenity\"=\"tiệm\"](area.searchArea);); out count;\n",
      "[overpass] downloading data: [timeout:60][out:json];area(3865958490)->.searchArea;(relation[\"amenity\"=\"صيدلية\"][\"amenity\"=\"farmacia\"][\"amenity\"=\"farmàcia\"][\"amenity\"=\"lékárna\"][\"amenity\"=\"apotek\"][\"amenity\"=\"apotheek\"][\"amenity\"=\"pharmacy\"][\"amenity\"=\"apteekki\"][\"amenity\"=\"pharmacie\"][\"amenity\"=\"Apotheke\"][\"amenity\"=\"gyógyszertár\"][\"amenity\"=\"farmacia\"][\"amenity\"=\"薬局\"][\"amenity\"=\"apteka\"][\"amenity\"=\"farmácia\"][\"amenity\"=\"аптека\"][\"amenity\"=\"lekáreň\"][\"amenity\"=\"farmacia\"][\"amenity\"=\"apotek\"][\"amenity\"=\"eczane\"][\"amenity\"=\"аптека\"][\"amenity\"=\"tiệm\"](area.searchArea);way[\"amenity\"=\"صيدلية\"][\"amenity\"=\"farmacia\"][\"amenity\"=\"farmàcia\"][\"amenity\"=\"lékárna\"][\"amenity\"=\"apotek\"][\"amenity\"=\"apotheek\"][\"amenity\"=\"pharmacy\"][\"amenity\"=\"apteekki\"][\"amenity\"=\"pharmacie\"][\"amenity\"=\"Apotheke\"][\"amenity\"=\"gyógyszertár\"][\"amenity\"=\"farmacia\"][\"amenity\"=\"薬局\"][\"amenity\"=\"apteka\"][\"amenity\"=\"farmácia\"][\"amenity\"=\"аптека\"][\"amenity\"=\"lekáreň\"][\"amenity\"=\"farmacia\"][\"amenity\"=\"apotek\"][\"amenity\"=\"eczane\"][\"amenity\"=\"аптека\"][\"amenity\"=\"tiệm\"](area.searchArea);); out count;\n",
      "[overpass] downloading data: [timeout:60][out:json];area(5717350415)->.searchArea;(relation[\"amenity\"=\"صيدلية\"][\"amenity\"=\"farmacia\"][\"amenity\"=\"farmàcia\"][\"amenity\"=\"lékárna\"][\"amenity\"=\"apotek\"][\"amenity\"=\"apotheek\"][\"amenity\"=\"pharmacy\"][\"amenity\"=\"apteekki\"][\"amenity\"=\"pharmacie\"][\"amenity\"=\"Apotheke\"][\"amenity\"=\"gyógyszertár\"][\"amenity\"=\"farmacia\"][\"amenity\"=\"薬局\"][\"amenity\"=\"apteka\"][\"amenity\"=\"farmácia\"][\"amenity\"=\"аптека\"][\"amenity\"=\"lekáreň\"][\"amenity\"=\"farmacia\"][\"amenity\"=\"apotek\"][\"amenity\"=\"eczane\"][\"amenity\"=\"аптека\"][\"amenity\"=\"tiệm\"](area.searchArea);way[\"amenity\"=\"صيدلية\"][\"amenity\"=\"farmacia\"][\"amenity\"=\"farmàcia\"][\"amenity\"=\"lékárna\"][\"amenity\"=\"apotek\"][\"amenity\"=\"apotheek\"][\"amenity\"=\"pharmacy\"][\"amenity\"=\"apteekki\"][\"amenity\"=\"pharmacie\"][\"amenity\"=\"Apotheke\"][\"amenity\"=\"gyógyszertár\"][\"amenity\"=\"farmacia\"][\"amenity\"=\"薬局\"][\"amenity\"=\"apteka\"][\"amenity\"=\"farmácia\"][\"amenity\"=\"аптека\"][\"amenity\"=\"lekáreň\"][\"amenity\"=\"farmacia\"][\"amenity\"=\"apotek\"][\"amenity\"=\"eczane\"][\"amenity\"=\"аптека\"][\"amenity\"=\"tiệm\"](area.searchArea);); out count;\n"
     ]
    },
    {
     "name": "stderr",
     "output_type": "stream",
     "text": [
      "[overpass] downloading data: [timeout:60][out:json];area(4747314253)->.searchArea;(relation[\"amenity\"=\"صيدلية\"][\"amenity\"=\"farmacia\"][\"amenity\"=\"farmàcia\"][\"amenity\"=\"lékárna\"][\"amenity\"=\"apotek\"][\"amenity\"=\"apotheek\"][\"amenity\"=\"pharmacy\"][\"amenity\"=\"apteekki\"][\"amenity\"=\"pharmacie\"][\"amenity\"=\"Apotheke\"][\"amenity\"=\"gyógyszertár\"][\"amenity\"=\"farmacia\"][\"amenity\"=\"薬局\"][\"amenity\"=\"apteka\"][\"amenity\"=\"farmácia\"][\"amenity\"=\"аптека\"][\"amenity\"=\"lekáreň\"][\"amenity\"=\"farmacia\"][\"amenity\"=\"apotek\"][\"amenity\"=\"eczane\"][\"amenity\"=\"аптека\"][\"amenity\"=\"tiệm\"](area.searchArea);way[\"amenity\"=\"صيدلية\"][\"amenity\"=\"farmacia\"][\"amenity\"=\"farmàcia\"][\"amenity\"=\"lékárna\"][\"amenity\"=\"apotek\"][\"amenity\"=\"apotheek\"][\"amenity\"=\"pharmacy\"][\"amenity\"=\"apteekki\"][\"amenity\"=\"pharmacie\"][\"amenity\"=\"Apotheke\"][\"amenity\"=\"gyógyszertár\"][\"amenity\"=\"farmacia\"][\"amenity\"=\"薬局\"][\"amenity\"=\"apteka\"][\"amenity\"=\"farmácia\"][\"amenity\"=\"аптека\"][\"amenity\"=\"lekáreň\"][\"amenity\"=\"farmacia\"][\"amenity\"=\"apotek\"][\"amenity\"=\"eczane\"][\"amenity\"=\"аптека\"][\"amenity\"=\"tiệm\"](area.searchArea);); out count;\n",
      "[overpass] downloading data: [timeout:60][out:json];area(3939324562)->.searchArea;(relation[\"amenity\"=\"صيدلية\"][\"amenity\"=\"farmacia\"][\"amenity\"=\"farmàcia\"][\"amenity\"=\"lékárna\"][\"amenity\"=\"apotek\"][\"amenity\"=\"apotheek\"][\"amenity\"=\"pharmacy\"][\"amenity\"=\"apteekki\"][\"amenity\"=\"pharmacie\"][\"amenity\"=\"Apotheke\"][\"amenity\"=\"gyógyszertár\"][\"amenity\"=\"farmacia\"][\"amenity\"=\"薬局\"][\"amenity\"=\"apteka\"][\"amenity\"=\"farmácia\"][\"amenity\"=\"аптека\"][\"amenity\"=\"lekáreň\"][\"amenity\"=\"farmacia\"][\"amenity\"=\"apotek\"][\"amenity\"=\"eczane\"][\"amenity\"=\"аптека\"][\"amenity\"=\"tiệm\"](area.searchArea);way[\"amenity\"=\"صيدلية\"][\"amenity\"=\"farmacia\"][\"amenity\"=\"farmàcia\"][\"amenity\"=\"lékárna\"][\"amenity\"=\"apotek\"][\"amenity\"=\"apotheek\"][\"amenity\"=\"pharmacy\"][\"amenity\"=\"apteekki\"][\"amenity\"=\"pharmacie\"][\"amenity\"=\"Apotheke\"][\"amenity\"=\"gyógyszertár\"][\"amenity\"=\"farmacia\"][\"amenity\"=\"薬局\"][\"amenity\"=\"apteka\"][\"amenity\"=\"farmácia\"][\"amenity\"=\"аптека\"][\"amenity\"=\"lekáreň\"][\"amenity\"=\"farmacia\"][\"amenity\"=\"apotek\"][\"amenity\"=\"eczane\"][\"amenity\"=\"аптека\"][\"amenity\"=\"tiệm\"](area.searchArea);); out count;\n",
      "[overpass] downloading data: [timeout:60][out:json];area(3895342933)->.searchArea;(relation[\"amenity\"=\"صيدلية\"][\"amenity\"=\"farmacia\"][\"amenity\"=\"farmàcia\"][\"amenity\"=\"lékárna\"][\"amenity\"=\"apotek\"][\"amenity\"=\"apotheek\"][\"amenity\"=\"pharmacy\"][\"amenity\"=\"apteekki\"][\"amenity\"=\"pharmacie\"][\"amenity\"=\"Apotheke\"][\"amenity\"=\"gyógyszertár\"][\"amenity\"=\"farmacia\"][\"amenity\"=\"薬局\"][\"amenity\"=\"apteka\"][\"amenity\"=\"farmácia\"][\"amenity\"=\"аптека\"][\"amenity\"=\"lekáreň\"][\"amenity\"=\"farmacia\"][\"amenity\"=\"apotek\"][\"amenity\"=\"eczane\"][\"amenity\"=\"аптека\"][\"amenity\"=\"tiệm\"](area.searchArea);way[\"amenity\"=\"صيدلية\"][\"amenity\"=\"farmacia\"][\"amenity\"=\"farmàcia\"][\"amenity\"=\"lékárna\"][\"amenity\"=\"apotek\"][\"amenity\"=\"apotheek\"][\"amenity\"=\"pharmacy\"][\"amenity\"=\"apteekki\"][\"amenity\"=\"pharmacie\"][\"amenity\"=\"Apotheke\"][\"amenity\"=\"gyógyszertár\"][\"amenity\"=\"farmacia\"][\"amenity\"=\"薬局\"][\"amenity\"=\"apteka\"][\"amenity\"=\"farmácia\"][\"amenity\"=\"аптека\"][\"amenity\"=\"lekáreň\"][\"amenity\"=\"farmacia\"][\"amenity\"=\"apotek\"][\"amenity\"=\"eczane\"][\"amenity\"=\"аптека\"][\"amenity\"=\"tiệm\"](area.searchArea);); out count;\n",
      "[overpass] downloading data: [timeout:60][out:json];area(3601769123)->.searchArea;(relation[\"amenity\"=\"صيدلية\"][\"amenity\"=\"farmacia\"][\"amenity\"=\"farmàcia\"][\"amenity\"=\"lékárna\"][\"amenity\"=\"apotek\"][\"amenity\"=\"apotheek\"][\"amenity\"=\"pharmacy\"][\"amenity\"=\"apteekki\"][\"amenity\"=\"pharmacie\"][\"amenity\"=\"Apotheke\"][\"amenity\"=\"gyógyszertár\"][\"amenity\"=\"farmacia\"][\"amenity\"=\"薬局\"][\"amenity\"=\"apteka\"][\"amenity\"=\"farmácia\"][\"amenity\"=\"аптека\"][\"amenity\"=\"lekáreň\"][\"amenity\"=\"farmacia\"][\"amenity\"=\"apotek\"][\"amenity\"=\"eczane\"][\"amenity\"=\"аптека\"][\"amenity\"=\"tiệm\"](area.searchArea);way[\"amenity\"=\"صيدلية\"][\"amenity\"=\"farmacia\"][\"amenity\"=\"farmàcia\"][\"amenity\"=\"lékárna\"][\"amenity\"=\"apotek\"][\"amenity\"=\"apotheek\"][\"amenity\"=\"pharmacy\"][\"amenity\"=\"apteekki\"][\"amenity\"=\"pharmacie\"][\"amenity\"=\"Apotheke\"][\"amenity\"=\"gyógyszertár\"][\"amenity\"=\"farmacia\"][\"amenity\"=\"薬局\"][\"amenity\"=\"apteka\"][\"amenity\"=\"farmácia\"][\"amenity\"=\"аптека\"][\"amenity\"=\"lekáreň\"][\"amenity\"=\"farmacia\"][\"amenity\"=\"apotek\"][\"amenity\"=\"eczane\"][\"amenity\"=\"аптека\"][\"amenity\"=\"tiệm\"](area.searchArea);); out count;\n",
      "[overpass] downloading data: [timeout:60][out:json];area(4025746989)->.searchArea;(relation[\"amenity\"=\"صيدلية\"][\"amenity\"=\"farmacia\"][\"amenity\"=\"farmàcia\"][\"amenity\"=\"lékárna\"][\"amenity\"=\"apotek\"][\"amenity\"=\"apotheek\"][\"amenity\"=\"pharmacy\"][\"amenity\"=\"apteekki\"][\"amenity\"=\"pharmacie\"][\"amenity\"=\"Apotheke\"][\"amenity\"=\"gyógyszertár\"][\"amenity\"=\"farmacia\"][\"amenity\"=\"薬局\"][\"amenity\"=\"apteka\"][\"amenity\"=\"farmácia\"][\"amenity\"=\"аптека\"][\"amenity\"=\"lekáreň\"][\"amenity\"=\"farmacia\"][\"amenity\"=\"apotek\"][\"amenity\"=\"eczane\"][\"amenity\"=\"аптека\"][\"amenity\"=\"tiệm\"](area.searchArea);way[\"amenity\"=\"صيدلية\"][\"amenity\"=\"farmacia\"][\"amenity\"=\"farmàcia\"][\"amenity\"=\"lékárna\"][\"amenity\"=\"apotek\"][\"amenity\"=\"apotheek\"][\"amenity\"=\"pharmacy\"][\"amenity\"=\"apteekki\"][\"amenity\"=\"pharmacie\"][\"amenity\"=\"Apotheke\"][\"amenity\"=\"gyógyszertár\"][\"amenity\"=\"farmacia\"][\"amenity\"=\"薬局\"][\"amenity\"=\"apteka\"][\"amenity\"=\"farmácia\"][\"amenity\"=\"аптека\"][\"amenity\"=\"lekáreň\"][\"amenity\"=\"farmacia\"][\"amenity\"=\"apotek\"][\"amenity\"=\"eczane\"][\"amenity\"=\"аптека\"][\"amenity\"=\"tiệm\"](area.searchArea);); out count;\n",
      "[overpass] downloading data: [timeout:60][out:json];area(6485136501)->.searchArea;(relation[\"amenity\"=\"صيدلية\"][\"amenity\"=\"farmacia\"][\"amenity\"=\"farmàcia\"][\"amenity\"=\"lékárna\"][\"amenity\"=\"apotek\"][\"amenity\"=\"apotheek\"][\"amenity\"=\"pharmacy\"][\"amenity\"=\"apteekki\"][\"amenity\"=\"pharmacie\"][\"amenity\"=\"Apotheke\"][\"amenity\"=\"gyógyszertár\"][\"amenity\"=\"farmacia\"][\"amenity\"=\"薬局\"][\"amenity\"=\"apteka\"][\"amenity\"=\"farmácia\"][\"amenity\"=\"аптека\"][\"amenity\"=\"lekáreň\"][\"amenity\"=\"farmacia\"][\"amenity\"=\"apotek\"][\"amenity\"=\"eczane\"][\"amenity\"=\"аптека\"][\"amenity\"=\"tiệm\"](area.searchArea);way[\"amenity\"=\"صيدلية\"][\"amenity\"=\"farmacia\"][\"amenity\"=\"farmàcia\"][\"amenity\"=\"lékárna\"][\"amenity\"=\"apotek\"][\"amenity\"=\"apotheek\"][\"amenity\"=\"pharmacy\"][\"amenity\"=\"apteekki\"][\"amenity\"=\"pharmacie\"][\"amenity\"=\"Apotheke\"][\"amenity\"=\"gyógyszertár\"][\"amenity\"=\"farmacia\"][\"amenity\"=\"薬局\"][\"amenity\"=\"apteka\"][\"amenity\"=\"farmácia\"][\"amenity\"=\"аптека\"][\"amenity\"=\"lekáreň\"][\"amenity\"=\"farmacia\"][\"amenity\"=\"apotek\"][\"amenity\"=\"eczane\"][\"amenity\"=\"аптека\"][\"amenity\"=\"tiệm\"](area.searchArea);); out count;\n",
      "[overpass] downloading data: [timeout:60][out:json];area(5299083598)->.searchArea;(relation[\"amenity\"=\"صيدلية\"][\"amenity\"=\"farmacia\"][\"amenity\"=\"farmàcia\"][\"amenity\"=\"lékárna\"][\"amenity\"=\"apotek\"][\"amenity\"=\"apotheek\"][\"amenity\"=\"pharmacy\"][\"amenity\"=\"apteekki\"][\"amenity\"=\"pharmacie\"][\"amenity\"=\"Apotheke\"][\"amenity\"=\"gyógyszertár\"][\"amenity\"=\"farmacia\"][\"amenity\"=\"薬局\"][\"amenity\"=\"apteka\"][\"amenity\"=\"farmácia\"][\"amenity\"=\"аптека\"][\"amenity\"=\"lekáreň\"][\"amenity\"=\"farmacia\"][\"amenity\"=\"apotek\"][\"amenity\"=\"eczane\"][\"amenity\"=\"аптека\"][\"amenity\"=\"tiệm\"](area.searchArea);way[\"amenity\"=\"صيدلية\"][\"amenity\"=\"farmacia\"][\"amenity\"=\"farmàcia\"][\"amenity\"=\"lékárna\"][\"amenity\"=\"apotek\"][\"amenity\"=\"apotheek\"][\"amenity\"=\"pharmacy\"][\"amenity\"=\"apteekki\"][\"amenity\"=\"pharmacie\"][\"amenity\"=\"Apotheke\"][\"amenity\"=\"gyógyszertár\"][\"amenity\"=\"farmacia\"][\"amenity\"=\"薬局\"][\"amenity\"=\"apteka\"][\"amenity\"=\"farmácia\"][\"amenity\"=\"аптека\"][\"amenity\"=\"lekáreň\"][\"amenity\"=\"farmacia\"][\"amenity\"=\"apotek\"][\"amenity\"=\"eczane\"][\"amenity\"=\"аптека\"][\"amenity\"=\"tiệm\"](area.searchArea);); out count;\n",
      "[overpass] downloading data: [timeout:60][out:json];area(6768342084)->.searchArea;(relation[\"amenity\"=\"صيدلية\"][\"amenity\"=\"farmacia\"][\"amenity\"=\"farmàcia\"][\"amenity\"=\"lékárna\"][\"amenity\"=\"apotek\"][\"amenity\"=\"apotheek\"][\"amenity\"=\"pharmacy\"][\"amenity\"=\"apteekki\"][\"amenity\"=\"pharmacie\"][\"amenity\"=\"Apotheke\"][\"amenity\"=\"gyógyszertár\"][\"amenity\"=\"farmacia\"][\"amenity\"=\"薬局\"][\"amenity\"=\"apteka\"][\"amenity\"=\"farmácia\"][\"amenity\"=\"аптека\"][\"amenity\"=\"lekáreň\"][\"amenity\"=\"farmacia\"][\"amenity\"=\"apotek\"][\"amenity\"=\"eczane\"][\"amenity\"=\"аптека\"][\"amenity\"=\"tiệm\"](area.searchArea);way[\"amenity\"=\"صيدلية\"][\"amenity\"=\"farmacia\"][\"amenity\"=\"farmàcia\"][\"amenity\"=\"lékárna\"][\"amenity\"=\"apotek\"][\"amenity\"=\"apotheek\"][\"amenity\"=\"pharmacy\"][\"amenity\"=\"apteekki\"][\"amenity\"=\"pharmacie\"][\"amenity\"=\"Apotheke\"][\"amenity\"=\"gyógyszertár\"][\"amenity\"=\"farmacia\"][\"amenity\"=\"薬局\"][\"amenity\"=\"apteka\"][\"amenity\"=\"farmácia\"][\"amenity\"=\"аптека\"][\"amenity\"=\"lekáreň\"][\"amenity\"=\"farmacia\"][\"amenity\"=\"apotek\"][\"amenity\"=\"eczane\"][\"amenity\"=\"аптека\"][\"amenity\"=\"tiệm\"](area.searchArea);); out count;\n"
     ]
    },
    {
     "name": "stderr",
     "output_type": "stream",
     "text": [
      "[overpass] downloading data: [timeout:60][out:json];area(3620981158)->.searchArea;(relation[\"amenity\"=\"صيدلية\"][\"amenity\"=\"farmacia\"][\"amenity\"=\"farmàcia\"][\"amenity\"=\"lékárna\"][\"amenity\"=\"apotek\"][\"amenity\"=\"apotheek\"][\"amenity\"=\"pharmacy\"][\"amenity\"=\"apteekki\"][\"amenity\"=\"pharmacie\"][\"amenity\"=\"Apotheke\"][\"amenity\"=\"gyógyszertár\"][\"amenity\"=\"farmacia\"][\"amenity\"=\"薬局\"][\"amenity\"=\"apteka\"][\"amenity\"=\"farmácia\"][\"amenity\"=\"аптека\"][\"amenity\"=\"lekáreň\"][\"amenity\"=\"farmacia\"][\"amenity\"=\"apotek\"][\"amenity\"=\"eczane\"][\"amenity\"=\"аптека\"][\"amenity\"=\"tiệm\"](area.searchArea);way[\"amenity\"=\"صيدلية\"][\"amenity\"=\"farmacia\"][\"amenity\"=\"farmàcia\"][\"amenity\"=\"lékárna\"][\"amenity\"=\"apotek\"][\"amenity\"=\"apotheek\"][\"amenity\"=\"pharmacy\"][\"amenity\"=\"apteekki\"][\"amenity\"=\"pharmacie\"][\"amenity\"=\"Apotheke\"][\"amenity\"=\"gyógyszertár\"][\"amenity\"=\"farmacia\"][\"amenity\"=\"薬局\"][\"amenity\"=\"apteka\"][\"amenity\"=\"farmácia\"][\"amenity\"=\"аптека\"][\"amenity\"=\"lekáreň\"][\"amenity\"=\"farmacia\"][\"amenity\"=\"apotek\"][\"amenity\"=\"eczane\"][\"amenity\"=\"аптека\"][\"amenity\"=\"tiệm\"](area.searchArea);); out count;\n"
     ]
    }
   ],
   "source": [
    "nominatim = Nominatim()\n",
    "\n",
    "def get_capital_id(country) -> int:\n",
    "    area_id = nominatim.query(country.tag('name:en')).areaId()\n",
    "    relation = api.RelationGet(f'{area_id - 3_600_000_000}')\n",
    "    \n",
    "    # Taiwan is out of admin_center via API, however, via OSM site they have it :thinking:\n",
    "    node_id = {\n",
    "        'Taiwan': 1147314253,\n",
    "        'Singapore': area_id - 3_600_000_000\n",
    "    }.get(country.tag('name:en'), -1)\n",
    "    if node_id == -1:\n",
    "        node_id = list(filter(lambda member: member['role'] == 'admin_centre', relation['member']))[0]['ref']\n",
    "    return node_id\n",
    "\n",
    "pharmacy_names = pd.read_csv('../data/pharmacy.csv').Translation\n",
    "def count_pharmacy(capital_id) -> int:\n",
    "    query = overpassQueryBuilder(area=capital_id + 3_600_000_000,\n",
    "                                 elementType=['relation', 'way'],\n",
    "                                 selector=[f'\"amenity\"=\"{name}\"' for name in pharmacy_names],\n",
    "                                 out='count')\n",
    "    return overpass.query(query, timeout=60).countElements()\n",
    "\n",
    "dimensions_pharmacy = OrderedDict({\n",
    "    'country': OrderedDict({\n",
    "        country.tag('name:en'): get_capital_id(country)\n",
    "        for country in countries\n",
    "    })\n",
    "})\n",
    "\n",
    "data_pharmacy = Data(count_pharmacy, dimensions_pharmacy)"
   ]
  },
  {
   "cell_type": "code",
   "execution_count": 293,
   "metadata": {},
   "outputs": [
    {
     "data": {
      "text/plain": [
       "\n",
       "                          value\n",
       "country                        \n",
       "Brazil                        0\n",
       "Estonia                       0\n",
       "Australia                     0\n",
       "Eswatini                      0\n",
       "Bangladesh                    0\n",
       "Syria                         0\n",
       "Liberia                       0\n",
       "Central African Republic      0\n",
       "Ethiopia                      0\n",
       "Cameroon                      0\n",
       "Tanzania                      0\n",
       "Malawi                        0\n",
       "Uzbekistan                    0\n",
       "Honduras                      0\n",
       "Portugal                      0\n",
       "Azerbaijan                    0\n",
       "Taiwan                        0\n",
       "Comoros                       0\n",
       "São Tomé and Príncipe         0\n",
       "Singapore                     0\n",
       "Antigua and Barbuda           0\n",
       "Kosovo                        0\n",
       "Brunei                        0\n",
       "Tokelau                       0\n",
       "Norway                        0"
      ]
     },
     "execution_count": 293,
     "metadata": {},
     "output_type": "execute_result"
    }
   ],
   "source": [
    "data_pharmacy"
   ]
  },
  {
   "cell_type": "markdown",
   "metadata": {},
   "source": [
    "## Задание №3. Поездка по Нью-Йорку (маршрут - 20 баллов, визуализация - 10 баллов)."
   ]
  },
  {
   "cell_type": "markdown",
   "metadata": {},
   "source": [
    "Добраться __на автомобиле__ от входа в ``Central Park`` __Нью-Йорка__ (со стороны ``5th Avenue``) до пересечения ``Water Street`` и ``Washington Street`` в Бруклине (откуда получаются лучшие фото Манхэттенского моста) довольно непросто - разумеется, из-за вечных пробок. Однако еще сложнее это сделать, проезжая мимо школ, где дети то и дело переходят дорогу в неположенном месте."
   ]
  },
  {
   "cell_type": "markdown",
   "metadata": {},
   "source": [
    "Вам необходимо построить описанный выше маршрут, избегая на своем пути школы. Визуализируйте данный маршрут (также добавив школы и недоступные для проезда участки дорог) при помощи ``Folium``"
   ]
  },
  {
   "cell_type": "markdown",
   "metadata": {},
   "source": [
    "Данные о расположении школ Нью-Йорка можно найти [здесь](https://catalog.data.gov/dataset/2019-2020-school-point-locations)"
   ]
  },
  {
   "cell_type": "code",
   "execution_count": null,
   "metadata": {},
   "outputs": [],
   "source": [
    "# put your code here"
   ]
  }
 ],
 "metadata": {
  "kernelspec": {
   "display_name": "Python 3",
   "language": "python",
   "name": "python3"
  },
  "language_info": {
   "codemirror_mode": {
    "name": "ipython",
    "version": 3
   },
   "file_extension": ".py",
   "mimetype": "text/x-python",
   "name": "python",
   "nbconvert_exporter": "python",
   "pygments_lexer": "ipython3",
   "version": "3.7.3"
  }
 },
 "nbformat": 4,
 "nbformat_minor": 4
}
